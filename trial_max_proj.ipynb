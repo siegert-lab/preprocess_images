{
 "cells": [
  {
   "cell_type": "code",
   "execution_count": 1,
   "metadata": {},
   "outputs": [],
   "source": [
    "%load_ext autoreload\n",
    "%autoreload 2"
   ]
  },
  {
   "cell_type": "code",
   "execution_count": 9,
   "metadata": {},
   "outputs": [],
   "source": [
    "from process_czi import get_channel_info, get_czi_info, _get_chunk_bbox, chunk_and_save_czi, _get_channel_idx\n",
    "from io_images import get_images_infoframe\n",
    "import czifile\n",
    "import os\n",
    "import aicspylibczi\n",
    "import numpy as np\n",
    "import plotly.express as px"
   ]
  },
  {
   "cell_type": "code",
   "execution_count": 3,
   "metadata": {},
   "outputs": [],
   "source": [
    "# Brain Slices\n",
    "# folder_path = 'data'\n",
    "folder_path = \"/run/user/1001/gvfs/smb-share:server=fs.ista.ac.at,share=drives/tnegrell/archive/siegegrp/AlVe/MORPHOMICS2.0_MICROGLIA_BRAIN_ATLAS\"\n"
   ]
  },
  {
   "cell_type": "code",
   "execution_count": 4,
   "metadata": {},
   "outputs": [
    {
     "name": "stdout",
     "output_type": "stream",
     "text": [
      "Contents of the folder:\n",
      "siegegrp00037.czi\n",
      "siegegrp00032.czi\n",
      "siegegrp00033.czi\n",
      "siegegrp00034.czi\n",
      "MAX_C1-siegegrp00030.czi - siegegrp00030.czi #1.tif\n",
      "siegegrp00035.czi\n",
      "siegegrp00043.czi\n",
      "C2-siegegrp00030.czi - siegegrp00030.czi #1.tif\n",
      "siegegrp00031.czi\n",
      "siegegrp00040.czi\n",
      "siegegrp00041.czi\n",
      "siegegrp00042.czi\n",
      "siegegrp00036.czi\n",
      "siegegrp00030.czi\n",
      "siegegrp00039.czi\n",
      "siegegrp00038.czi\n"
     ]
    }
   ],
   "source": [
    "# List all files and directories in the folder\n",
    "contents = os.listdir(folder_path)\n",
    "\n",
    "print(\"Contents of the folder:\")\n",
    "for item in contents:\n",
    "    print(item)"
   ]
  },
  {
   "cell_type": "code",
   "execution_count": 5,
   "metadata": {},
   "outputs": [
    {
     "name": "stdout",
     "output_type": "stream",
     "text": [
      "Found 14 files...\n",
      "There are 14 files in folder_location\n"
     ]
    }
   ],
   "source": [
    "# infoframe = get_images_infoframe(folder_path, conditions=['Animal'])\n",
    "infoframe = get_images_infoframe(folder_path)"
   ]
  },
  {
   "cell_type": "code",
   "execution_count": 6,
   "metadata": {},
   "outputs": [
    {
     "data": {
      "text/html": [
       "<div>\n",
       "<style scoped>\n",
       "    .dataframe tbody tr th:only-of-type {\n",
       "        vertical-align: middle;\n",
       "    }\n",
       "\n",
       "    .dataframe tbody tr th {\n",
       "        vertical-align: top;\n",
       "    }\n",
       "\n",
       "    .dataframe thead th {\n",
       "        text-align: right;\n",
       "    }\n",
       "</style>\n",
       "<table border=\"1\" class=\"dataframe\">\n",
       "  <thead>\n",
       "    <tr style=\"text-align: right;\">\n",
       "      <th></th>\n",
       "      <th>file_name</th>\n",
       "      <th>file_path</th>\n",
       "    </tr>\n",
       "  </thead>\n",
       "  <tbody>\n",
       "    <tr>\n",
       "      <th>0</th>\n",
       "      <td>siegegrp00037.czi</td>\n",
       "      <td>/run/user/1001/gvfs/smb-share:server=fs.ista.a...</td>\n",
       "    </tr>\n",
       "    <tr>\n",
       "      <th>1</th>\n",
       "      <td>siegegrp00032.czi</td>\n",
       "      <td>/run/user/1001/gvfs/smb-share:server=fs.ista.a...</td>\n",
       "    </tr>\n",
       "    <tr>\n",
       "      <th>2</th>\n",
       "      <td>siegegrp00033.czi</td>\n",
       "      <td>/run/user/1001/gvfs/smb-share:server=fs.ista.a...</td>\n",
       "    </tr>\n",
       "    <tr>\n",
       "      <th>3</th>\n",
       "      <td>siegegrp00034.czi</td>\n",
       "      <td>/run/user/1001/gvfs/smb-share:server=fs.ista.a...</td>\n",
       "    </tr>\n",
       "    <tr>\n",
       "      <th>4</th>\n",
       "      <td>siegegrp00035.czi</td>\n",
       "      <td>/run/user/1001/gvfs/smb-share:server=fs.ista.a...</td>\n",
       "    </tr>\n",
       "    <tr>\n",
       "      <th>5</th>\n",
       "      <td>siegegrp00043.czi</td>\n",
       "      <td>/run/user/1001/gvfs/smb-share:server=fs.ista.a...</td>\n",
       "    </tr>\n",
       "    <tr>\n",
       "      <th>6</th>\n",
       "      <td>siegegrp00031.czi</td>\n",
       "      <td>/run/user/1001/gvfs/smb-share:server=fs.ista.a...</td>\n",
       "    </tr>\n",
       "    <tr>\n",
       "      <th>7</th>\n",
       "      <td>siegegrp00040.czi</td>\n",
       "      <td>/run/user/1001/gvfs/smb-share:server=fs.ista.a...</td>\n",
       "    </tr>\n",
       "    <tr>\n",
       "      <th>8</th>\n",
       "      <td>siegegrp00041.czi</td>\n",
       "      <td>/run/user/1001/gvfs/smb-share:server=fs.ista.a...</td>\n",
       "    </tr>\n",
       "    <tr>\n",
       "      <th>9</th>\n",
       "      <td>siegegrp00042.czi</td>\n",
       "      <td>/run/user/1001/gvfs/smb-share:server=fs.ista.a...</td>\n",
       "    </tr>\n",
       "    <tr>\n",
       "      <th>10</th>\n",
       "      <td>siegegrp00036.czi</td>\n",
       "      <td>/run/user/1001/gvfs/smb-share:server=fs.ista.a...</td>\n",
       "    </tr>\n",
       "    <tr>\n",
       "      <th>11</th>\n",
       "      <td>siegegrp00030.czi</td>\n",
       "      <td>/run/user/1001/gvfs/smb-share:server=fs.ista.a...</td>\n",
       "    </tr>\n",
       "    <tr>\n",
       "      <th>12</th>\n",
       "      <td>siegegrp00039.czi</td>\n",
       "      <td>/run/user/1001/gvfs/smb-share:server=fs.ista.a...</td>\n",
       "    </tr>\n",
       "    <tr>\n",
       "      <th>13</th>\n",
       "      <td>siegegrp00038.czi</td>\n",
       "      <td>/run/user/1001/gvfs/smb-share:server=fs.ista.a...</td>\n",
       "    </tr>\n",
       "  </tbody>\n",
       "</table>\n",
       "</div>"
      ],
      "text/plain": [
       "            file_name                                          file_path\n",
       "0   siegegrp00037.czi  /run/user/1001/gvfs/smb-share:server=fs.ista.a...\n",
       "1   siegegrp00032.czi  /run/user/1001/gvfs/smb-share:server=fs.ista.a...\n",
       "2   siegegrp00033.czi  /run/user/1001/gvfs/smb-share:server=fs.ista.a...\n",
       "3   siegegrp00034.czi  /run/user/1001/gvfs/smb-share:server=fs.ista.a...\n",
       "4   siegegrp00035.czi  /run/user/1001/gvfs/smb-share:server=fs.ista.a...\n",
       "5   siegegrp00043.czi  /run/user/1001/gvfs/smb-share:server=fs.ista.a...\n",
       "6   siegegrp00031.czi  /run/user/1001/gvfs/smb-share:server=fs.ista.a...\n",
       "7   siegegrp00040.czi  /run/user/1001/gvfs/smb-share:server=fs.ista.a...\n",
       "8   siegegrp00041.czi  /run/user/1001/gvfs/smb-share:server=fs.ista.a...\n",
       "9   siegegrp00042.czi  /run/user/1001/gvfs/smb-share:server=fs.ista.a...\n",
       "10  siegegrp00036.czi  /run/user/1001/gvfs/smb-share:server=fs.ista.a...\n",
       "11  siegegrp00030.czi  /run/user/1001/gvfs/smb-share:server=fs.ista.a...\n",
       "12  siegegrp00039.czi  /run/user/1001/gvfs/smb-share:server=fs.ista.a...\n",
       "13  siegegrp00038.czi  /run/user/1001/gvfs/smb-share:server=fs.ista.a..."
      ]
     },
     "execution_count": 6,
     "metadata": {},
     "output_type": "execute_result"
    }
   ],
   "source": [
    "infoframe"
   ]
  },
  {
   "cell_type": "code",
   "execution_count": 7,
   "metadata": {},
   "outputs": [
    {
     "data": {
      "text/plain": [
       "'/run/user/1001/gvfs/smb-share:server=fs.ista.ac.at,share=drives/tnegrell/archive/siegegrp/AlVe/MORPHOMICS2.0_MICROGLIA_BRAIN_ATLAS/siegegrp00043.czi'"
      ]
     },
     "execution_count": 7,
     "metadata": {},
     "output_type": "execute_result"
    }
   ],
   "source": [
    "czi_path = infoframe.iloc[5]['file_path']\n",
    "czi_path"
   ]
  },
  {
   "cell_type": "code",
   "execution_count": 8,
   "metadata": {},
   "outputs": [
    {
     "name": "stdout",
     "output_type": "stream",
     "text": [
      "Channel ID: Channel:0\n",
      "Name: DAPI\n",
      "Dye: DAPI\n",
      "Emission: 465\n",
      "Excitation: 353\n",
      "Color: #FF00A0FF\n",
      "------------------------------\n",
      "Channel ID: Channel:1\n",
      "Name: EGFP\n",
      "Dye: EGFP\n",
      "Emission: 509\n",
      "Excitation: 488\n",
      "Color: #FF00FF5B\n",
      "------------------------------\n"
     ]
    }
   ],
   "source": [
    "get_channel_info(czi_path)\n"
   ]
  },
  {
   "cell_type": "code",
   "execution_count": 13,
   "metadata": {},
   "outputs": [
    {
     "name": "stdout",
     "output_type": "stream",
     "text": [
      "There are 2 tissue slices in this file\n"
     ]
    }
   ],
   "source": [
    "czi_file = aicspylibczi.CziFile(czi_path)\n",
    "# Take the correct chanel that contains the nucleus\n",
    "metadata = czi_file.meta\n",
    "correct_channel_idx = _get_channel_idx(metadata, 'DAPI')\n",
    "\n",
    "bbox = czi_file.get_all_scene_bounding_boxes()\n",
    "sequences = czi_file.get_dims_shape()\n",
    "nb_seq = len(sequences)\n",
    "print(f\"There are {nb_seq} tissue slices in this file\")\n",
    "maxproj_list = []"
   ]
  },
  {
   "cell_type": "code",
   "execution_count": 12,
   "metadata": {},
   "outputs": [],
   "source": [
    "from utils import downsample_by_2"
   ]
  },
  {
   "cell_type": "code",
   "execution_count": null,
   "metadata": {},
   "outputs": [
    {
     "name": "stdout",
     "output_type": "stream",
     "text": [
      "<class 'int'>\n"
     ]
    }
   ],
   "source": [
    "s=0\n",
    "z_len = sequences[s]['Z'][1] - sequences[s]['Z'][0]  # Depth (Z-axis)\n",
    "x_min, y_min, w, h = bbox[s].x, bbox[s].y, bbox[s].w, bbox[s].h  # Bounding box details\n",
    "print(w,h)\n",
    "previous_image = np.zeros((w, h))\n",
    "previous_image = downsample_by_2(previous_image)"
   ]
  },
  {
   "cell_type": "code",
   "execution_count": 17,
   "metadata": {},
   "outputs": [],
   "source": [
    "z_image = czi_file.read_mosaic(region = (x_min, y_min, w, h), \n",
    "                                            scale_factor = 1.0, \n",
    "                                            C = correct_channel_idx, \n",
    "                                            Z = 0,\n",
    "                                            dtype = np.uint8,\n",
    "                                            )[0][0]"
   ]
  },
  {
   "cell_type": "code",
   "execution_count": 21,
   "metadata": {},
   "outputs": [
    {
     "data": {
      "text/plain": [
       "66.19188538938761"
      ]
     },
     "execution_count": 21,
     "metadata": {},
     "output_type": "execute_result"
    }
   ],
   "source": [
    "z_image.shape[0]*z_image.shape[1]/1024**3*51*2"
   ]
  },
  {
   "cell_type": "code",
   "execution_count": 22,
   "metadata": {},
   "outputs": [],
   "source": [
    "z_image = downsample_by_2(z_image)\n"
   ]
  },
  {
   "cell_type": "code",
   "execution_count": 24,
   "metadata": {},
   "outputs": [],
   "source": [
    "z_image = np.transpose(z_image, (1, 0))\n"
   ]
  },
  {
   "cell_type": "code",
   "execution_count": 25,
   "metadata": {},
   "outputs": [],
   "source": [
    "previous_image = np.maximum(z_image, previous_image)\n"
   ]
  },
  {
   "cell_type": "code",
   "execution_count": 26,
   "metadata": {},
   "outputs": [
    {
     "data": {
      "text/plain": [
       "(11143, 15633)"
      ]
     },
     "execution_count": 26,
     "metadata": {},
     "output_type": "execute_result"
    }
   ],
   "source": [
    "previous_image.shape"
   ]
  },
  {
   "cell_type": "code",
   "execution_count": null,
   "metadata": {},
   "outputs": [],
   "source": [
    "from utils import plot_image\n",
    "plot_image(previous_image)"
   ]
  },
  {
   "cell_type": "code",
   "execution_count": null,
   "metadata": {},
   "outputs": [],
   "source": [
    "\n",
    "for s, seq in enumerate(sequences):\n",
    "    if seq['S'][1]-seq['S'][0] == 1:\n",
    "        z_len = sequences[s]['Z'][1] - sequences[s]['Z'][0]  # Depth (Z-axis)\n",
    "        x_min, y_min, w, h = bbox[s].x, bbox[s].y, bbox[s].w, bbox[s].h  # Bounding box details\n",
    "        previous_image = np.zeros(w, h)\n",
    "        previous_image = downsample_by_2(previous_image)\n",
    "        for z in range(z_len):\n",
    "            z_image = czi_file.read_mosaic(region = (x_min, y_min, w, h), \n",
    "                                            scale_factor = 1.0, \n",
    "                                            C = correct_channel_idx, \n",
    "                                            Z = z,\n",
    "                                            dtype = np.uint8,\n",
    "                                            )[0][0] # The function returns an array (1,1,y,x)\n",
    "            z_image = downsample_by_2(z_image)\n",
    "            z_image = np.transpose(z_image, (1, 0))\n",
    "            previous_image = np.maximum(z_image, previous_image)\n",
    "        maxproj_list.append(previous_image)"
   ]
  }
 ],
 "metadata": {
  "kernelspec": {
   "display_name": "bioimag",
   "language": "python",
   "name": "python3"
  },
  "language_info": {
   "codemirror_mode": {
    "name": "ipython",
    "version": 3
   },
   "file_extension": ".py",
   "mimetype": "text/x-python",
   "name": "python",
   "nbconvert_exporter": "python",
   "pygments_lexer": "ipython3",
   "version": "3.10.16"
  }
 },
 "nbformat": 4,
 "nbformat_minor": 2
}
