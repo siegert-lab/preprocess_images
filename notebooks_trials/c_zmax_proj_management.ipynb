{
 "cells": [
  {
   "cell_type": "code",
   "execution_count": 1,
   "metadata": {},
   "outputs": [],
   "source": [
    "%load_ext autoreload\n",
    "%autoreload 2"
   ]
  },
  {
   "cell_type": "code",
   "execution_count": 2,
   "metadata": {},
   "outputs": [],
   "source": [
    "import sys\n",
    "import os\n",
    "\n",
    "# Add the directory above the current notebook to the system path\n",
    "sys.path.append(os.path.abspath(os.path.join('..')))"
   ]
  },
  {
   "cell_type": "markdown",
   "metadata": {},
   "source": [
    "Folder Path"
   ]
  },
  {
   "cell_type": "code",
   "execution_count": null,
   "metadata": {},
   "outputs": [],
   "source": [
    "windows = \"nt\" in os.name\n",
    "folder_path = r\"\\\\fs.ista.ac.at\\drives\\aventuri\\archive\\siegegrp\\AlVe\\MORPHOMICS2.0_MICROGLIA_BRAIN_ATLAS\"\n"
   ]
  },
  {
   "cell_type": "markdown",
   "metadata": {},
   "source": [
    "Get the infoframe"
   ]
  },
  {
   "cell_type": "code",
   "execution_count": 4,
   "metadata": {},
   "outputs": [],
   "source": [
    "from io_images import get_images_infoframe"
   ]
  },
  {
   "cell_type": "code",
   "execution_count": null,
   "metadata": {},
   "outputs": [],
   "source": [
    "project_path = os.path.join(folder_path, \"chunk_images\")\n",
    "\n",
    "infoframe = get_images_infoframe(project_path, \n",
    "                                 conditions=['Age', 'Sex', 'Animal', 'Slide'], \n",
    "                                 extension=\"*.tif*\")"
   ]
  },
  {
   "cell_type": "code",
   "execution_count": 20,
   "metadata": {},
   "outputs": [],
   "source": [
    "infoframe = infoframe[~infoframe['file_name'].str.contains('chunk')]\n"
   ]
  },
  {
   "cell_type": "code",
   "execution_count": null,
   "metadata": {},
   "outputs": [],
   "source": [
    "infoframe"
   ]
  },
  {
   "cell_type": "markdown",
   "metadata": {},
   "source": [
    "Change name "
   ]
  },
  {
   "cell_type": "code",
   "execution_count": 22,
   "metadata": {},
   "outputs": [],
   "source": [
    "from utils import update_file_name_and_path\n",
    "project_path = folder_path = r\"\\\\fs.ista.ac.at\\drives\\aventuri\\archive\\siegegrp\\AlVe\\MORPHOMICS2.0_MICROGLIA_BRAIN_ATLAS\"\n",
    "infoframe = update_file_name_and_path(dataframe = infoframe, \n",
    "                                      folder_name = 'zmax_projections', \n",
    "                                      project_path = project_path)"
   ]
  },
  {
   "cell_type": "code",
   "execution_count": null,
   "metadata": {},
   "outputs": [],
   "source": [
    "infoframe"
   ]
  },
  {
   "cell_type": "code",
   "execution_count": null,
   "metadata": {},
   "outputs": [],
   "source": [
    "infoframe['old_file_path'].iloc[0]"
   ]
  },
  {
   "cell_type": "code",
   "execution_count": null,
   "metadata": {},
   "outputs": [],
   "source": [
    "infoframe['file_path'].iloc[0]"
   ]
  },
  {
   "cell_type": "markdown",
   "metadata": {},
   "source": [
    "move z max"
   ]
  },
  {
   "cell_type": "code",
   "execution_count": null,
   "metadata": {},
   "outputs": [],
   "source": [
    "from io_images import move_files\n",
    "\n",
    "move_files(infoframe)"
   ]
  }
 ],
 "metadata": {
  "kernelspec": {
   "display_name": "bioimag",
   "language": "python",
   "name": "bioimag"
  },
  "language_info": {
   "codemirror_mode": {
    "name": "ipython",
    "version": 3
   },
   "file_extension": ".py",
   "mimetype": "text/x-python",
   "name": "python",
   "nbconvert_exporter": "python",
   "pygments_lexer": "ipython3",
   "version": "3.10.11"
  }
 },
 "nbformat": 4,
 "nbformat_minor": 2
}
