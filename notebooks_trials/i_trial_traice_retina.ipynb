{
 "cells": [
  {
   "cell_type": "code",
   "execution_count": 1,
   "metadata": {},
   "outputs": [],
   "source": [
    "%load_ext autoreload\n",
    "%autoreload 2"
   ]
  },
  {
   "cell_type": "code",
   "execution_count": 22,
   "metadata": {},
   "outputs": [],
   "source": [
    "from io_images import get_images_infoframe\n",
    "import paramiko\n",
    "import os \n",
    "from process_ims import get_ims_pixel_size\n",
    "import tifffile\n",
    "import numpy as np\n",
    "import subprocess\n"
   ]
  },
  {
   "cell_type": "markdown",
   "metadata": {},
   "source": [
    "Get chunk images .tiff"
   ]
  },
  {
   "cell_type": "code",
   "execution_count": 23,
   "metadata": {},
   "outputs": [],
   "source": [
    "base_path = \"/mnt/gdrive/ThNe/development_retina/\"\n",
    "# input_folder = \"microglia/P15/F/L/\" \n",
    "input_folder = \"trila_fuse_mg\"\n",
    "output_folder = \"traice\"\n",
    "# filename = \"microglia_Age_P15_Sex_F_Side_L_Animal_1.tif\"\n",
    "# filename = \"fused_tp_0_ch_2.tif\"\n",
    "# filename = \"microglia_Age_P15_Sex_F_Side_L_Animal_1.tif\"\n",
    "filename = \"microglia_Age_P21_Sex_F_Side_L_Animal_1_chunk_1_trick.tif\""
   ]
  },
  {
   "cell_type": "code",
   "execution_count": null,
   "metadata": {},
   "outputs": [],
   "source": [
    "full_path = os.path.join(base_path, input_folder, filename)\n",
    "# Load the TIFF file\n",
    "with tifffile.TiffFile(full_path) as tif:\n",
    "    data = tif.asarray()[8:72] \n"
   ]
  },
  {
   "cell_type": "code",
   "execution_count": null,
   "metadata": {},
   "outputs": [],
   "source": [
    "# import matplotlib.pyplot as plt\n",
    "# from skimage import exposure\n",
    "\n",
    "# # Define Z slices and crop region\n",
    "# z_slices = range(5, 45, 3)\n",
    "# x_range = slice(2500, 4000)\n",
    "# y_range = slice(2500, 4000)\n",
    "\n",
    "# # Plot each selected slice\n",
    "# fig, axes = plt.subplots(1, len(z_slices), figsize=(15, 5))\n",
    "# for ax, z in zip(axes, z_slices):\n",
    "#     img = data[z, x_range, y_range]\n",
    "#     tile_clahe = exposure.equalize_adapthist(img, clip_limit=0.1)\n",
    "\n",
    "#     ax.imshow(tile_clahe, cmap='gray')\n",
    "#     ax.set_title(f\"Z={z}\")\n",
    "#     ax.axis('off')\n",
    "\n",
    "# plt.tight_layout()\n",
    "# plt.show()\n"
   ]
  },
  {
   "cell_type": "code",
   "execution_count": 11,
   "metadata": {},
   "outputs": [],
   "source": [
    "pix_size = {\n",
    "    'x': 0.339024328759285,\n",
    "    'y': 0.339024328759285,\n",
    "    'z': 0.9\n",
    "}"
   ]
  },
  {
   "cell_type": "code",
   "execution_count": 12,
   "metadata": {},
   "outputs": [
    {
     "name": "stdout",
     "output_type": "stream",
     "text": [
      "Saved new file to: /mnt/gdrive/ThNe/development_retina/trila_fuse_mg/microglia_Age_P21_Sex_F_Side_L_Animal_1_chunk_1.tif\n"
     ]
    }
   ],
   "source": [
    "size = data.shape\n",
    "# Create new metadata\n",
    "metadata = {\n",
    "    # Physical dimensions in microns\n",
    "    \"ExtendMinX\": 0,\n",
    "    \"ExtendMaxX\": size[2] * pix_size['x'],\n",
    "    \"ExtendMinY\": 0,\n",
    "    \"ExtendMaxY\": size[1] * pix_size['y'],\n",
    "    \"ExtendMinZ\": 0,\n",
    "    \"ExtendMaxZ\": size[0] * pix_size['z'],\n",
    "    # Dimensions in pixels\n",
    "    \"SizeX\": size[2],\n",
    "    \"SizeY\": size[1],\n",
    "    \"SizeZ\": size[0],\n",
    "}\n",
    "\n",
    "\n",
    "# Save to new file\n",
    "new_filename = \"microglia_Age_P21_Sex_F_Side_L_Animal_1_chunk_1.tif\"\n",
    "new_path = os.path.join(base_path, input_folder, new_filename)\n",
    "\n",
    "tifffile.imwrite(new_path, data, metadata=metadata)\n",
    "\n",
    "print(f\"Saved new file to: {new_path}\")\n"
   ]
  },
  {
   "cell_type": "code",
   "execution_count": null,
   "metadata": {},
   "outputs": [],
   "source": [
    "# # project_path = \"results/retina_example\"\n",
    "# infoframe = get_images_infoframe(win_path, \n",
    "#                                  extension='.tif',\n",
    "#                                  conditions = [],\n",
    "# )"
   ]
  },
  {
   "cell_type": "code",
   "execution_count": 18,
   "metadata": {},
   "outputs": [],
   "source": [
    "save_path = os.path.join(base_path, output_folder)"
   ]
  },
  {
   "cell_type": "code",
   "execution_count": 19,
   "metadata": {},
   "outputs": [
    {
     "data": {
      "text/plain": [
       "'/mnt/gdrive/ThNe/development_retina/traice'"
      ]
     },
     "execution_count": 19,
     "metadata": {},
     "output_type": "execute_result"
    }
   ],
   "source": [
    "save_path"
   ]
  },
  {
   "cell_type": "code",
   "execution_count": 24,
   "metadata": {},
   "outputs": [],
   "source": [
    "function = f'CUDA_VISIBLE_DEVICES=0 trAIce img2swc'\n",
    "\n",
    "file_path_args = f'-ip \"{os.path.join(base_path, input_folder, filename)}\"'\n",
    "\n",
    "cube_args = f'-wss \"(128, 128, 16)\" -wsb \"(128, 128, 16)\" -tp \"(0.9, 0.9, 0.8)\"'\n",
    "\n",
    "save_args = f'-spd \"{save_path}\" -mp \"{save_path}\" -spsl \"{save_path}\" -bsp \"{save_path}\" -nw 1'\n",
    "\n",
    "command = f'{function} {file_path_args} {cube_args} {save_args}'"
   ]
  },
  {
   "cell_type": "code",
   "execution_count": 25,
   "metadata": {},
   "outputs": [
    {
     "name": "stdout",
     "output_type": "stream",
     "text": [
      "CUDA_VISIBLE_DEVICES=0 trAIce img2swc -ip \"/mnt/gdrive/ThNe/development_retina/trila_fuse_mg/microglia_Age_P21_Sex_F_Side_L_Animal_1_chunk_1_trick.tif\" -wss \"(128, 128, 16)\" -wsb \"(128, 128, 16)\" -tp \"(0.9, 0.9, 0.8)\" -spd \"/mnt/gdrive/ThNe/development_retina/traice\" -mp \"/mnt/gdrive/ThNe/development_retina/traice\" -spsl \"/mnt/gdrive/ThNe/development_retina/traice\" -bsp \"/mnt/gdrive/ThNe/development_retina/traice\" -nw 1\n"
     ]
    }
   ],
   "source": [
    "print(command)"
   ]
  },
  {
   "cell_type": "code",
   "execution_count": 26,
   "metadata": {},
   "outputs": [
    {
     "name": "stdout",
     "output_type": "stream",
     "text": [
      "=======Make mat files out of img/nd2 file=======\n",
      "img_path: /mnt/gdrive/ThNe/development_retina/trila_fuse_mg/microglia_Age_P21_Sex_F_Side_L_Animal_1_chunk_1_trick.tif\n",
      "/mnt/gdrive/ThNe/development_retina/trila_fuse_mg/microglia_Age_P21_Sex_F_Side_L_Animal_1_chunk_1_trick.tif\n",
      "(7583, 5745, 64)\n",
      "{'ExtendMinX': 0, 'ExtendMinY': 0, 'ExtendMinZ': 0, 'ExtendMaxX': 2570.821484981658, 'ExtendMaxY': 1947.6947687220925, 'ExtendMaxZ': 57.6, 'SizeX': 7583, 'SizeY': 5745, 'SizeZ': 64}\n",
      "=======Make Masks Soma=======\n",
      "Target pixel/micrometer: x=0.9, y=0.9, z=0.8\n",
      "metadata: 0 - 0 - 0 - 2570.821484981658 - 1947.6947687220925 - 57.6 - 7583 - 5745 - 64\n",
      "px2mu origin: 2.9496408227092834 - 2.9496408227092834 - 1.1111111111111112\n",
      "2.9496408227092834\n",
      "False\n",
      "new size: 2313 - 1752 - 46\n",
      "- Scaling the image to target ...\n",
      "- Making 3d images from somas and traces of the cells ...\n",
      " Image size: (2313, 1752, 46) - SizeX: 2313 - SizeY: 1752 - SizeZ: 46\n",
      "- Slicing the image and masks into windows ...\n"
     ]
    },
    {
     "name": "stderr",
     "output_type": "stream",
     "text": [
      "100%|██████████| 19/19 [00:00<00:00, 27207.84it/s]\n"
     ]
    },
    {
     "name": "stdout",
     "output_type": "stream",
     "text": [
      "=======Soma Detection Stage=======\n",
      "Soma location: /mnt/gdrive/ThNe/development_retina/traice/microglia_Age_P21_Sex_F_Side_L_Animal_1_chunk_1_trick/soma/microglia_Age_P21_Sex_F_Side_L_Animal_1_chunk_1_trick\n",
      "Loading dataset: /mnt/gdrive/ThNe/development_retina/traice/microglia_Age_P21_Sex_F_Side_L_Animal_1_chunk_1_trick/img ==> Loading\n",
      "Dataset: /mnt/gdrive/ThNe/development_retina/traice/microglia_Age_P21_Sex_F_Side_L_Animal_1_chunk_1_trick ==> Loaded\n",
      "Device: cuda\n",
      "num_patches: 512\n",
      "patch size: (16, 16, 2)\n"
     ]
    },
    {
     "name": "stderr",
     "output_type": "stream",
     "text": [
      "100%|██████████| 282/282 [00:00<00:00, 715111.08it/s]\n",
      "100%|██████████| 164/164 [00:00<00:00, 635148.53it/s]\n",
      "100%|██████████| 32/32 [00:00<00:00, 427444.99it/s]\n",
      "  0%|          | 0/798 [00:00<?, ?it/s]"
     ]
    },
    {
     "name": "stdout",
     "output_type": "stream",
     "text": [
      "Loaded model from checkpoint. Ignored keys: []\n",
      "Loaded model from checkpoint. Ignored keys: []\n",
      "Loaded model from checkpoint. Ignored keys: []\n"
     ]
    },
    {
     "name": "stderr",
     "output_type": "stream",
     "text": [
      "100%|██████████| 798/798 [00:44<00:00, 17.81it/s]\n",
      "100%|██████████| 19/19 [00:00<00:00, 164.41it/s]\n",
      "100%|██████████| 19/19 [00:00<00:00, 145.60it/s]\n"
     ]
    },
    {
     "name": "stdout",
     "output_type": "stream",
     "text": [
      "Save Starting\n",
      "/mnt/gdrive/ThNe/development_retina/traice/microglia_Age_P21_Sex_F_Side_L_Animal_1_chunk_1_trick/soma/input_soma_segmented.tif\n",
      "/mnt/gdrive/ThNe/development_retina/traice/microglia_Age_P21_Sex_F_Side_L_Animal_1_chunk_1_trick/soma/soma_segmented.tif\n",
      "/mnt/gdrive/ThNe/development_retina/traice/microglia_Age_P21_Sex_F_Side_L_Animal_1_chunk_1_trick/soma/img.tif\n",
      "Segmented soma saved in /mnt/gdrive/ThNe/development_retina/traice/microglia_Age_P21_Sex_F_Side_L_Animal_1_chunk_1_trick/soma\n",
      "=======Extract Soma Location=======\n",
      "------------loading data from: /mnt/gdrive/ThNe/development_retina/traice/microglia_Age_P21_Sex_F_Side_L_Animal_1_chunk_1_trick/soma\n",
      "------------saveing data to: /mnt/gdrive/ThNe/development_retina/traice/microglia_Age_P21_Sex_F_Side_L_Animal_1_chunk_1_trick/branches_data\n",
      "window_size_x_branch: 128 window_size_y_branch: 128 window_size_z_branch: 16\n",
      "saved_path: /mnt/gdrive/ThNe/development_retina/traice/microglia_Age_P21_Sex_F_Side_L_Animal_1_chunk_1_trick/soma, window_size_x: 128, window_size_y: 128, window_size_z: 16\n",
      "Reading /mnt/gdrive/ThNe/development_retina/traice/microglia_Age_P21_Sex_F_Side_L_Animal_1_chunk_1_trick/soma/img.tif and /mnt/gdrive/ThNe/development_retina/traice/microglia_Age_P21_Sex_F_Side_L_Animal_1_chunk_1_trick/soma/soma_segmented.tif\n",
      "Mean: 7042.726495726496, Std: 5891.830452333261, Median: 6175.0\n",
      "Initially detected 117 somas, after removing left with 117 somas\n",
      "Saved centers to /mnt/gdrive/ThNe/development_retina/traice/microglia_Age_P21_Sex_F_Side_L_Animal_1_chunk_1_trick/branches_data\n",
      "Max X: 2100.440366972477, Min X: 21.219217970049918, Max Y: 1728.1882510013352, Min Y: 33.688128772635814, Max Z: 41.827018943170486, Min Z: 11.286729698920405\n",
      "- Saving img.npz and soma.npz ...\n",
      "======= Branch Segmentation =======\n",
      "Loading model from /opt/trAIce/trAIce/models/36_UNETPromptGiven_128_128_16/\n",
      "Loading dataset: /mnt/gdrive/ThNe/development_retina/traice/microglia_Age_P21_Sex_F_Side_L_Animal_1_chunk_1_trick/branches_data/img ==> Loading\n",
      "Dataset: /mnt/gdrive/ThNe/development_retina/traice/microglia_Age_P21_Sex_F_Side_L_Animal_1_chunk_1_trick/branches_data ==> Loaded\n",
      "Device: cuda\n",
      "num_patches: 512\n",
      "patch size: (16, 16, 2)\n"
     ]
    },
    {
     "name": "stderr",
     "output_type": "stream",
     "text": [
      "/opt/trAIce/trAIce/model_io.py:209: FutureWarning: You are using `torch.load` with `weights_only=False` (the current default value), which uses the default pickle module implicitly. It is possible to construct malicious pickle data which will execute arbitrary code during unpickling (See https://github.com/pytorch/pytorch/blob/main/SECURITY.md#untrusted-models for more details). In a future release, the default value for `weights_only` will be flipped to `True`. This limits the functions that could be executed during unpickling. Arbitrary objects will no longer be allowed to be loaded via this mode unless they are explicitly allowlisted by the user via `torch.serialization.add_safe_globals`. We recommend you start setting `weights_only=True` for any use case where you don't have full control of the loaded file. Please open an issue on GitHub for any issues related to this experimental feature.\n",
      "  encoder.load_state_dict(torch.load(os.path.join(model_save_path, 'encoder.pth'),map_location=torch.device(device)))\n",
      "/opt/trAIce/trAIce/model_io.py:210: FutureWarning: You are using `torch.load` with `weights_only=False` (the current default value), which uses the default pickle module implicitly. It is possible to construct malicious pickle data which will execute arbitrary code during unpickling (See https://github.com/pytorch/pytorch/blob/main/SECURITY.md#untrusted-models for more details). In a future release, the default value for `weights_only` will be flipped to `True`. This limits the functions that could be executed during unpickling. Arbitrary objects will no longer be allowed to be loaded via this mode unless they are explicitly allowlisted by the user via `torch.serialization.add_safe_globals`. We recommend you start setting `weights_only=True` for any use case where you don't have full control of the loaded file. Please open an issue on GitHub for any issues related to this experimental feature.\n",
      "  decoder.load_state_dict(torch.load(os.path.join(model_save_path, 'decoder.pth'),map_location=torch.device(device)))\n",
      "/opt/trAIce/trAIce/model_io.py:211: FutureWarning: You are using `torch.load` with `weights_only=False` (the current default value), which uses the default pickle module implicitly. It is possible to construct malicious pickle data which will execute arbitrary code during unpickling (See https://github.com/pytorch/pytorch/blob/main/SECURITY.md#untrusted-models for more details). In a future release, the default value for `weights_only` will be flipped to `True`. This limits the functions that could be executed during unpickling. Arbitrary objects will no longer be allowed to be loaded via this mode unless they are explicitly allowlisted by the user via `torch.serialization.add_safe_globals`. We recommend you start setting `weights_only=True` for any use case where you don't have full control of the loaded file. Please open an issue on GitHub for any issues related to this experimental feature.\n",
      "  prompt_encoder.load_state_dict(torch.load(os.path.join(model_save_path, 'prompt_encoder.pth'),map_location=torch.device(device)))\n",
      "/opt/trAIce/trAIce/model_io.py:212: FutureWarning: You are using `torch.load` with `weights_only=False` (the current default value), which uses the default pickle module implicitly. It is possible to construct malicious pickle data which will execute arbitrary code during unpickling (See https://github.com/pytorch/pytorch/blob/main/SECURITY.md#untrusted-models for more details). In a future release, the default value for `weights_only` will be flipped to `True`. This limits the functions that could be executed during unpickling. Arbitrary objects will no longer be allowed to be loaded via this mode unless they are explicitly allowlisted by the user via `torch.serialization.add_safe_globals`. We recommend you start setting `weights_only=True` for any use case where you don't have full control of the loaded file. Please open an issue on GitHub for any issues related to this experimental feature.\n",
      "  skip_connection_block.load_state_dict(torch.load(os.path.join(model_save_path, 'skip_connection_block.pth'),map_location=torch.device(device)))\n",
      "  0%|          | 0/117 [00:00<?, ?it/s]"
     ]
    },
    {
     "name": "stdout",
     "output_type": "stream",
     "text": [
      "(29.388568782796582, 64.50488733408787, 8.642195699146002)\n",
      "(21.219217970049918, 64.26913477537438, 8.263311148086522)\n",
      "(28.5, 64.80269058295964, 8.757847533632287)\n"
     ]
    },
    {
     "name": "stderr",
     "output_type": "stream",
     "text": [
      "  3%|▎         | 4/117 [00:00<00:08, 14.03it/s]"
     ]
    },
    {
     "name": "stdout",
     "output_type": "stream",
     "text": [
      "(64.97277337633504, 64.45579471359461, 8.157820935287106)\n",
      "(64.61627123213805, 64.00175249393368, 8.18145052574818)\n",
      "(64.12048572780319, 64.61015612679388, 8.781422488566472)\n",
      "(64.03674705084038, 64.60173295751122, 8.450673347948637)\n"
     ]
    },
    {
     "name": "stderr",
     "output_type": "stream",
     "text": [
      "  7%|▋         | 8/117 [00:00<00:08, 12.37it/s]"
     ]
    },
    {
     "name": "stdout",
     "output_type": "stream",
     "text": [
      "(64.5843655841982, 64.62638098426515, 8.283896886508202)\n",
      "(64.88627768773635, 64.61345218800648, 8.731496488384657)\n",
      "(64.36854103343465, 64.356952887538, 8.592895136778116)\n"
     ]
    },
    {
     "name": "stderr",
     "output_type": "stream",
     "text": [
      " 10%|█         | 12/117 [00:00<00:08, 12.35it/s]"
     ]
    },
    {
     "name": "stdout",
     "output_type": "stream",
     "text": [
      "(64.73111395646607, 64.18693982074264, 8.368758002560819)\n",
      "(64.10949447748513, 64.31892523364486, 8.259983007646559)\n",
      "(64.95691766146311, 64.76645240281604, 8.109351086623814)\n",
      "(64.61160803021268, 64.93381037567084, 8.20055654939376)\n",
      "(64.80631625441696, 64.05874558303887, 8.194787985865725)\n",
      "(64.8379700397432, 64.43258942219505, 8.212473249770712)\n",
      "(64.69828267586405, 64.38866134942876, 8.564202055040598)\n"
     ]
    },
    {
     "name": "stderr",
     "output_type": "stream",
     "text": [
      " 14%|█▎        | 16/117 [00:01<00:07, 14.22it/s]"
     ]
    },
    {
     "name": "stdout",
     "output_type": "stream",
     "text": [
      "(64.95143403441682, 64.0038240917782, 8.668833652007649)\n",
      "(64.476737699431, 74.47372531518465, 8.873033582505858)\n",
      "(64.67578530327327, 101.48797283275162, 8.009150080181115)\n"
     ]
    },
    {
     "name": "stderr",
     "output_type": "stream",
     "text": [
      " 17%|█▋        | 20/117 [00:01<00:07, 13.75it/s]"
     ]
    },
    {
     "name": "stdout",
     "output_type": "stream",
     "text": [
      "(64.97127784290738, 64.6295427901524, 8.427315357561547)\n",
      "(64.79301423027167, 64.9356403622251, 8.40006468305304)\n",
      "(64.25030599755202, 64.5516115871073, 8.147898816809466)\n"
     ]
    },
    {
     "name": "stderr",
     "output_type": "stream",
     "text": [
      " 21%|██        | 24/117 [00:01<00:07, 13.03it/s]"
     ]
    },
    {
     "name": "stdout",
     "output_type": "stream",
     "text": [
      "(64.12767644726408, 102.37362637362638, 8.020052112835618)\n",
      "(64.3019151333083, 64.761922643635, 8.209162598573037)\n",
      "(64.0429235593037, 64.81911558006271, 8.302194831873717)\n"
     ]
    },
    {
     "name": "stderr",
     "output_type": "stream",
     "text": [
      " 24%|██▍       | 28/117 [00:02<00:06, 13.62it/s]"
     ]
    },
    {
     "name": "stdout",
     "output_type": "stream",
     "text": [
      "(64.0, 64.0, 8.0)\n",
      "(64.7771487390633, 64.73786241207755, 8.064161948876308)\n",
      "(64.47979797979798, 64.86666666666666, 8.167676767676769)\n",
      "(64.04595404595405, 64.72327672327673, 8.452547452547453)\n",
      "(64.6880237205105, 64.43367281165399, 8.953977052984401)\n",
      "(64.27587723155395, 64.41913639961305, 8.700114325916806)\n"
     ]
    },
    {
     "name": "stderr",
     "output_type": "stream",
     "text": [
      " 27%|██▋       | 32/117 [00:02<00:06, 13.34it/s]"
     ]
    },
    {
     "name": "stdout",
     "output_type": "stream",
     "text": [
      "(64.61569416498995, 33.688128772635814, 8.283702213279678)\n",
      "(64.14177160225792, 64.07772470690404, 8.429005644811117)\n",
      "(64.29766968744221, 64.86166081006103, 8.437395968189383)\n"
     ]
    },
    {
     "name": "stderr",
     "output_type": "stream",
     "text": [
      " 31%|███       | 36/117 [00:02<00:06, 11.85it/s]"
     ]
    },
    {
     "name": "stdout",
     "output_type": "stream",
     "text": [
      "(64.24946390278771, 64.6061472480343, 8.529306647605432)\n",
      "(64.23272438443209, 64.93275086047127, 8.552819698173153)\n",
      "(64.90181335692172, 64.16497125165856, 8.62140645731977)\n"
     ]
    },
    {
     "name": "stderr",
     "output_type": "stream",
     "text": [
      " 34%|███▍      | 40/117 [00:03<00:06, 12.41it/s]"
     ]
    },
    {
     "name": "stdout",
     "output_type": "stream",
     "text": [
      "(64.62416555407209, 104.18825100133512, 8.277703604806408)\n",
      "(64.10922041946972, 64.4032449544915, 8.419469726948952)\n",
      "(64.40849288693978, 64.04460370093058, 8.618140977644668)\n",
      "(64.04430165708489, 64.25549543456205, 8.612445045654379)\n",
      "(64.96428571428571, 64.69716088328076, 8.469130238846327)\n",
      "(64.5805510534846, 64.91474878444085, 8.950729335494328)\n"
     ]
    },
    {
     "name": "stderr",
     "output_type": "stream",
     "text": [
      " 38%|███▊      | 44/117 [00:03<00:05, 13.44it/s]"
     ]
    },
    {
     "name": "stdout",
     "output_type": "stream",
     "text": [
      "(64.41045548654245, 64.80253623188406, 8.15364044168392)\n",
      "(64.52881205673759, 64.53812056737588, 8.703014184397164)\n"
     ]
    },
    {
     "name": "stderr",
     "output_type": "stream",
     "text": [
      " 41%|████      | 48/117 [00:03<00:05, 11.84it/s]"
     ]
    },
    {
     "name": "stdout",
     "output_type": "stream",
     "text": [
      "(64.72357414448669, 64.0053865652725, 8.809695817490494)\n",
      "(64.80437246963562, 37.45846153846154, 8.660890688259109)\n",
      "(64.41707682430986, 64.89268136101006, 8.505349882302589)\n",
      "(64.22050607952679, 64.36444298389748, 11.118304304962209)\n",
      "(64.58712323880863, 64.20938113072944, 8.725343320848939)\n",
      "(64.07530120481928, 64.94308267552971, 8.253427503115912)\n"
     ]
    },
    {
     "name": "stderr",
     "output_type": "stream",
     "text": [
      " 44%|████▍     | 52/117 [00:04<00:05, 12.42it/s]"
     ]
    },
    {
     "name": "stdout",
     "output_type": "stream",
     "text": [
      "(64.75033986405438, 64.55345861655339, 8.232546981207516)\n",
      "(64.58070004861449, 40.029411764705884, 8.547156052503647)\n",
      "(64.24732715609409, 64.84604419101925, 8.126514611546686)\n"
     ]
    },
    {
     "name": "stderr",
     "output_type": "stream",
     "text": [
      " 48%|████▊     | 56/117 [00:04<00:04, 12.82it/s]"
     ]
    },
    {
     "name": "stdout",
     "output_type": "stream",
     "text": [
      "(64.06779089376055, 64.39629005059022, 8.695446880269815)\n",
      "(64.07497454175153, 64.9487016293279, 8.56300916496945)\n",
      "(64.03327965646807, 64.51422436929683, 8.084272678475577)\n"
     ]
    },
    {
     "name": "stderr",
     "output_type": "stream",
     "text": [
      " 51%|█████▏    | 60/117 [00:04<00:04, 14.04it/s]"
     ]
    },
    {
     "name": "stdout",
     "output_type": "stream",
     "text": [
      "(64.04259681093394, 64.71070615034168, 8.3626423690205)\n",
      "(64.10661995868139, 64.67043923470763, 8.267043923470762)\n",
      "(64.4655129378484, 64.28529827772694, 8.055162659123056)\n",
      "(64.4611472402868, 64.6469067867267, 8.748040687010171)\n"
     ]
    },
    {
     "name": "stderr",
     "output_type": "stream",
     "text": [
      " 55%|█████▍    | 64/117 [00:04<00:03, 14.08it/s]"
     ]
    },
    {
     "name": "stdout",
     "output_type": "stream",
     "text": [
      "(64.08345697329376, 64.44955489614243, 8.623516320474778)\n",
      "(64.69527483124398, 64.12810622357392, 7.045545582671909)\n",
      "(63.95632798573975, 64.27883880825057, 8.666666666666666)\n",
      "(64.46638468388245, 64.23040961709707, 8.671193232413179)\n",
      "(64.04043058145449, 64.35624682149516, 8.398796406170538)\n",
      "(64.92023928215355, 101.5049850448654, 11.827018943170488)\n",
      "(64.03135734072022, 64.4402216066482, 8.59168975069252)\n"
     ]
    },
    {
     "name": "stderr",
     "output_type": "stream",
     "text": [
      " 58%|█████▊    | 68/117 [00:05<00:03, 13.95it/s]"
     ]
    },
    {
     "name": "stdout",
     "output_type": "stream",
     "text": [
      "(64.60710894044227, 64.06186406186406, 8.80681047347714)\n",
      "(64.39604810996563, 64.37061855670103, 8.474054982817869)\n",
      "(64.84267888169326, 64.39930500710788, 8.690096351287316)\n"
     ]
    },
    {
     "name": "stderr",
     "output_type": "stream",
     "text": [
      " 62%|██████▏   | 72/117 [00:05<00:03, 13.93it/s]"
     ]
    },
    {
     "name": "stdout",
     "output_type": "stream",
     "text": [
      "(64.01195837863023, 64.11321633794067, 8.579360149091475)\n",
      "(64.33470758894488, 64.5066422354558, 8.574591540693236)\n",
      "(64.30557755402195, 64.35241543160991, 8.51928951238828)\n",
      "(64.94164588528679, 64.17007481296758, 8.640399002493766)\n"
     ]
    },
    {
     "name": "stderr",
     "output_type": "stream",
     "text": [
      " 65%|██████▍   | 76/117 [00:05<00:03, 13.58it/s]"
     ]
    },
    {
     "name": "stdout",
     "output_type": "stream",
     "text": [
      "(64.0, 64.94117647058823, 8.647058823529411)\n",
      "(64.63361236316806, 64.74533161622666, 8.93882807469414)\n",
      "(64.07545521736209, 63.99435597661762, 8.675871800040314)\n"
     ]
    },
    {
     "name": "stderr",
     "output_type": "stream",
     "text": [
      " 68%|██████▊   | 80/117 [00:06<00:02, 12.60it/s]"
     ]
    },
    {
     "name": "stdout",
     "output_type": "stream",
     "text": [
      "(64.41493550577053, 64.10061099796334, 8.553021045485403)\n",
      "(64.09217791411042, 64.30506134969325, 8.104294478527608)\n",
      "(64.80604883462819, 64.73390677025527, 8.604328523862375)\n"
     ]
    },
    {
     "name": "stderr",
     "output_type": "stream",
     "text": [
      " 72%|███████▏  | 84/117 [00:06<00:02, 12.27it/s]"
     ]
    },
    {
     "name": "stdout",
     "output_type": "stream",
     "text": [
      "(64.86748394629305, 64.10916520723876, 8.569677257943457)\n",
      "(64.16361330326944, 64.6413472378805, 8.937993235625704)\n",
      "(64.16515944788196, 64.24178962398858, 8.719657306044741)\n",
      "(63.78146911519199, 63.5965776293823, 8.165776293823038)\n",
      "(64.01875799346313, 64.51300270001421, 8.599118942731277)\n",
      "(64.39932744850778, 64.97856242118537, 8.432955023118957)\n",
      "(64.10155440414508, 45.45284974093264, 8.675647668393783)\n"
     ]
    },
    {
     "name": "stderr",
     "output_type": "stream",
     "text": [
      " 75%|███████▌  | 88/117 [00:06<00:02, 14.03it/s]"
     ]
    },
    {
     "name": "stdout",
     "output_type": "stream",
     "text": [
      "(64.83880171184023, 64.80028530670471, 8.767475035663338)\n",
      "(64.18967603172469, 64.6135233230273, 8.665815297755074)\n",
      "(64.76962110960758, 64.96639603067207, 8.387686062246278)\n"
     ]
    },
    {
     "name": "stderr",
     "output_type": "stream",
     "text": [
      " 79%|███████▊  | 92/117 [00:06<00:01, 14.91it/s]"
     ]
    },
    {
     "name": "stdout",
     "output_type": "stream",
     "text": [
      "(64.70884353741496, 64.77142857142857, 8.244897959183673)\n",
      "(64.22215580792987, 64.55050806933652, 8.242677824267782)\n",
      "(64.691796875, 64.6609375, 8.826953125)\n",
      "(64.67705088265836, 64.94288681204569, 8.77258566978193)\n"
     ]
    },
    {
     "name": "stderr",
     "output_type": "stream",
     "text": [
      " 82%|████████▏ | 96/117 [00:07<00:01, 14.69it/s]"
     ]
    },
    {
     "name": "stdout",
     "output_type": "stream",
     "text": [
      "(64.23306713989943, 64.69003253475303, 8.410233658680864)\n",
      "(64.77121813031161, 64.09450424929179, 8.981529745042494)\n",
      "(64.8172119487909, 64.12233285917496, 8.647226173541963)\n"
     ]
    },
    {
     "name": "stderr",
     "output_type": "stream",
     "text": [
      " 85%|████████▌ | 100/117 [00:07<00:01, 14.61it/s]"
     ]
    },
    {
     "name": "stdout",
     "output_type": "stream",
     "text": [
      "(64.8746854554605, 64.08203321590337, 8.118772018117765)\n",
      "(64.77892980574426, 64.40019068049101, 8.766058872601597)\n",
      "(64.56223506743738, 64.2805394990366, 8.759922928709056)\n"
     ]
    },
    {
     "name": "stderr",
     "output_type": "stream",
     "text": [
      " 89%|████████▉ | 104/117 [00:07<00:00, 14.70it/s]"
     ]
    },
    {
     "name": "stdout",
     "output_type": "stream",
     "text": [
      "(64.32575757575758, 64.81662515566624, 8.547218762972188)\n",
      "(64.27031131359149, 64.89402321292982, 8.686408504176159)\n",
      "(64.0, 64.10088365243004, 8.81958762886598)\n",
      "(64.59419427362296, 64.94214110956821, 8.984262381802552)\n",
      "(64.77395507534831, 64.78589707136764, 8.142735285754904)\n",
      "(64.64610098595757, 64.55766357932477, 9.043621153271587)\n"
     ]
    },
    {
     "name": "stderr",
     "output_type": "stream",
     "text": [
      " 92%|█████████▏| 108/117 [00:08<00:00, 14.24it/s]"
     ]
    },
    {
     "name": "stdout",
     "output_type": "stream",
     "text": [
      "(64.28317575269898, 64.34969489706967, 8.286729698920405)\n",
      "(64.8358021591765, 64.76851619382376, 8.482550841074566)\n",
      "(64.33013900589722, 64.72072451558552, 10.269376579612468)\n",
      "(64.37296517617968, 63.99168898962841, 8.325022322961741)\n"
     ]
    },
    {
     "name": "stderr",
     "output_type": "stream",
     "text": [
      " 96%|█████████▌| 112/117 [00:08<00:00, 14.73it/s]"
     ]
    },
    {
     "name": "stdout",
     "output_type": "stream",
     "text": [
      "(64.58557369179069, 64.39594335093615, 8.946351416226596)\n",
      "(64.0034062190968, 64.14866498187013, 8.97725524667619)\n",
      "(64.26874115983027, 64.64497878359265, 8.1994342291372)\n",
      "(64.97116564417178, 64.4639263803681, 8.766134969325153)\n"
     ]
    },
    {
     "name": "stderr",
     "output_type": "stream",
     "text": [
      "100%|██████████| 117/117 [00:08<00:00, 13.44it/s]\n"
     ]
    },
    {
     "name": "stdout",
     "output_type": "stream",
     "text": [
      "(64.44036697247707, 64.22385321100917, 8.504587155963304)\n"
     ]
    },
    {
     "name": "stderr",
     "output_type": "stream",
     "text": [
      "117it [00:07, 14.87it/s]\n"
     ]
    },
    {
     "name": "stdout",
     "output_type": "stream",
     "text": [
      "Saving /mnt/gdrive/ThNe/development_retina/traice/microglia_Age_P21_Sex_F_Side_L_Animal_1_chunk_1_trick/branch/construced_branches.tif\n",
      "shape of constructed_branch_segment: (16, 1280, 1536)\n",
      "Saving /mnt/gdrive/ThNe/development_retina/traice/microglia_Age_P21_Sex_F_Side_L_Animal_1_chunk_1_trick/branch/construced_somas.tif\n",
      "Saving /mnt/gdrive/ThNe/development_retina/traice/microglia_Age_P21_Sex_F_Side_L_Animal_1_chunk_1_trick/branch/constructed_images.tif\n",
      "/mnt/gdrive/ThNe/development_retina/traice/microglia_Age_P21_Sex_F_Side_L_Animal_1_chunk_1_trick/branch/output.tif\n",
      "Loading dataset: /mnt/gdrive/ThNe/development_retina/traice/microglia_Age_P21_Sex_F_Side_L_Animal_1_chunk_1_trick/img ==> Loading\n",
      "Reading /mnt/gdrive/ThNe/development_retina/traice/microglia_Age_P21_Sex_F_Side_L_Animal_1_chunk_1_trick/soma/img.tif and /mnt/gdrive/ThNe/development_retina/traice/microglia_Age_P21_Sex_F_Side_L_Animal_1_chunk_1_trick/soma/soma_segmented.tif\n"
     ]
    },
    {
     "name": "stderr",
     "output_type": "stream",
     "text": [
      "117it [00:01, 75.02it/s]\n"
     ]
    },
    {
     "name": "stdout",
     "output_type": "stream",
     "text": [
      "Branch segmented saved in /mnt/gdrive/ThNe/development_retina/traice/microglia_Age_P21_Sex_F_Side_L_Animal_1_chunk_1_trick/branch\n",
      "listing /mnt/gdrive/ThNe/development_retina/traice/microglia_Age_P21_Sex_F_Side_L_Animal_1_chunk_1_trick/branch\n",
      "file_path /mnt/gdrive/ThNe/development_retina/traice/microglia_Age_P21_Sex_F_Side_L_Animal_1_chunk_1_trick/branch/0/branch.tif\n"
     ]
    },
    {
     "name": "stderr",
     "output_type": "stream",
     "text": [
      "Skeletonizing Labels: 0it [00:00, ?it/s]\n",
      "Skeletonizing Labels: 0it [00:00, ?it/s]\n"
     ]
    },
    {
     "name": "stdout",
     "output_type": "stream",
     "text": [
      "Error saving the Skeleton for cell 0. Skipping the cell\n",
      "file_path /mnt/gdrive/ThNe/development_retina/traice/microglia_Age_P21_Sex_F_Side_L_Animal_1_chunk_1_trick/branch/1/branch.tif\n",
      "Error saving the Skeleton for cell 1. Skipping the cell\n",
      "file_path /mnt/gdrive/ThNe/development_retina/traice/microglia_Age_P21_Sex_F_Side_L_Animal_1_chunk_1_trick/branch/2/branch.tif\n"
     ]
    },
    {
     "name": "stderr",
     "output_type": "stream",
     "text": [
      "Skeletonizing Labels: 0it [00:00, ?it/s]\n",
      "Skeletonizing Labels: 100%|██████████| 1/1 [00:00<00:00, 18.04it/s]\n"
     ]
    },
    {
     "name": "stdout",
     "output_type": "stream",
     "text": [
      "Error saving the Skeleton for cell 2. Skipping the cell\n",
      "file_path /mnt/gdrive/ThNe/development_retina/traice/microglia_Age_P21_Sex_F_Side_L_Animal_1_chunk_1_trick/branch/3/branch.tif\n",
      "file_path /mnt/gdrive/ThNe/development_retina/traice/microglia_Age_P21_Sex_F_Side_L_Animal_1_chunk_1_trick/branch/4/branch.tif\n"
     ]
    },
    {
     "name": "stderr",
     "output_type": "stream",
     "text": [
      "Skeletonizing Labels: 100%|██████████| 1/1 [00:00<00:00, 39.41it/s]\n",
      "Skeletonizing Labels: 100%|██████████| 2/2 [00:00<00:00, 57.31it/s]\n"
     ]
    },
    {
     "name": "stdout",
     "output_type": "stream",
     "text": [
      "file_path /mnt/gdrive/ThNe/development_retina/traice/microglia_Age_P21_Sex_F_Side_L_Animal_1_chunk_1_trick/branch/5/branch.tif\n",
      "file_path /mnt/gdrive/ThNe/development_retina/traice/microglia_Age_P21_Sex_F_Side_L_Animal_1_chunk_1_trick/branch/6/branch.tif\n"
     ]
    },
    {
     "name": "stderr",
     "output_type": "stream",
     "text": [
      "Skeletonizing Labels: 100%|██████████| 1/1 [00:00<00:00, 22.17it/s]\n",
      "Skeletonizing Labels: 100%|██████████| 2/2 [00:00<00:00, 67.13it/s]\n"
     ]
    },
    {
     "name": "stdout",
     "output_type": "stream",
     "text": [
      "file_path /mnt/gdrive/ThNe/development_retina/traice/microglia_Age_P21_Sex_F_Side_L_Animal_1_chunk_1_trick/branch/7/branch.tif\n",
      "file_path /mnt/gdrive/ThNe/development_retina/traice/microglia_Age_P21_Sex_F_Side_L_Animal_1_chunk_1_trick/branch/8/branch.tif\n"
     ]
    },
    {
     "name": "stderr",
     "output_type": "stream",
     "text": [
      "Skeletonizing Labels: 100%|██████████| 2/2 [00:00<00:00, 49.14it/s]\n",
      "Skeletonizing Labels: 100%|██████████| 2/2 [00:00<00:00, 59.13it/s]\n"
     ]
    },
    {
     "name": "stdout",
     "output_type": "stream",
     "text": [
      "file_path /mnt/gdrive/ThNe/development_retina/traice/microglia_Age_P21_Sex_F_Side_L_Animal_1_chunk_1_trick/branch/9/branch.tif\n",
      "file_path /mnt/gdrive/ThNe/development_retina/traice/microglia_Age_P21_Sex_F_Side_L_Animal_1_chunk_1_trick/branch/10/branch.tif\n"
     ]
    },
    {
     "name": "stderr",
     "output_type": "stream",
     "text": [
      "Skeletonizing Labels: 100%|██████████| 1/1 [00:00<00:00, 22.27it/s]\n"
     ]
    },
    {
     "name": "stdout",
     "output_type": "stream",
     "text": [
      "file_path /mnt/gdrive/ThNe/development_retina/traice/microglia_Age_P21_Sex_F_Side_L_Animal_1_chunk_1_trick/branch/11/branch.tif\n"
     ]
    },
    {
     "name": "stderr",
     "output_type": "stream",
     "text": [
      "Skeletonizing Labels: 100%|██████████| 2/2 [00:00<00:00, 61.43it/s]\n",
      "Skeletonizing Labels: 100%|██████████| 2/2 [00:00<00:00, 45.16it/s]\n"
     ]
    },
    {
     "name": "stdout",
     "output_type": "stream",
     "text": [
      "file_path /mnt/gdrive/ThNe/development_retina/traice/microglia_Age_P21_Sex_F_Side_L_Animal_1_chunk_1_trick/branch/12/branch.tif\n",
      "file_path /mnt/gdrive/ThNe/development_retina/traice/microglia_Age_P21_Sex_F_Side_L_Animal_1_chunk_1_trick/branch/13/branch.tif\n"
     ]
    },
    {
     "name": "stderr",
     "output_type": "stream",
     "text": [
      "Skeletonizing Labels: 100%|██████████| 1/1 [00:00<00:00, 22.46it/s]\n",
      "Skeletonizing Labels: 100%|██████████| 1/1 [00:00<00:00, 35.17it/s]\n"
     ]
    },
    {
     "name": "stdout",
     "output_type": "stream",
     "text": [
      "file_path /mnt/gdrive/ThNe/development_retina/traice/microglia_Age_P21_Sex_F_Side_L_Animal_1_chunk_1_trick/branch/14/branch.tif\n",
      "file_path /mnt/gdrive/ThNe/development_retina/traice/microglia_Age_P21_Sex_F_Side_L_Animal_1_chunk_1_trick/branch/15/branch.tif\n"
     ]
    },
    {
     "name": "stderr",
     "output_type": "stream",
     "text": [
      "Skeletonizing Labels: 100%|██████████| 1/1 [00:00<00:00, 28.90it/s]\n",
      "Skeletonizing Labels:  67%|██████▋   | 2/3 [00:00<00:00, 82.13it/s]\n"
     ]
    },
    {
     "name": "stdout",
     "output_type": "stream",
     "text": [
      "file_path /mnt/gdrive/ThNe/development_retina/traice/microglia_Age_P21_Sex_F_Side_L_Animal_1_chunk_1_trick/branch/16/branch.tif\n",
      "file_path /mnt/gdrive/ThNe/development_retina/traice/microglia_Age_P21_Sex_F_Side_L_Animal_1_chunk_1_trick/branch/17/branch.tif\n"
     ]
    },
    {
     "name": "stderr",
     "output_type": "stream",
     "text": [
      "Skeletonizing Labels: 100%|██████████| 1/1 [00:00<00:00, 32.65it/s]\n",
      "Skeletonizing Labels: 0it [00:00, ?it/s]\n"
     ]
    },
    {
     "name": "stdout",
     "output_type": "stream",
     "text": [
      "file_path /mnt/gdrive/ThNe/development_retina/traice/microglia_Age_P21_Sex_F_Side_L_Animal_1_chunk_1_trick/branch/18/branch.tif\n",
      "Error saving the Skeleton for cell 18. Skipping the cell\n",
      "file_path /mnt/gdrive/ThNe/development_retina/traice/microglia_Age_P21_Sex_F_Side_L_Animal_1_chunk_1_trick/branch/19/branch.tif\n",
      "Error saving the Skeleton for cell 19. Skipping the cell\n",
      "file_path /mnt/gdrive/ThNe/development_retina/traice/microglia_Age_P21_Sex_F_Side_L_Animal_1_chunk_1_trick/branch/20/branch.tif\n"
     ]
    },
    {
     "name": "stderr",
     "output_type": "stream",
     "text": [
      "Skeletonizing Labels: 0it [00:00, ?it/s]\n",
      "Skeletonizing Labels: 100%|██████████| 1/1 [00:00<00:00, 42.65it/s]\n"
     ]
    },
    {
     "name": "stdout",
     "output_type": "stream",
     "text": [
      "file_path /mnt/gdrive/ThNe/development_retina/traice/microglia_Age_P21_Sex_F_Side_L_Animal_1_chunk_1_trick/branch/21/branch.tif\n",
      "file_path /mnt/gdrive/ThNe/development_retina/traice/microglia_Age_P21_Sex_F_Side_L_Animal_1_chunk_1_trick/branch/22/branch.tif\n"
     ]
    },
    {
     "name": "stderr",
     "output_type": "stream",
     "text": [
      "Skeletonizing Labels: 100%|██████████| 1/1 [00:00<00:00, 28.93it/s]\n",
      "Skeletonizing Labels: 100%|██████████| 2/2 [00:00<00:00, 68.59it/s]\n"
     ]
    },
    {
     "name": "stdout",
     "output_type": "stream",
     "text": [
      "file_path /mnt/gdrive/ThNe/development_retina/traice/microglia_Age_P21_Sex_F_Side_L_Animal_1_chunk_1_trick/branch/23/branch.tif\n",
      "Error saving the Skeleton for cell 23. Skipping the cell\n",
      "file_path /mnt/gdrive/ThNe/development_retina/traice/microglia_Age_P21_Sex_F_Side_L_Animal_1_chunk_1_trick/branch/24/branch.tif\n"
     ]
    },
    {
     "name": "stderr",
     "output_type": "stream",
     "text": [
      "Skeletonizing Labels: 0it [00:00, ?it/s]\n",
      "Skeletonizing Labels: 100%|██████████| 1/1 [00:00<00:00, 35.31it/s]\n"
     ]
    },
    {
     "name": "stdout",
     "output_type": "stream",
     "text": [
      "file_path /mnt/gdrive/ThNe/development_retina/traice/microglia_Age_P21_Sex_F_Side_L_Animal_1_chunk_1_trick/branch/25/branch.tif\n",
      "file_path /mnt/gdrive/ThNe/development_retina/traice/microglia_Age_P21_Sex_F_Side_L_Animal_1_chunk_1_trick/branch/26/branch.tif\n"
     ]
    },
    {
     "name": "stderr",
     "output_type": "stream",
     "text": [
      "Skeletonizing Labels:  50%|█████     | 2/4 [00:00<00:00, 56.03it/s]\n",
      "Skeletonizing Labels: 100%|██████████| 2/2 [00:00<00:00, 41.91it/s]\n"
     ]
    },
    {
     "name": "stdout",
     "output_type": "stream",
     "text": [
      "file_path /mnt/gdrive/ThNe/development_retina/traice/microglia_Age_P21_Sex_F_Side_L_Animal_1_chunk_1_trick/branch/27/branch.tif\n",
      "file_path /mnt/gdrive/ThNe/development_retina/traice/microglia_Age_P21_Sex_F_Side_L_Animal_1_chunk_1_trick/branch/28/branch.tif\n"
     ]
    },
    {
     "name": "stderr",
     "output_type": "stream",
     "text": [
      "Skeletonizing Labels: 100%|██████████| 1/1 [00:00<00:00, 36.99it/s]\n",
      "Skeletonizing Labels: 100%|██████████| 1/1 [00:00<00:00, 36.97it/s]\n"
     ]
    },
    {
     "name": "stdout",
     "output_type": "stream",
     "text": [
      "file_path /mnt/gdrive/ThNe/development_retina/traice/microglia_Age_P21_Sex_F_Side_L_Animal_1_chunk_1_trick/branch/29/branch.tif\n",
      "file_path /mnt/gdrive/ThNe/development_retina/traice/microglia_Age_P21_Sex_F_Side_L_Animal_1_chunk_1_trick/branch/30/branch.tif\n"
     ]
    },
    {
     "name": "stderr",
     "output_type": "stream",
     "text": [
      "Skeletonizing Labels: 100%|██████████| 1/1 [00:00<00:00, 39.45it/s]\n",
      "Skeletonizing Labels: 100%|██████████| 1/1 [00:00<00:00, 51.67it/s]\n"
     ]
    },
    {
     "name": "stdout",
     "output_type": "stream",
     "text": [
      "file_path /mnt/gdrive/ThNe/development_retina/traice/microglia_Age_P21_Sex_F_Side_L_Animal_1_chunk_1_trick/branch/31/branch.tif\n",
      "file_path /mnt/gdrive/ThNe/development_retina/traice/microglia_Age_P21_Sex_F_Side_L_Animal_1_chunk_1_trick/branch/32/branch.tif\n"
     ]
    },
    {
     "name": "stderr",
     "output_type": "stream",
     "text": [
      "Skeletonizing Labels:  67%|██████▋   | 2/3 [00:00<00:00, 52.46it/s]\n",
      "Skeletonizing Labels: 100%|██████████| 1/1 [00:00<00:00, 35.43it/s]\n"
     ]
    },
    {
     "name": "stdout",
     "output_type": "stream",
     "text": [
      "file_path /mnt/gdrive/ThNe/development_retina/traice/microglia_Age_P21_Sex_F_Side_L_Animal_1_chunk_1_trick/branch/33/branch.tif\n",
      "file_path /mnt/gdrive/ThNe/development_retina/traice/microglia_Age_P21_Sex_F_Side_L_Animal_1_chunk_1_trick/branch/34/branch.tif\n"
     ]
    },
    {
     "name": "stderr",
     "output_type": "stream",
     "text": [
      "Skeletonizing Labels: 100%|██████████| 2/2 [00:00<00:00, 56.30it/s]\n",
      "Skeletonizing Labels: 100%|██████████| 1/1 [00:00<00:00, 56.39it/s]\n"
     ]
    },
    {
     "name": "stdout",
     "output_type": "stream",
     "text": [
      "file_path /mnt/gdrive/ThNe/development_retina/traice/microglia_Age_P21_Sex_F_Side_L_Animal_1_chunk_1_trick/branch/35/branch.tif\n",
      "file_path /mnt/gdrive/ThNe/development_retina/traice/microglia_Age_P21_Sex_F_Side_L_Animal_1_chunk_1_trick/branch/36/branch.tif\n"
     ]
    },
    {
     "name": "stderr",
     "output_type": "stream",
     "text": [
      "Skeletonizing Labels: 100%|██████████| 1/1 [00:00<00:00, 31.12it/s]\n",
      "Skeletonizing Labels: 100%|██████████| 1/1 [00:00<00:00, 22.46it/s]\n",
      "Skeletonizing Labels: 100%|██████████| 1/1 [00:00<00:00, 43.02it/s]\n"
     ]
    },
    {
     "name": "stdout",
     "output_type": "stream",
     "text": [
      "file_path /mnt/gdrive/ThNe/development_retina/traice/microglia_Age_P21_Sex_F_Side_L_Animal_1_chunk_1_trick/branch/37/branch.tif\n",
      "file_path /mnt/gdrive/ThNe/development_retina/traice/microglia_Age_P21_Sex_F_Side_L_Animal_1_chunk_1_trick/branch/38/branch.tif\n"
     ]
    },
    {
     "name": "stderr",
     "output_type": "stream",
     "text": [
      "Skeletonizing Labels: 0it [00:00, ?it/s]\n",
      "Skeletonizing Labels: 100%|██████████| 1/1 [00:00<00:00, 44.39it/s]\n"
     ]
    },
    {
     "name": "stdout",
     "output_type": "stream",
     "text": [
      "Error saving the Skeleton for cell 38. Skipping the cell\n",
      "file_path /mnt/gdrive/ThNe/development_retina/traice/microglia_Age_P21_Sex_F_Side_L_Animal_1_chunk_1_trick/branch/39/branch.tif\n",
      "file_path /mnt/gdrive/ThNe/development_retina/traice/microglia_Age_P21_Sex_F_Side_L_Animal_1_chunk_1_trick/branch/40/branch.tif\n"
     ]
    },
    {
     "name": "stderr",
     "output_type": "stream",
     "text": [
      "Skeletonizing Labels: 100%|██████████| 2/2 [00:00<00:00, 44.31it/s]\n",
      "Skeletonizing Labels:  67%|██████▋   | 2/3 [00:00<00:00, 42.52it/s]\n"
     ]
    },
    {
     "name": "stdout",
     "output_type": "stream",
     "text": [
      "file_path /mnt/gdrive/ThNe/development_retina/traice/microglia_Age_P21_Sex_F_Side_L_Animal_1_chunk_1_trick/branch/41/branch.tif\n",
      "file_path /mnt/gdrive/ThNe/development_retina/traice/microglia_Age_P21_Sex_F_Side_L_Animal_1_chunk_1_trick/branch/42/branch.tif\n"
     ]
    },
    {
     "name": "stderr",
     "output_type": "stream",
     "text": [
      "Skeletonizing Labels: 100%|██████████| 1/1 [00:00<00:00, 24.83it/s]\n",
      "Skeletonizing Labels: 100%|██████████| 2/2 [00:00<00:00, 58.88it/s]\n"
     ]
    },
    {
     "name": "stdout",
     "output_type": "stream",
     "text": [
      "file_path /mnt/gdrive/ThNe/development_retina/traice/microglia_Age_P21_Sex_F_Side_L_Animal_1_chunk_1_trick/branch/43/branch.tif\n",
      "file_path /mnt/gdrive/ThNe/development_retina/traice/microglia_Age_P21_Sex_F_Side_L_Animal_1_chunk_1_trick/branch/44/branch.tif\n"
     ]
    },
    {
     "name": "stderr",
     "output_type": "stream",
     "text": [
      "Skeletonizing Labels:  67%|██████▋   | 2/3 [00:00<00:00, 71.39it/s]\n",
      "Skeletonizing Labels: 100%|██████████| 1/1 [00:00<00:00, 35.57it/s]\n"
     ]
    },
    {
     "name": "stdout",
     "output_type": "stream",
     "text": [
      "file_path /mnt/gdrive/ThNe/development_retina/traice/microglia_Age_P21_Sex_F_Side_L_Animal_1_chunk_1_trick/branch/45/branch.tif\n",
      "file_path /mnt/gdrive/ThNe/development_retina/traice/microglia_Age_P21_Sex_F_Side_L_Animal_1_chunk_1_trick/branch/46/branch.tif\n"
     ]
    },
    {
     "name": "stderr",
     "output_type": "stream",
     "text": [
      "Skeletonizing Labels: 100%|██████████| 1/1 [00:00<00:00, 22.39it/s]\n",
      "Skeletonizing Labels: 0it [00:00, ?it/s]\n"
     ]
    },
    {
     "name": "stdout",
     "output_type": "stream",
     "text": [
      "file_path /mnt/gdrive/ThNe/development_retina/traice/microglia_Age_P21_Sex_F_Side_L_Animal_1_chunk_1_trick/branch/47/branch.tif\n",
      "Error saving the Skeleton for cell 47. Skipping the cell\n",
      "file_path /mnt/gdrive/ThNe/development_retina/traice/microglia_Age_P21_Sex_F_Side_L_Animal_1_chunk_1_trick/branch/48/branch.tif\n"
     ]
    },
    {
     "name": "stderr",
     "output_type": "stream",
     "text": [
      "Skeletonizing Labels: 0it [00:00, ?it/s]\n",
      "Skeletonizing Labels: 0it [00:00, ?it/s]\n"
     ]
    },
    {
     "name": "stdout",
     "output_type": "stream",
     "text": [
      "Error saving the Skeleton for cell 48. Skipping the cell\n",
      "file_path /mnt/gdrive/ThNe/development_retina/traice/microglia_Age_P21_Sex_F_Side_L_Animal_1_chunk_1_trick/branch/49/branch.tif\n",
      "Error saving the Skeleton for cell 49. Skipping the cell\n",
      "file_path /mnt/gdrive/ThNe/development_retina/traice/microglia_Age_P21_Sex_F_Side_L_Animal_1_chunk_1_trick/branch/50/branch.tif\n"
     ]
    },
    {
     "name": "stderr",
     "output_type": "stream",
     "text": [
      "Skeletonizing Labels:  67%|██████▋   | 2/3 [00:00<00:00, 60.17it/s]\n",
      "Skeletonizing Labels: 100%|██████████| 2/2 [00:00<00:00, 49.22it/s]\n"
     ]
    },
    {
     "name": "stdout",
     "output_type": "stream",
     "text": [
      "file_path /mnt/gdrive/ThNe/development_retina/traice/microglia_Age_P21_Sex_F_Side_L_Animal_1_chunk_1_trick/branch/51/branch.tif\n",
      "file_path /mnt/gdrive/ThNe/development_retina/traice/microglia_Age_P21_Sex_F_Side_L_Animal_1_chunk_1_trick/branch/52/branch.tif\n"
     ]
    },
    {
     "name": "stderr",
     "output_type": "stream",
     "text": [
      "Skeletonizing Labels: 100%|██████████| 1/1 [00:00<00:00, 24.07it/s]\n",
      "Skeletonizing Labels: 100%|██████████| 1/1 [00:00<00:00, 30.07it/s]\n"
     ]
    },
    {
     "name": "stdout",
     "output_type": "stream",
     "text": [
      "file_path /mnt/gdrive/ThNe/development_retina/traice/microglia_Age_P21_Sex_F_Side_L_Animal_1_chunk_1_trick/branch/53/branch.tif\n",
      "file_path /mnt/gdrive/ThNe/development_retina/traice/microglia_Age_P21_Sex_F_Side_L_Animal_1_chunk_1_trick/branch/54/branch.tif\n"
     ]
    },
    {
     "name": "stderr",
     "output_type": "stream",
     "text": [
      "Skeletonizing Labels: 100%|██████████| 1/1 [00:00<00:00, 18.98it/s]\n",
      "Skeletonizing Labels: 100%|██████████| 2/2 [00:00<00:00, 50.37it/s]\n"
     ]
    },
    {
     "name": "stdout",
     "output_type": "stream",
     "text": [
      "file_path /mnt/gdrive/ThNe/development_retina/traice/microglia_Age_P21_Sex_F_Side_L_Animal_1_chunk_1_trick/branch/55/branch.tif\n",
      "file_path /mnt/gdrive/ThNe/development_retina/traice/microglia_Age_P21_Sex_F_Side_L_Animal_1_chunk_1_trick/branch/56/branch.tif\n"
     ]
    },
    {
     "name": "stderr",
     "output_type": "stream",
     "text": [
      "Skeletonizing Labels: 100%|██████████| 1/1 [00:00<00:00, 28.07it/s]\n",
      "Skeletonizing Labels: 100%|██████████| 1/1 [00:00<00:00, 24.02it/s]\n"
     ]
    },
    {
     "name": "stdout",
     "output_type": "stream",
     "text": [
      "file_path /mnt/gdrive/ThNe/development_retina/traice/microglia_Age_P21_Sex_F_Side_L_Animal_1_chunk_1_trick/branch/57/branch.tif\n",
      "file_path /mnt/gdrive/ThNe/development_retina/traice/microglia_Age_P21_Sex_F_Side_L_Animal_1_chunk_1_trick/branch/58/branch.tif\n"
     ]
    },
    {
     "name": "stderr",
     "output_type": "stream",
     "text": [
      "Skeletonizing Labels: 100%|██████████| 2/2 [00:00<00:00, 65.41it/s]\n",
      "Skeletonizing Labels: 100%|██████████| 1/1 [00:00<00:00, 25.39it/s]\n"
     ]
    },
    {
     "name": "stdout",
     "output_type": "stream",
     "text": [
      "file_path /mnt/gdrive/ThNe/development_retina/traice/microglia_Age_P21_Sex_F_Side_L_Animal_1_chunk_1_trick/branch/59/branch.tif\n",
      "file_path /mnt/gdrive/ThNe/development_retina/traice/microglia_Age_P21_Sex_F_Side_L_Animal_1_chunk_1_trick/branch/60/branch.tif\n"
     ]
    },
    {
     "name": "stderr",
     "output_type": "stream",
     "text": [
      "Skeletonizing Labels: 100%|██████████| 2/2 [00:00<00:00, 49.00it/s]\n",
      "Skeletonizing Labels: 100%|██████████| 2/2 [00:00<00:00, 58.87it/s]\n"
     ]
    },
    {
     "name": "stdout",
     "output_type": "stream",
     "text": [
      "file_path /mnt/gdrive/ThNe/development_retina/traice/microglia_Age_P21_Sex_F_Side_L_Animal_1_chunk_1_trick/branch/61/branch.tif\n",
      "file_path /mnt/gdrive/ThNe/development_retina/traice/microglia_Age_P21_Sex_F_Side_L_Animal_1_chunk_1_trick/branch/62/branch.tif\n"
     ]
    },
    {
     "name": "stderr",
     "output_type": "stream",
     "text": [
      "Skeletonizing Labels:  50%|█████     | 2/4 [00:00<00:00, 37.40it/s]\n",
      "Skeletonizing Labels: 100%|██████████| 1/1 [00:00<00:00, 35.19it/s]\n"
     ]
    },
    {
     "name": "stdout",
     "output_type": "stream",
     "text": [
      "file_path /mnt/gdrive/ThNe/development_retina/traice/microglia_Age_P21_Sex_F_Side_L_Animal_1_chunk_1_trick/branch/63/branch.tif\n",
      "file_path /mnt/gdrive/ThNe/development_retina/traice/microglia_Age_P21_Sex_F_Side_L_Animal_1_chunk_1_trick/branch/64/branch.tif\n"
     ]
    },
    {
     "name": "stderr",
     "output_type": "stream",
     "text": [
      "Skeletonizing Labels: 100%|██████████| 1/1 [00:00<00:00, 26.82it/s]\n",
      "Skeletonizing Labels: 100%|██████████| 1/1 [00:00<00:00, 29.72it/s]\n"
     ]
    },
    {
     "name": "stdout",
     "output_type": "stream",
     "text": [
      "file_path /mnt/gdrive/ThNe/development_retina/traice/microglia_Age_P21_Sex_F_Side_L_Animal_1_chunk_1_trick/branch/65/branch.tif\n",
      "file_path /mnt/gdrive/ThNe/development_retina/traice/microglia_Age_P21_Sex_F_Side_L_Animal_1_chunk_1_trick/branch/66/branch.tif\n"
     ]
    },
    {
     "name": "stderr",
     "output_type": "stream",
     "text": [
      "Skeletonizing Labels: 100%|██████████| 1/1 [00:00<00:00, 38.74it/s]\n",
      "Skeletonizing Labels: 0it [00:00, ?it/s]\n"
     ]
    },
    {
     "name": "stdout",
     "output_type": "stream",
     "text": [
      "file_path /mnt/gdrive/ThNe/development_retina/traice/microglia_Age_P21_Sex_F_Side_L_Animal_1_chunk_1_trick/branch/67/branch.tif\n",
      "Error saving the Skeleton for cell 67. Skipping the cell\n",
      "file_path /mnt/gdrive/ThNe/development_retina/traice/microglia_Age_P21_Sex_F_Side_L_Animal_1_chunk_1_trick/branch/68/branch.tif\n"
     ]
    },
    {
     "name": "stderr",
     "output_type": "stream",
     "text": [
      "Skeletonizing Labels: 100%|██████████| 1/1 [00:00<00:00, 20.40it/s]\n",
      "Skeletonizing Labels: 100%|██████████| 1/1 [00:00<00:00, 37.98it/s]\n"
     ]
    },
    {
     "name": "stdout",
     "output_type": "stream",
     "text": [
      "file_path /mnt/gdrive/ThNe/development_retina/traice/microglia_Age_P21_Sex_F_Side_L_Animal_1_chunk_1_trick/branch/69/branch.tif\n",
      "file_path /mnt/gdrive/ThNe/development_retina/traice/microglia_Age_P21_Sex_F_Side_L_Animal_1_chunk_1_trick/branch/70/branch.tif\n"
     ]
    },
    {
     "name": "stderr",
     "output_type": "stream",
     "text": [
      "Skeletonizing Labels: 100%|██████████| 1/1 [00:00<00:00, 33.93it/s]\n",
      "Skeletonizing Labels:  50%|█████     | 2/4 [00:00<00:00, 53.18it/s]\n"
     ]
    },
    {
     "name": "stdout",
     "output_type": "stream",
     "text": [
      "file_path /mnt/gdrive/ThNe/development_retina/traice/microglia_Age_P21_Sex_F_Side_L_Animal_1_chunk_1_trick/branch/71/branch.tif\n",
      "file_path /mnt/gdrive/ThNe/development_retina/traice/microglia_Age_P21_Sex_F_Side_L_Animal_1_chunk_1_trick/branch/72/branch.tif\n"
     ]
    },
    {
     "name": "stderr",
     "output_type": "stream",
     "text": [
      "Skeletonizing Labels: 100%|██████████| 2/2 [00:00<00:00, 45.11it/s]\n",
      "Skeletonizing Labels:  67%|██████▋   | 2/3 [00:00<00:00, 50.04it/s]\n"
     ]
    },
    {
     "name": "stdout",
     "output_type": "stream",
     "text": [
      "file_path /mnt/gdrive/ThNe/development_retina/traice/microglia_Age_P21_Sex_F_Side_L_Animal_1_chunk_1_trick/branch/73/branch.tif\n",
      "file_path /mnt/gdrive/ThNe/development_retina/traice/microglia_Age_P21_Sex_F_Side_L_Animal_1_chunk_1_trick/branch/74/branch.tif\n"
     ]
    },
    {
     "name": "stderr",
     "output_type": "stream",
     "text": [
      "Skeletonizing Labels: 100%|██████████| 1/1 [00:00<00:00, 37.81it/s]\n",
      "Skeletonizing Labels: 100%|██████████| 1/1 [00:00<00:00, 51.36it/s]\n",
      "Skeletonizing Labels:   0%|          | 0/2 [00:00<?, ?it/s]"
     ]
    },
    {
     "name": "stdout",
     "output_type": "stream",
     "text": [
      "file_path /mnt/gdrive/ThNe/development_retina/traice/microglia_Age_P21_Sex_F_Side_L_Animal_1_chunk_1_trick/branch/75/branch.tif\n",
      "file_path /mnt/gdrive/ThNe/development_retina/traice/microglia_Age_P21_Sex_F_Side_L_Animal_1_chunk_1_trick/branch/76/branch.tif\n"
     ]
    },
    {
     "name": "stderr",
     "output_type": "stream",
     "text": [
      "Skeletonizing Labels: 100%|██████████| 2/2 [00:00<00:00, 70.26it/s]\n",
      "Skeletonizing Labels: 100%|██████████| 1/1 [00:00<00:00, 15.63it/s]\n"
     ]
    },
    {
     "name": "stdout",
     "output_type": "stream",
     "text": [
      "file_path /mnt/gdrive/ThNe/development_retina/traice/microglia_Age_P21_Sex_F_Side_L_Animal_1_chunk_1_trick/branch/77/branch.tif\n",
      "file_path /mnt/gdrive/ThNe/development_retina/traice/microglia_Age_P21_Sex_F_Side_L_Animal_1_chunk_1_trick/branch/78/branch.tif\n"
     ]
    },
    {
     "name": "stderr",
     "output_type": "stream",
     "text": [
      "Skeletonizing Labels: 100%|██████████| 2/2 [00:00<00:00, 56.12it/s]\n",
      "Skeletonizing Labels:  67%|██████▋   | 2/3 [00:00<00:00, 76.60it/s]\n"
     ]
    },
    {
     "name": "stdout",
     "output_type": "stream",
     "text": [
      "file_path /mnt/gdrive/ThNe/development_retina/traice/microglia_Age_P21_Sex_F_Side_L_Animal_1_chunk_1_trick/branch/79/branch.tif\n",
      "file_path /mnt/gdrive/ThNe/development_retina/traice/microglia_Age_P21_Sex_F_Side_L_Animal_1_chunk_1_trick/branch/80/branch.tif\n"
     ]
    },
    {
     "name": "stderr",
     "output_type": "stream",
     "text": [
      "Skeletonizing Labels: 100%|██████████| 1/1 [00:00<00:00, 23.46it/s]\n",
      "Skeletonizing Labels: 100%|██████████| 2/2 [00:00<00:00, 55.60it/s]\n"
     ]
    },
    {
     "name": "stdout",
     "output_type": "stream",
     "text": [
      "file_path /mnt/gdrive/ThNe/development_retina/traice/microglia_Age_P21_Sex_F_Side_L_Animal_1_chunk_1_trick/branch/81/branch.tif\n",
      "file_path /mnt/gdrive/ThNe/development_retina/traice/microglia_Age_P21_Sex_F_Side_L_Animal_1_chunk_1_trick/branch/82/branch.tif\n"
     ]
    },
    {
     "name": "stderr",
     "output_type": "stream",
     "text": [
      "Skeletonizing Labels: 100%|██████████| 1/1 [00:00<00:00, 53.04it/s]\n",
      "Skeletonizing Labels: 100%|██████████| 2/2 [00:00<00:00, 43.98it/s]\n"
     ]
    },
    {
     "name": "stdout",
     "output_type": "stream",
     "text": [
      "file_path /mnt/gdrive/ThNe/development_retina/traice/microglia_Age_P21_Sex_F_Side_L_Animal_1_chunk_1_trick/branch/83/branch.tif\n",
      "file_path /mnt/gdrive/ThNe/development_retina/traice/microglia_Age_P21_Sex_F_Side_L_Animal_1_chunk_1_trick/branch/84/branch.tif\n"
     ]
    },
    {
     "name": "stderr",
     "output_type": "stream",
     "text": [
      "Skeletonizing Labels: 100%|██████████| 1/1 [00:00<00:00, 21.76it/s]\n",
      "Skeletonizing Labels: 100%|██████████| 1/1 [00:00<00:00, 21.72it/s]\n"
     ]
    },
    {
     "name": "stdout",
     "output_type": "stream",
     "text": [
      "file_path /mnt/gdrive/ThNe/development_retina/traice/microglia_Age_P21_Sex_F_Side_L_Animal_1_chunk_1_trick/branch/85/branch.tif\n",
      "file_path /mnt/gdrive/ThNe/development_retina/traice/microglia_Age_P21_Sex_F_Side_L_Animal_1_chunk_1_trick/branch/86/branch.tif\n"
     ]
    },
    {
     "name": "stderr",
     "output_type": "stream",
     "text": [
      "Skeletonizing Labels: 100%|██████████| 2/2 [00:00<00:00, 47.40it/s]\n",
      "Skeletonizing Labels: 100%|██████████| 1/1 [00:00<00:00, 26.92it/s]\n"
     ]
    },
    {
     "name": "stdout",
     "output_type": "stream",
     "text": [
      "file_path /mnt/gdrive/ThNe/development_retina/traice/microglia_Age_P21_Sex_F_Side_L_Animal_1_chunk_1_trick/branch/87/branch.tif\n",
      "file_path /mnt/gdrive/ThNe/development_retina/traice/microglia_Age_P21_Sex_F_Side_L_Animal_1_chunk_1_trick/branch/88/branch.tif\n"
     ]
    },
    {
     "name": "stderr",
     "output_type": "stream",
     "text": [
      "Skeletonizing Labels: 100%|██████████| 1/1 [00:00<00:00, 18.09it/s]\n"
     ]
    },
    {
     "name": "stdout",
     "output_type": "stream",
     "text": [
      "file_path /mnt/gdrive/ThNe/development_retina/traice/microglia_Age_P21_Sex_F_Side_L_Animal_1_chunk_1_trick/branch/89/branch.tif\n",
      "file_path /mnt/gdrive/ThNe/development_retina/traice/microglia_Age_P21_Sex_F_Side_L_Animal_1_chunk_1_trick/branch/90/branch.tif\n"
     ]
    },
    {
     "name": "stderr",
     "output_type": "stream",
     "text": [
      "Skeletonizing Labels: 100%|██████████| 1/1 [00:00<00:00, 22.73it/s]\n",
      "Skeletonizing Labels: 100%|██████████| 2/2 [00:00<00:00, 65.39it/s]\n"
     ]
    },
    {
     "name": "stdout",
     "output_type": "stream",
     "text": [
      "file_path /mnt/gdrive/ThNe/development_retina/traice/microglia_Age_P21_Sex_F_Side_L_Animal_1_chunk_1_trick/branch/91/branch.tif\n",
      "file_path /mnt/gdrive/ThNe/development_retina/traice/microglia_Age_P21_Sex_F_Side_L_Animal_1_chunk_1_trick/branch/92/branch.tif\n"
     ]
    },
    {
     "name": "stderr",
     "output_type": "stream",
     "text": [
      "Skeletonizing Labels: 100%|██████████| 1/1 [00:00<00:00, 27.03it/s]\n",
      "Skeletonizing Labels: 100%|██████████| 2/2 [00:00<00:00, 54.10it/s]\n"
     ]
    },
    {
     "name": "stdout",
     "output_type": "stream",
     "text": [
      "file_path /mnt/gdrive/ThNe/development_retina/traice/microglia_Age_P21_Sex_F_Side_L_Animal_1_chunk_1_trick/branch/93/branch.tif\n",
      "file_path /mnt/gdrive/ThNe/development_retina/traice/microglia_Age_P21_Sex_F_Side_L_Animal_1_chunk_1_trick/branch/94/branch.tif\n"
     ]
    },
    {
     "name": "stderr",
     "output_type": "stream",
     "text": [
      "Skeletonizing Labels: 100%|██████████| 2/2 [00:00<00:00, 83.93it/s]\n",
      "Skeletonizing Labels: 100%|██████████| 2/2 [00:00<00:00, 40.14it/s]\n"
     ]
    },
    {
     "name": "stdout",
     "output_type": "stream",
     "text": [
      "file_path /mnt/gdrive/ThNe/development_retina/traice/microglia_Age_P21_Sex_F_Side_L_Animal_1_chunk_1_trick/branch/95/branch.tif\n"
     ]
    },
    {
     "name": "stderr",
     "output_type": "stream",
     "text": [
      "Skeletonizing Labels: 100%|██████████| 2/2 [00:00<00:00, 43.17it/s]\n",
      "Skeletonizing Labels:   0%|          | 0/1 [00:00<?, ?it/s]"
     ]
    },
    {
     "name": "stdout",
     "output_type": "stream",
     "text": [
      "file_path /mnt/gdrive/ThNe/development_retina/traice/microglia_Age_P21_Sex_F_Side_L_Animal_1_chunk_1_trick/branch/96/branch.tif\n",
      "file_path /mnt/gdrive/ThNe/development_retina/traice/microglia_Age_P21_Sex_F_Side_L_Animal_1_chunk_1_trick/branch/97/branch.tif\n"
     ]
    },
    {
     "name": "stderr",
     "output_type": "stream",
     "text": [
      "Skeletonizing Labels: 100%|██████████| 1/1 [00:00<00:00, 16.45it/s]\n",
      "Skeletonizing Labels:  67%|██████▋   | 2/3 [00:00<00:00, 54.84it/s]\n"
     ]
    },
    {
     "name": "stdout",
     "output_type": "stream",
     "text": [
      "file_path /mnt/gdrive/ThNe/development_retina/traice/microglia_Age_P21_Sex_F_Side_L_Animal_1_chunk_1_trick/branch/98/branch.tif\n",
      "file_path /mnt/gdrive/ThNe/development_retina/traice/microglia_Age_P21_Sex_F_Side_L_Animal_1_chunk_1_trick/branch/99/branch.tif\n"
     ]
    },
    {
     "name": "stderr",
     "output_type": "stream",
     "text": [
      "Skeletonizing Labels: 100%|██████████| 1/1 [00:00<00:00, 51.89it/s]\n",
      "Skeletonizing Labels: 100%|██████████| 1/1 [00:00<00:00, 21.12it/s]\n"
     ]
    },
    {
     "name": "stdout",
     "output_type": "stream",
     "text": [
      "file_path /mnt/gdrive/ThNe/development_retina/traice/microglia_Age_P21_Sex_F_Side_L_Animal_1_chunk_1_trick/branch/100/branch.tif\n",
      "file_path /mnt/gdrive/ThNe/development_retina/traice/microglia_Age_P21_Sex_F_Side_L_Animal_1_chunk_1_trick/branch/101/branch.tif\n"
     ]
    },
    {
     "name": "stderr",
     "output_type": "stream",
     "text": [
      "Skeletonizing Labels: 100%|██████████| 2/2 [00:00<00:00, 37.86it/s]\n",
      "Skeletonizing Labels: 100%|██████████| 1/1 [00:00<00:00, 24.27it/s]\n"
     ]
    },
    {
     "name": "stdout",
     "output_type": "stream",
     "text": [
      "file_path /mnt/gdrive/ThNe/development_retina/traice/microglia_Age_P21_Sex_F_Side_L_Animal_1_chunk_1_trick/branch/102/branch.tif\n",
      "file_path /mnt/gdrive/ThNe/development_retina/traice/microglia_Age_P21_Sex_F_Side_L_Animal_1_chunk_1_trick/branch/103/branch.tif\n"
     ]
    },
    {
     "name": "stderr",
     "output_type": "stream",
     "text": [
      "Skeletonizing Labels: 100%|██████████| 1/1 [00:00<00:00, 25.91it/s]\n",
      "Skeletonizing Labels: 100%|██████████| 1/1 [00:00<00:00, 22.13it/s]\n"
     ]
    },
    {
     "name": "stdout",
     "output_type": "stream",
     "text": [
      "file_path /mnt/gdrive/ThNe/development_retina/traice/microglia_Age_P21_Sex_F_Side_L_Animal_1_chunk_1_trick/branch/104/branch.tif\n",
      "file_path /mnt/gdrive/ThNe/development_retina/traice/microglia_Age_P21_Sex_F_Side_L_Animal_1_chunk_1_trick/branch/105/branch.tif\n"
     ]
    },
    {
     "name": "stderr",
     "output_type": "stream",
     "text": [
      "Skeletonizing Labels: 100%|██████████| 1/1 [00:00<00:00, 19.23it/s]\n",
      "Skeletonizing Labels: 100%|██████████| 1/1 [00:00<00:00, 24.23it/s]\n",
      "Skeletonizing Labels: 100%|██████████| 1/1 [00:00<00:00, 31.45it/s]\n"
     ]
    },
    {
     "name": "stdout",
     "output_type": "stream",
     "text": [
      "file_path /mnt/gdrive/ThNe/development_retina/traice/microglia_Age_P21_Sex_F_Side_L_Animal_1_chunk_1_trick/branch/106/branch.tif\n",
      "file_path /mnt/gdrive/ThNe/development_retina/traice/microglia_Age_P21_Sex_F_Side_L_Animal_1_chunk_1_trick/branch/107/branch.tif\n"
     ]
    },
    {
     "name": "stderr",
     "output_type": "stream",
     "text": [
      "Skeletonizing Labels: 100%|██████████| 1/1 [00:00<00:00, 20.94it/s]\n",
      "Skeletonizing Labels:   0%|          | 0/1 [00:00<?, ?it/s]"
     ]
    },
    {
     "name": "stdout",
     "output_type": "stream",
     "text": [
      "file_path /mnt/gdrive/ThNe/development_retina/traice/microglia_Age_P21_Sex_F_Side_L_Animal_1_chunk_1_trick/branch/108/branch.tif\n",
      "file_path /mnt/gdrive/ThNe/development_retina/traice/microglia_Age_P21_Sex_F_Side_L_Animal_1_chunk_1_trick/branch/109/branch.tif\n"
     ]
    },
    {
     "name": "stderr",
     "output_type": "stream",
     "text": [
      "Skeletonizing Labels: 100%|██████████| 1/1 [00:00<00:00, 21.13it/s]\n",
      "Skeletonizing Labels: 100%|██████████| 1/1 [00:00<00:00, 29.80it/s]\n"
     ]
    },
    {
     "name": "stdout",
     "output_type": "stream",
     "text": [
      "file_path /mnt/gdrive/ThNe/development_retina/traice/microglia_Age_P21_Sex_F_Side_L_Animal_1_chunk_1_trick/branch/110/branch.tif\n",
      "file_path /mnt/gdrive/ThNe/development_retina/traice/microglia_Age_P21_Sex_F_Side_L_Animal_1_chunk_1_trick/branch/111/branch.tif\n"
     ]
    },
    {
     "name": "stderr",
     "output_type": "stream",
     "text": [
      "Skeletonizing Labels: 100%|██████████| 1/1 [00:00<00:00, 21.69it/s]\n",
      "Skeletonizing Labels: 100%|██████████| 1/1 [00:00<00:00, 19.23it/s]\n",
      "Skeletonizing Labels: 100%|██████████| 1/1 [00:00<00:00, 39.31it/s]\n"
     ]
    },
    {
     "name": "stdout",
     "output_type": "stream",
     "text": [
      "file_path /mnt/gdrive/ThNe/development_retina/traice/microglia_Age_P21_Sex_F_Side_L_Animal_1_chunk_1_trick/branch/112/branch.tif\n",
      "file_path /mnt/gdrive/ThNe/development_retina/traice/microglia_Age_P21_Sex_F_Side_L_Animal_1_chunk_1_trick/branch/113/branch.tif\n"
     ]
    },
    {
     "name": "stderr",
     "output_type": "stream",
     "text": [
      "Skeletonizing Labels: 100%|██████████| 2/2 [00:00<00:00, 59.37it/s]\n",
      "Skeletonizing Labels:   0%|          | 0/2 [00:00<?, ?it/s]"
     ]
    },
    {
     "name": "stdout",
     "output_type": "stream",
     "text": [
      "file_path /mnt/gdrive/ThNe/development_retina/traice/microglia_Age_P21_Sex_F_Side_L_Animal_1_chunk_1_trick/branch/114/branch.tif\n",
      "file_path /mnt/gdrive/ThNe/development_retina/traice/microglia_Age_P21_Sex_F_Side_L_Animal_1_chunk_1_trick/branch/115/branch.tif\n"
     ]
    },
    {
     "name": "stderr",
     "output_type": "stream",
     "text": [
      "Skeletonizing Labels: 100%|██████████| 2/2 [00:00<00:00, 40.20it/s]\n",
      "Skeletonizing Labels: 100%|██████████| 1/1 [00:00<00:00, 22.86it/s]\n"
     ]
    },
    {
     "name": "stdout",
     "output_type": "stream",
     "text": [
      "file_path /mnt/gdrive/ThNe/development_retina/traice/microglia_Age_P21_Sex_F_Side_L_Animal_1_chunk_1_trick/branch/116/branch.tif\n"
     ]
    },
    {
     "name": "stderr",
     "output_type": "stream",
     "text": [
      "Skeletonizing Labels: 100%|██████████| 1/1 [00:00<00:00, 31.45it/s]\n"
     ]
    },
    {
     "name": "stdout",
     "output_type": "stream",
     "text": [
      "SWC saved in /mnt/gdrive/ThNe/development_retina/traice/microglia_Age_P21_Sex_F_Side_L_Animal_1_chunk_1_trick/branch\n",
      "====> Total Run Time: 0h 8m 15s\n"
     ]
    },
    {
     "data": {
      "text/plain": [
       "CompletedProcess(args='CUDA_VISIBLE_DEVICES=0 trAIce img2swc -ip \"/mnt/gdrive/ThNe/development_retina/trila_fuse_mg/microglia_Age_P21_Sex_F_Side_L_Animal_1_chunk_1_trick.tif\" -wss \"(128, 128, 16)\" -wsb \"(128, 128, 16)\" -tp \"(0.9, 0.9, 0.8)\" -spd \"/mnt/gdrive/ThNe/development_retina/traice\" -mp \"/mnt/gdrive/ThNe/development_retina/traice\" -spsl \"/mnt/gdrive/ThNe/development_retina/traice\" -bsp \"/mnt/gdrive/ThNe/development_retina/traice\" -nw 1', returncode=0)"
      ]
     },
     "execution_count": 26,
     "metadata": {},
     "output_type": "execute_result"
    }
   ],
   "source": [
    "subprocess.run(command, shell=True, check=True)"
   ]
  }
 ],
 "metadata": {
  "kernelspec": {
   "display_name": "env_preprocess_img",
   "language": "python",
   "name": "python3"
  },
  "language_info": {
   "codemirror_mode": {
    "name": "ipython",
    "version": 3
   },
   "file_extension": ".py",
   "mimetype": "text/x-python",
   "name": "python",
   "nbconvert_exporter": "python",
   "pygments_lexer": "ipython3",
   "version": "3.9.2"
  }
 },
 "nbformat": 4,
 "nbformat_minor": 2
}
