{
 "cells": [
  {
   "cell_type": "code",
   "execution_count": null,
   "metadata": {},
   "outputs": [],
   "source": [
    "%load_ext autoreload\n",
    "%autoreload 2"
   ]
  },
  {
   "cell_type": "code",
   "execution_count": null,
   "metadata": {},
   "outputs": [],
   "source": [
    "from io_images import get_images_infoframe\n",
    "import paramiko\n",
    "import os \n",
    "from process_ims import get_ims_pixel_size"
   ]
  },
  {
   "cell_type": "markdown",
   "metadata": {},
   "source": [
    "Get chunk images .tiff"
   ]
  },
  {
   "cell_type": "code",
   "execution_count": null,
   "metadata": {},
   "outputs": [],
   "source": [
    "base_path = \"/mnt/gdrive/ThNe/development_retina/\"\n",
    "input_folder = \"microglia/P15/F/L/\" \n",
    "output_folder = \"traice/p15/F/L/\"\n",
    "filename = \"microglia_Age_P15_Sex_F_Side_L_Animal_1.tif\"\n",
    "\n"
   ]
  },
  {
   "cell_type": "code",
   "execution_count": null,
   "metadata": {},
   "outputs": [],
   "source": [
    "import tifffile\n",
    "import numpy as np\n",
    "import os\n",
    "\n",
    "# Paths\n",
    "base_path = \"/mnt/gdrive/ThNe/development_retina/\"\n",
    "input_folder = \"microglia/P15/F/L/\"\n",
    "filename = \"microglia_Age_P15_Sex_F_Side_L_Animal_1.tif\"\n",
    "full_path = os.path.join(base_path, input_folder, filename)\n",
    "\n",
    "# Load the TIFF file\n",
    "with tifffile.TiffFile(full_path) as tif:\n",
    "    data = tif.asarray()[:40]  # Take only the first 100 slices\n"
   ]
  },
  {
   "cell_type": "code",
   "execution_count": null,
   "metadata": {},
   "outputs": [],
   "source": [
    "# import matplotlib.pyplot as plt\n",
    "# from skimage import exposure\n",
    "\n",
    "# # Define Z slices and crop region\n",
    "# z_slices = range(5, 45, 3)\n",
    "# x_range = slice(2500, 4000)\n",
    "# y_range = slice(2500, 4000)\n",
    "\n",
    "# # Plot each selected slice\n",
    "# fig, axes = plt.subplots(1, len(z_slices), figsize=(15, 5))\n",
    "# for ax, z in zip(axes, z_slices):\n",
    "#     img = data[z, x_range, y_range]\n",
    "#     tile_clahe = exposure.equalize_adapthist(img, clip_limit=0.1)\n",
    "\n",
    "#     ax.imshow(tile_clahe, cmap='gray')\n",
    "#     ax.set_title(f\"Z={z}\")\n",
    "#     ax.axis('off')\n",
    "\n",
    "# plt.tight_layout()\n",
    "# plt.show()\n"
   ]
  },
  {
   "cell_type": "code",
   "execution_count": null,
   "metadata": {},
   "outputs": [],
   "source": [
    "pix_size = {\n",
    "    'x': 0.339024328759285,\n",
    "    'y': 0.339024328759285,\n",
    "    'z': 0.9\n",
    "}"
   ]
  },
  {
   "cell_type": "code",
   "execution_count": null,
   "metadata": {},
   "outputs": [],
   "source": [
    "size = data.shape\n",
    "# Create new metadata\n",
    "metadata = {\n",
    "    # Physical dimensions in microns\n",
    "    \"ExtendMinX\": 0,\n",
    "    \"ExtendMaxX\": size[2] * pix_size['x'],\n",
    "    \"ExtendMinY\": 0,\n",
    "    \"ExtendMaxY\": size[1] * pix_size['y'],\n",
    "    \"ExtendMinZ\": 0,\n",
    "    \"ExtendMaxZ\": size[0] * pix_size['z'],\n",
    "    # Dimensions in pixels\n",
    "    \"SizeX\": size[2],\n",
    "    \"SizeY\": size[1],\n",
    "    \"SizeZ\": size[0],\n",
    "}\n",
    "\n",
    "\n",
    "# Save to new file\n",
    "output_filename = filename.replace(\".tif\", \"_trick.tif\")\n",
    "output_path = os.path.join(base_path, input_folder, output_filename)\n",
    "\n",
    "tifffile.imwrite(output_path, data, metadata=metadata)\n",
    "\n",
    "print(f\"Saved new file to: {output_path}\")\n"
   ]
  },
  {
   "cell_type": "code",
   "execution_count": null,
   "metadata": {},
   "outputs": [],
   "source": [
    "# # project_path = \"results/retina_example\"\n",
    "# infoframe = get_images_infoframe(win_path, \n",
    "#                                  extension='.tif',\n",
    "#                                  conditions = [],\n",
    "# )"
   ]
  },
  {
   "cell_type": "code",
   "execution_count": null,
   "metadata": {},
   "outputs": [],
   "source": [
    "output_filename"
   ]
  },
  {
   "cell_type": "code",
   "execution_count": null,
   "metadata": {},
   "outputs": [],
   "source": [
    "save_path = os.path.join(base_path, \"traice/\")\n"
   ]
  },
  {
   "cell_type": "code",
   "execution_count": null,
   "metadata": {},
   "outputs": [],
   "source": [
    "save_path"
   ]
  },
  {
   "cell_type": "code",
   "execution_count": null,
   "metadata": {},
   "outputs": [],
   "source": [
    "function = f'CUDA_VISIBLE_DEVICES=0 trAIce img2swc'\n",
    "\n",
    "file_path_args = f'-ip \"{os.path.join(base_path, input_folder, output_filename)}\"'\n",
    "\n",
    "cube_args = f'-wss \"(128, 128, 16)\" -wsb \"(128, 128, 16)\" -tp \"(2.5, 2.5, 1.1)\"'\n",
    "\n",
    "save_args = f'-spd \"{save_path}\" -mp \"{save_path}\" -spsl \"{save_path}\" -bsp \"{save_path}\" -nw 1'\n",
    "\n",
    "command = f'{function} {file_path_args} {cube_args} {save_args}'"
   ]
  },
  {
   "cell_type": "code",
   "execution_count": null,
   "metadata": {},
   "outputs": [],
   "source": [
    "print(command)"
   ]
  },
  {
   "cell_type": "code",
   "execution_count": null,
   "metadata": {},
   "outputs": [],
   "source": [
    "import subprocess\n",
    "subprocess.run(command, shell=True, check=True)\n"
   ]
  }
 ],
 "metadata": {
  "kernelspec": {
   "display_name": "env_preprocess_img",
   "language": "python",
   "name": "python3"
  },
  "language_info": {
   "codemirror_mode": {
    "name": "ipython",
    "version": 3
   },
   "file_extension": ".py",
   "mimetype": "text/x-python",
   "name": "python",
   "nbconvert_exporter": "python",
   "pygments_lexer": "ipython3",
   "version": "3.9.2"
  }
 },
 "nbformat": 4,
 "nbformat_minor": 2
}
