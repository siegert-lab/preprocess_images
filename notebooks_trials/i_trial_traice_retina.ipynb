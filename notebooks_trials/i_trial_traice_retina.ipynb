{
 "cells": [
  {
   "cell_type": "code",
   "execution_count": null,
   "metadata": {},
   "outputs": [],
   "source": [
    "%load_ext autoreload\n",
    "%autoreload 2"
   ]
  },
  {
   "cell_type": "code",
   "execution_count": null,
   "metadata": {},
   "outputs": [],
   "source": [
    "from io_images import get_images_infoframe\n",
    "import paramiko\n",
    "import os \n",
    "from process_ims import get_ims_pixel_size"
   ]
  },
  {
   "cell_type": "markdown",
   "metadata": {},
   "source": [
    "Get chunk images .tiff"
   ]
  },
  {
   "cell_type": "code",
   "execution_count": null,
   "metadata": {},
   "outputs": [],
   "source": [
    "base_path = \"/run/user/1009/gvfs/smb-share:server=fs.ista.ac.at,share=drives/tnegrell/group/siegegrp/ThNe/development_retina/\"\n",
    "input_folder = \"microglia/P15/F/L/\" \n",
    "output_folder = \"traice/p15/F/L/\"\n",
    "filename = \"microglia_Age_P15_Sex_F_Side_L_Animal_1.tif\"\n",
    "\n",
    "save_path = os.path.join(base_path, output_folder)\n"
   ]
  },
  {
   "cell_type": "code",
   "execution_count": null,
   "metadata": {},
   "outputs": [],
   "source": [
    "# # project_path = \"results/retina_example\"\n",
    "# infoframe = get_images_infoframe(win_path, \n",
    "#                                  extension='.tif',\n",
    "#                                  conditions = [],\n",
    "# )"
   ]
  },
  {
   "cell_type": "code",
   "execution_count": null,
   "metadata": {},
   "outputs": [],
   "source": [
    "function = f'CUDA_VISIBLE_DEVICES=0 trAIce img2swc'\n",
    "\n",
    "file_path_args = f'-ip \"{os.path.join(base_path, input_folder, filename)}\"'\n",
    "\n",
    "cube_args = f'-wss \"(128, 128, 16)\" -wsb \"(128, 128, 16)\" -tp \"(0.4, 0.4, 1.1)\"'\n",
    "\n",
    "save_args = f'-spd \"{save_path}\" -mp \"{save_path}\" -spsl \"{save_path}\" -bsp \"{save_path}\" -nw 1'\n",
    "\n",
    "command = f'{function} {file_path_args} {cube_args} {save_args}'"
   ]
  },
  {
   "cell_type": "code",
   "execution_count": null,
   "metadata": {},
   "outputs": [],
   "source": [
    "print(command)"
   ]
  },
  {
   "cell_type": "code",
   "execution_count": null,
   "metadata": {},
   "outputs": [],
   "source": [
    "import subprocess\n",
    "subprocess.run(command, shell=True, check=True)\n"
   ]
  }
 ],
 "metadata": {
  "kernelspec": {
   "display_name": "env_preprocess_img",
   "language": "python",
   "name": "python3"
  },
  "language_info": {
   "codemirror_mode": {
    "name": "ipython",
    "version": 3
   },
   "file_extension": ".py",
   "mimetype": "text/x-python",
   "name": "python",
   "nbconvert_exporter": "python",
   "pygments_lexer": "ipython3",
   "version": "3.9.2"
  }
 },
 "nbformat": 4,
 "nbformat_minor": 2
}
