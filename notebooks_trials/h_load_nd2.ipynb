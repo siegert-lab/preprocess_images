{
 "cells": [
  {
   "cell_type": "code",
   "execution_count": null,
   "metadata": {},
   "outputs": [],
   "source": [
    "%load_ext autoreload\n",
    "%autoreload 2"
   ]
  },
  {
   "cell_type": "code",
   "execution_count": null,
   "metadata": {},
   "outputs": [],
   "source": [
    "from bioio import BioImage\n",
    "import bioio_nd2\n",
    "import nd2\n"
   ]
  },
  {
   "cell_type": "code",
   "execution_count": null,
   "metadata": {},
   "outputs": [],
   "source": [
    "nd2_folder_path = \"/mnt/gdrive/ThNe/_Bioimaging/development_retina/\"\n",
    "img_name = \"slide_P15_M_2002.nd2\"\n",
    "img_path = nd2_folder_path + img_name\n",
    "\n",
    "# img = BioImage(img_path, reader=bioio_nd2.Reader)\n"
   ]
  },
  {
   "cell_type": "markdown",
   "metadata": {},
   "source": [
    "ND2 File Metadata\n",
    "==============================\n",
    "\n",
    "\n",
    "Shape        : (51, 105, 4, 2048, 2048)\n",
    "\n",
    "\n",
    "Data Type    : uint16\n",
    "\n",
    "\n",
    "Total Size   : 89841991680 pixels\n",
    "\n",
    "\n",
    "Dimension Sizes: {'P': 51, 'Z': 105, 'C': 4, 'Y': 2048, 'X': 2048}\n",
    "\n",
    "\n",
    "Voxel Size   : VoxelSize(x=0.339024328759285, y=0.339024328759285, z=0.9) µm\n"
   ]
  },
  {
   "cell_type": "code",
   "execution_count": null,
   "metadata": {},
   "outputs": [],
   "source": [
    "\n",
    "# Load the ND2 file\n",
    "with nd2.ND2File(img_path) as f:\n",
    "    print(\"ND2 File Metadata\")\n",
    "    print(\"=\" * 30)\n",
    "    print(f\"Shape        : {f.shape}\")  # (Frames, Channels, Height, Width)\n",
    "    print(f\"Data Type    : {f.dtype}\")\n",
    "    print(f\"Total Size   : {f.size} pixels\")\n",
    "    print(f\"Dimension Sizes: {f.sizes}\")  # Dictionary of dimensions (e.g., {'x': 1024, 'y': 1024, 'z': 10, 'c': 3, 't': 5})\n",
    "    print(f\"Voxel Size   : {f.voxel_size()} µm\")  # Pixel spacing in microns\n"
   ]
  },
  {
   "cell_type": "code",
   "execution_count": null,
   "metadata": {},
   "outputs": [],
   "source": [
    "data = img.data"
   ]
  },
  {
   "cell_type": "code",
   "execution_count": null,
   "metadata": {},
   "outputs": [],
   "source": [
    "img.dims"
   ]
  },
  {
   "cell_type": "code",
   "execution_count": null,
   "metadata": {},
   "outputs": [],
   "source": [
    "data.shape"
   ]
  },
  {
   "cell_type": "code",
   "execution_count": null,
   "metadata": {},
   "outputs": [],
   "source": [
    "print(\"Metadata:\", img.metadata)\n",
    "print(\"Timepoints:\", img.metadata.get('timepoints'))\n",
    "print(\"Channels:\", img.metadata.get('channels'))\n",
    "print(\"Z-slices:\", img.metadata.get('z_slices'))\n"
   ]
  },
  {
   "cell_type": "code",
   "execution_count": null,
   "metadata": {},
   "outputs": [],
   "source": [
    "img_path = \"/mnt/gdrive/ThNe/development_retina/raw_images_n5/P15/M/R/retina_Age_P21_Sex_F_Side_L_Animal_1.xml\"\n",
    "\n",
    "# Specify timepoint and setup_id (adjust based on your data structure)\n",
    "timepoint = 0  # example timepoint (first time)\n",
    "setup_id = 0  # example setup (e.g., first channel)\n",
    "\n",
    "# Load the dataset with timepoint and setup_id\n",
    "ds = BdvDataset(img_path, timepoint, setup_id)"
   ]
  },
  {
   "cell_type": "code",
   "execution_count": null,
   "metadata": {},
   "outputs": [],
   "source": [
    "\n",
    "\n",
    "print(\"Shape:\", ds.shape)\n",
    "print(\"Resolution:\", ds.resolution)\n",
    "print(\"Num timepoints:\", ds.n_timepoints)\n",
    "\n",
    "# Load first timepoint, resolution level 0\n",
    "img = ds[0, 0]  # (t, resolution level)\n",
    "\n",
    "# Visualize a Z-slice\n",
    "plt.imshow(img[0], cmap=\"gray\")\n",
    "plt.show()\n"
   ]
  },
  {
   "cell_type": "code",
   "execution_count": null,
   "metadata": {},
   "outputs": [],
   "source": [
    "data = img.data"
   ]
  },
  {
   "cell_type": "code",
   "execution_count": null,
   "metadata": {},
   "outputs": [],
   "source": [
    "data.shape"
   ]
  },
  {
   "cell_type": "code",
   "execution_count": null,
   "metadata": {},
   "outputs": [],
   "source": [
    "\n",
    "\n",
    "# Load the image\n",
    "img = open_uri(\"your_image.ome.zarr\")\n",
    "\n",
    "# See metadata\n",
    "print(f\"Shape: {img.shape}\")\n",
    "print(f\"Dimensions: {img.dims}\")\n",
    "print(f\"Metadata keys: {list(img.metadata.keys())}\")\n",
    "\n",
    "# Get image data (Dask or NumPy)\n",
    "data = img.data\n",
    "\n",
    "# Let's pick one channel, one timepoint, one z-slice\n",
    "# Assume dims are ('t', 'c', 'z', 'y', 'x') or similar\n",
    "tile = data[0, 0, 0]  # shape: (y, x) -- 2D image\n",
    "\n",
    "# Convert to NumPy if needed\n",
    "if hasattr(tile, 'compute'):\n",
    "    tile = tile.compute()\n",
    "\n",
    "# Show the raw tile\n",
    "plt.figure(figsize=(6, 6))\n",
    "plt.imshow(tile, cmap='gray')\n",
    "plt.title(\"Raw tile\")\n",
    "plt.axis('off')\n",
    "plt.show()\n"
   ]
  }
 ],
 "metadata": {
  "kernelspec": {
   "display_name": "preprocess-img",
   "language": "python",
   "name": "python3"
  },
  "language_info": {
   "codemirror_mode": {
    "name": "ipython",
    "version": 3
   },
   "file_extension": ".py",
   "mimetype": "text/x-python",
   "name": "python",
   "nbconvert_exporter": "python",
   "pygments_lexer": "ipython3",
   "version": "3.10.16"
  }
 },
 "nbformat": 4,
 "nbformat_minor": 2
}
