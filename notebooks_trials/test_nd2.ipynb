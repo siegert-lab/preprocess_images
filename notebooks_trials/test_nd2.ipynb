{
 "cells": [
  {
   "cell_type": "code",
   "execution_count": null,
   "metadata": {},
   "outputs": [],
   "source": [
    "import os\n",
    "import re\n",
    "from tqdm import tqdm\n",
    "\n",
    "from bdv_toolz.cli import nd2_to_bdv\n",
    "import sys\n",
    "\n",
    "from bdv_toolz.bdv_creation import create_bdv_n5_multi_tile\n"
   ]
  },
  {
   "cell_type": "code",
   "execution_count": null,
   "metadata": {},
   "outputs": [],
   "source": [
    "from pathlib import Path\n",
    "\n",
    "# Define base directory\n",
    "base_dir = Path(r\"\\\\fs.ista.ac.at\\group\\siegegrp\\ThNe\")\n",
    "\n",
    "# Define slide name\n",
    "slide_name = \"slide_P15_F_2002\"\n",
    "\n",
    "# Define file paths using the slide name\n",
    "nd2_file_path = base_dir / \"_Bioimaging\" / \"development_retina\" / f\"{slide_name}.nd2\"\n",
    "output_file_path = base_dir / \"development_retina\" / f\"test_{slide_name}.n5\"\n",
    "\n",
    "# Ensure paths exist (optional)\n",
    "if not nd2_file_path.exists():\n",
    "    print(f\"Warning: ND2 file not found at {nd2_file_path}\")\n"
   ]
  },
  {
   "cell_type": "code",
   "execution_count": null,
   "metadata": {},
   "outputs": [],
   "source": [
    "create_bdv_n5_multi_tile(\n",
    "        nd2_file_path, \n",
    "        out_n5= output_file_path,\n",
    "        tiles = None,\n",
    "        channels = None,\n",
    "        rounds = None,\n",
    "        z_slc = None,\n",
    "        yes = True,\n",
    "        ca_json = None,\n",
    "        ff_json = None,\n",
    "        overwrite = 'skip',\n",
    "        downscale_factors = ((1,2,2),(1,2,2)),\n",
    "        read_tile_positions = True\n",
    ")"
   ]
  },
  {
   "cell_type": "code",
   "execution_count": null,
   "metadata": {},
   "outputs": [],
   "source": [
    "from bioio import BioImage\n",
    "\n",
    "help(BioImage)\n"
   ]
  },
  {
   "cell_type": "code",
   "execution_count": null,
   "metadata": {},
   "outputs": [],
   "source": [
    "import bioio_base as biob\n",
    "import dask.array as da\n",
    "import numpy as np\n",
    "import xarray as xr\n",
    "from bioio_base.types import MetaArrayLike"
   ]
  },
  {
   "cell_type": "code",
   "execution_count": null,
   "metadata": {},
   "outputs": [],
   "source": [
    "from bioio_base.image_container import BioImage\n",
    "\n",
    "print(BioImage.__abstractmethods__)  # Check which abstract methods are missing\n"
   ]
  }
 ],
 "metadata": {
  "kernelspec": {
   "display_name": "Python 3",
   "language": "python",
   "name": "python3"
  },
  "language_info": {
   "codemirror_mode": {
    "name": "ipython",
    "version": 3
   },
   "file_extension": ".py",
   "mimetype": "text/x-python",
   "name": "python",
   "nbconvert_exporter": "python",
   "pygments_lexer": "ipython3",
   "version": "3.10.16"
  }
 },
 "nbformat": 4,
 "nbformat_minor": 2
}
