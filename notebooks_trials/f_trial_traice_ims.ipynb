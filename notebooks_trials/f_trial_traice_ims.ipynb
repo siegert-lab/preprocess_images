{
 "cells": [
  {
   "cell_type": "code",
   "execution_count": null,
   "metadata": {},
   "outputs": [],
   "source": [
    "%load_ext autoreload\n",
    "%autoreload 2"
   ]
  },
  {
   "cell_type": "code",
   "execution_count": null,
   "metadata": {},
   "outputs": [],
   "source": [
    "from io_images import get_images_infoframe\n",
    "import paramiko\n",
    "import os \n",
    "from process_ims import get_ims_pixel_size"
   ]
  },
  {
   "cell_type": "markdown",
   "metadata": {},
   "source": [
    "Get chunk images .tiff"
   ]
  },
  {
   "cell_type": "code",
   "execution_count": null,
   "metadata": {},
   "outputs": [],
   "source": [
    "windows = \"nt\" in os.name"
   ]
  },
  {
   "cell_type": "code",
   "execution_count": null,
   "metadata": {},
   "outputs": [],
   "source": [
    "win_path = r\"/run/user/1009/gvfs/smb-share:server=fs.ista.ac.at,share=drives/tnegrell/group/siegegrp/FlSu/_Bioimaging/Thomas/chunked/retina_example\"\n",
    "# project_path = \"results/retina_example\"\n",
    "infoframe = get_images_infoframe(win_path, \n",
    "                                 extension='.tif',\n",
    "                                 conditions = [],\n",
    ")"
   ]
  },
  {
   "cell_type": "code",
   "execution_count": null,
   "metadata": {},
   "outputs": [],
   "source": [
    "infoframe"
   ]
  },
  {
   "cell_type": "code",
   "execution_count": null,
   "metadata": {},
   "outputs": [],
   "source": [
    "import re\n",
    "mu_per_p = 2.7122\n",
    "mz_per_p = 0.900\n",
    "# Function to extract boundaries\n",
    "def extract_boundaries(filename):\n",
    "    match = re.search(r'x__([\\d]+)_([\\d]+)__y__([\\d]+)_([\\d]+)', filename)\n",
    "    if match:\n",
    "        return {\n",
    "            \"ExtendMinX\": float(match.group(1))*mu_per_p,\n",
    "            \"ExtendMaxX\": float(match.group(2))*mu_per_p,\n",
    "            \"ExtendMinY\": float(match.group(3))*mu_per_p,\n",
    "            \"ExtendMaxY\": float(match.group(4))*mu_per_p,\n",
    "            \"ExtendMinZ\": 0.,\n",
    "            \"ExtendMaxZ\": 50.*mz_per_p,\n",
    "            \"SizeX\": abs(int(match.group(1))-int(match.group(2))),\n",
    "            \"SizeY\": abs(int(match.group(3))-int(match.group(4))),\n",
    "            \"SizeZ\": 50,\n",
    "\n",
    "\n",
    "        }\n",
    "    return {}\n",
    "\n",
    "# Apply function to create dictionaries\n",
    "infoframe[\"boundaries\"] = infoframe[\"file_name\"].apply(extract_boundaries)\n",
    "\n",
    "# Convert to a list of dictionaries if needed\n",
    "infoframe"
   ]
  },
  {
   "cell_type": "code",
   "execution_count": null,
   "metadata": {},
   "outputs": [],
   "source": [
    "import tifffile as tiff\n",
    "import json\n",
    "import numpy as np\n",
    "import pandas as pd\n",
    "import os"
   ]
  },
  {
   "cell_type": "code",
   "execution_count": null,
   "metadata": {},
   "outputs": [],
   "source": [
    "import os\n",
    "import json\n",
    "import tifffile as tiff\n",
    "\n",
    "# Ensure output directory exists\n",
    "os.makedirs(win_path, exist_ok=True)\n",
    "\n",
    "# Iterate through DataFrame and save TIFF files\n",
    "for _, row in infoframe.iterrows():\n",
    "    file_name = \"meatdata_\" + row[\"file_name\"] \n",
    "    metadata = row[\"boundaries\"]\n",
    "    file_path = row[\"file_path\"]  # Path to original TIFF file\n",
    "\n",
    "    # Convert metadata dictionary to JSON string\n",
    "    metadata_json = json.dumps(metadata)\n",
    "\n",
    "    # Read original TIFF image\n",
    "    try:\n",
    "        image_data = tiff.imread(file_path)  # Load image safely\n",
    "    except FileNotFoundError:\n",
    "        print(f\"Error: File not found - {file_path}\")\n",
    "        continue\n",
    "    except Exception as e:\n",
    "        print(f\"Error reading {file_path}: {e}\")\n",
    "        continue\n",
    "\n",
    "    # Define output file path (save modified TIFF in win_path)\n",
    "    output_path = os.path.join(win_path, file_name)\n",
    "\n",
    "    # Save TIFF file with metadata\n",
    "    tiff.imwrite(output_path, image_data, description=metadata_json)\n",
    "\n",
    "    print(f\"Saved {output_path} with metadata: {metadata}\")\n"
   ]
  },
  {
   "cell_type": "code",
   "execution_count": null,
   "metadata": {},
   "outputs": [],
   "source": [
    "import tifffile as tiff\n",
    "    \n",
    "# Load the TIFF file\n",
    "array = tiff.imread(infoframe['file_path'].iloc[4])\n",
    "\n",
    "# Check the shape of the array\n",
    "print(f\"Loaded TIFF shape: {array.shape}\")"
   ]
  },
  {
   "cell_type": "markdown",
   "metadata": {},
   "source": [
    "Get one chunk"
   ]
  },
  {
   "cell_type": "code",
   "execution_count": null,
   "metadata": {},
   "outputs": [],
   "source": [
    "# Define the file name you are searching for\n",
    "filename = infoframe['file_name'].iloc[4]\n",
    "filepath = infoframe['file_path'].iloc[4]\n",
    "# Get the index of the row containing the file name\n",
    "index = infoframe.loc[infoframe['file_name'] == filename].index\n",
    "\n",
    "# If you want to print or use the index\n",
    "print(f\"Index of the row: {index}\")\n"
   ]
  },
  {
   "cell_type": "markdown",
   "metadata": {},
   "source": [
    "get metadata"
   ]
  },
  {
   "cell_type": "code",
   "execution_count": null,
   "metadata": {},
   "outputs": [],
   "source": [
    "# (0.9, 0.339, 0.339)\n",
    "1/0.339"
   ]
  },
  {
   "cell_type": "markdown",
   "metadata": {},
   "source": [
    "Get the one"
   ]
  },
  {
   "cell_type": "code",
   "execution_count": null,
   "metadata": {},
   "outputs": [],
   "source": [
    "# base_path = f'/mnt/archive/archive/siegegrp/AlVe/MORPHOMICS2.0_MICROGLIA_BRAIN_ATLAS'\n",
    "base_path = r\"/run/user/1009/gvfs/smb-share:server=fs.ista.ac.at,share=drives/tnegrell/group/siegegrp/FlSu/_Bioimaging/Thomas/chunked/retina_example\"\n",
    "filename = \"meatdata_trial_chunk_1_over_8_x__5675_11350__y__0_5675__.tif\"\n",
    "\n",
    "file_path_args = f'-ip \"{os.path.join(base_path, filename)}\"'\n",
    "\n",
    "cube_args = f'-wss \"(128, 128, 16)\" -wsb \"(128, 128, 16)\" -tp \"(2.95, 2.95, 1.1)\"'\n",
    "\n",
    "save_path = 'results/traced_microglia'\n",
    "\n",
    "save_args = f'-spd \"{save_path}\" -mp \"{save_path}\" -spsl \"{save_path}\" -bsp \"{save_path}\" -nw 1'\n",
    "\n",
    "command = f'{function} {file_path_args} {cube_args} {save_args}'\n"
   ]
  },
  {
   "cell_type": "code",
   "execution_count": null,
   "metadata": {},
   "outputs": [],
   "source": [
    "print(command)"
   ]
  },
  {
   "cell_type": "code",
   "execution_count": null,
   "metadata": {},
   "outputs": [],
   "source": [
    "import subprocess\n",
    "subprocess.run(command, shell=True, check=True)\n"
   ]
  }
 ],
 "metadata": {
  "kernelspec": {
   "display_name": "env_preprocess_img",
   "language": "python",
   "name": "python3"
  },
  "language_info": {
   "codemirror_mode": {
    "name": "ipython",
    "version": 3
   },
   "file_extension": ".py",
   "mimetype": "text/x-python",
   "name": "python",
   "nbconvert_exporter": "python",
   "pygments_lexer": "ipython3",
   "version": "3.9.2"
  }
 },
 "nbformat": 4,
 "nbformat_minor": 2
}
