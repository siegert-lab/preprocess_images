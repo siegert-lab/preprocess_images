{
 "cells": [
  {
   "cell_type": "code",
   "execution_count": null,
   "metadata": {},
   "outputs": [],
   "source": [
    "%load_ext autoreload\n",
    "%autoreload 2"
   ]
  },
  {
   "cell_type": "code",
   "execution_count": null,
   "metadata": {},
   "outputs": [],
   "source": [
    "import sys\n",
    "import os\n",
    "import pandas as pd\n",
    "\n",
    "# Add the directory above the current notebook to the system path\n",
    "sys.path.append(os.path.abspath(os.path.join('..')))"
   ]
  },
  {
   "cell_type": "code",
   "execution_count": null,
   "metadata": {},
   "outputs": [],
   "source": [
    "windows = \"nt\" in os.name\n",
    "\n",
    "folder_path = r\"\\\\fs.ista.ac.at\\drives\\aventuri\\archive\\siegegrp\\AlVe\\MORPHOMICS2.0_MICROGLIA_BRAIN_ATLAS\"\n",
    "register_name = 'slide_register_JoNa.xlsx'"
   ]
  },
  {
   "cell_type": "code",
   "execution_count": null,
   "metadata": {},
   "outputs": [],
   "source": [
    "# Specify the path to your Excel file\n",
    "file_path = os.path.join(folder_path, register_name)\n",
    "\n",
    "# Read the Excel file into a DataFrame\n",
    "register_frame = pd.read_excel(file_path)\n",
    "\n",
    "# Display the first few rows of the DataFrame\n",
    "register_frame.keys()"
   ]
  },
  {
   "cell_type": "code",
   "execution_count": null,
   "metadata": {},
   "outputs": [],
   "source": [
    "register_frame.head()"
   ]
  },
  {
   "cell_type": "code",
   "execution_count": null,
   "metadata": {},
   "outputs": [],
   "source": [
    "# Read the Excel file into a DataFrame\n",
    "register_frame = pd.read_excel(file_path)\n",
    "new_slices_frame = register_frame[register_frame['renamed/stored'].isna()]\n",
    "new_slices_frame['Slide_no'] = new_slices_frame['Slide_no'].astype(int)\n",
    "# Loop through each row in new_slices_frame\n",
    "for index, row in new_slices_frame.iterrows():\n",
    "    slide_no = row['Slide_no']  # Get Slide_no from the current row\n",
    "    \n",
    "    # Find the matching file_name in dataframe that contains the Slide_no as a substring\n",
    "    match_row = dataframe[dataframe['file_name'].str.contains(str(slide_no))]\n",
    "    \n",
    "    if not match_row.empty:  # If a match is found\n",
    "        # Use .loc to update the correct row in the original dataframe\n",
    "        dataframe.loc[match_row.index, 'Age'] = str(row['Age (mo)']) + 'm'\n",
    "        dataframe.loc[match_row.index, 'Sex'] = row['Sex']\n",
    "        dataframe.loc[match_row.index, 'Animal'] = 'Animal_' + str(row['Animal_replicate'])\n"
   ]
  }
 ],
 "metadata": {
  "kernelspec": {
   "display_name": "Python 3",
   "language": "python",
   "name": "python3"
  },
  "language_info": {
   "codemirror_mode": {
    "name": "ipython",
    "version": 3
   },
   "file_extension": ".py",
   "mimetype": "text/x-python",
   "name": "python",
   "nbconvert_exporter": "python",
   "pygments_lexer": "ipython3",
   "version": "3.10.16"
  }
 },
 "nbformat": 4,
 "nbformat_minor": 2
}
