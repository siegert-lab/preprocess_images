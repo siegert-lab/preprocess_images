{
 "cells": [
  {
   "cell_type": "code",
   "execution_count": null,
   "metadata": {},
   "outputs": [],
   "source": [
    "import zarr\n",
    "import re\n",
    "import numpy as np\n",
    "import xml.etree.ElementTree as ET\n",
    "from skimage.registration import phase_cross_correlation\n",
    "from scipy.ndimage import shift\n",
    "from scipy.spatial import KDTree\n",
    "from collections import defaultdict, deque\n"
   ]
  },
  {
   "cell_type": "code",
   "execution_count": null,
   "metadata": {},
   "outputs": [],
   "source": [
    "\n",
    "# ----- File Paths -----\n",
    "base_path = \"/mnt/gdrive/ThNe/development_retina/raw_images_n5/\"\n",
    "xml_folder = \"P15/F/L/\"\n",
    "file_name = \"retina_Age_P15_Sex_F_Side_L_Animal_1\"\n",
    "file_path = base_path + xml_folder + file_name\n",
    "\n",
    "n5_path = file_path + '.n5'\n",
    "xml_path = file_path + '.xml'"
   ]
  },
  {
   "cell_type": "code",
   "execution_count": null,
   "metadata": {},
   "outputs": [],
   "source": [
    "# ----- Open N5 dataset with zarr -----\n",
    "z = zarr.open(n5_path, mode='r')\n",
    "\n",
    "# ----- Select only the setups you want (e.g., channel of interest: setups where id % 4 == 2) -----\n",
    "selected_setups = sorted(\n",
    "    [k for k in z.group_keys() if re.match(r'setup\\d+$', k) and int(k[5:]) % 4 == 2],\n",
    "    key=lambda s: int(s[5:])\n",
    ")\n",
    "print(\"Selected setups:\", selected_setups)"
   ]
  },
  {
   "cell_type": "code",
   "execution_count": null,
   "metadata": {},
   "outputs": [],
   "source": [
    "# # ----- Precompute Z-max Projections (store in a dictionary keyed by setup id) -----\n",
    "# zmax_tiles = {}\n",
    "# for setup in selected_setups:\n",
    "#     sid = int(setup[5:])  # extract numeric setup id\n",
    "#     print(\"Processing\", setup)\n",
    "#     tile_data = z[f'{setup}/timepoint0/s0'][:]  # load tile (3D array: Z, Y, X)\n",
    "#     z_max_projection = np.max(tile_data, axis=0)  # Z-max projection (2D image)\n",
    "#     zmax_tiles[sid] = z_max_projection\n",
    "\n",
    "# print(\"Number of Z-max projected tiles:\", len(zmax_tiles))"
   ]
  },
  {
   "cell_type": "code",
   "execution_count": null,
   "metadata": {},
   "outputs": [],
   "source": [
    "def select_z_slices(tile, start=0, end=100, step=2):\n",
    "    # tile.shape is assumed to be (150, H, W)\n",
    "    z_indices = np.arange(start, end + 1, step)  # Create indices from start to end with step\n",
    "    return tile[z_indices, :, :]"
   ]
  },
  {
   "cell_type": "code",
   "execution_count": null,
   "metadata": {},
   "outputs": [],
   "source": [
    "# ----- Precompute Z-max Projections (store in a dictionary keyed by setup id) -----\n",
    "zsub_tiles = {}\n",
    "for setup in selected_setups:\n",
    "    sid = int(setup[5:])  # extract numeric setup id\n",
    "    print(\"Processing\", setup)\n",
    "    tile_data = z[f'{setup}/timepoint0/s0'][:]  # load tile (3D array: Z, Y, X)\n",
    "    sampled_tile = select_z_slices(tile_data, start=5, end=35, step=1)\n",
    "    zsub_tiles[sid] = sampled_tile\n"
   ]
  },
  {
   "cell_type": "code",
   "execution_count": null,
   "metadata": {},
   "outputs": [],
   "source": [
    "import matplotlib.pyplot as plt\n",
    "from skimage import exposure\n",
    "\n",
    "tile = zsub_tiles[16*4+2][6]\n",
    "if hasattr(tile, 'compute'):\n",
    "    tile = tile.compute()\n",
    "tile_clahe = exposure.equalize_adapthist(tile, clip_limit=0.1)\n",
    "# Show the tile\n",
    "plt.figure(figsize=(6, 6))\n",
    "plt.imshow(tile_clahe, cmap='gray')\n",
    "plt.title(f\"Z-slice {z}\")\n",
    "plt.axis('off')\n",
    "plt.show()"
   ]
  },
  {
   "cell_type": "code",
   "execution_count": null,
   "metadata": {},
   "outputs": [],
   "source": [
    "# ----- Parse XML to Extract Tile Positions -----\n",
    "tree = ET.parse(xml_path)\n",
    "root = tree.getroot()\n",
    "\n",
    "# We'll store the affine transformation for each tile (as a flattened 3x4 matrix).\n",
    "positions = {}\n",
    "for reg in root.findall('.//ViewRegistration'):\n",
    "    setup_id = int(reg.attrib['setup'])\n",
    "    # Only consider setups for the channel of interest\n",
    "    if setup_id % 4 == 2:\n",
    "        affine_elem = reg.find('.//affine')\n",
    "        affine = list(map(float, affine_elem.text.strip().split()))\n",
    "        # affine is expected to be a flat list of 12 elements (3x4 matrix in row-major order)\n",
    "        positions[setup_id] = affine"
   ]
  },
  {
   "cell_type": "code",
   "execution_count": null,
   "metadata": {},
   "outputs": [],
   "source": [
    "# ----- Build Neighbor Pairs using KDTree (based on translation vectors) -----\n",
    "# Convert positions to a list of translation vectors.\n",
    "setup_ids = sorted(positions.keys())\n",
    "coords = np.array([np.array(positions[sid]).reshape(3, 4)[:, 3] for sid in setup_ids])\n",
    "print(\"Tile Coordinates:\\n\", coords)\n",
    "\n",
    "# --- Tile Specifications ---\n",
    "tile_size_in_pixels = 2048        # Tile size in pixels\n",
    "overlap_percent = 0.05            # 10% overlap between adjacent tiles\n",
    "\n",
    "# Compute the effective tile center-to-center distance in pixels.\n",
    "# With 10% overlap, the effective distance = 2048 - (2048 * 0.20)\n",
    "effective_distance_pixels = tile_size_in_pixels * (1 - overlap_percent)\n",
    "print(\"Effective center-to-center distance (pixels):\", effective_distance_pixels)\n",
    "\n",
    "# Define a small margin (in pixels) to account for slight misalignments.\n",
    "margin = 50\n",
    "\n",
    "# Set a threshold for neighbor search.\n",
    "# In your case, using a threshold around 1800 works, which is near the effective distance.\n",
    "threshold = effective_distance_pixels + margin  \n",
    "print(\"Threshold for neighbor search (pixels):\", threshold)\n",
    "\n",
    "# Build the KDTree and find neighbor pairs.\n",
    "tree_kdt = KDTree(coords)\n",
    "neighbor_pairs = []\n",
    "for i, pos in enumerate(coords):\n",
    "    neighbors = tree_kdt.query_ball_point(pos, r=threshold)\n",
    "    for j in neighbors:\n",
    "        if i < j:  # avoid duplicate pairs\n",
    "            neighbor_pairs.append((setup_ids[i], setup_ids[j]))\n",
    "print(\"Neighbor pairs:\", neighbor_pairs)"
   ]
  },
  {
   "cell_type": "code",
   "execution_count": null,
   "metadata": {},
   "outputs": [],
   "source": [
    "len(neighbor_pairs)"
   ]
  },
  {
   "cell_type": "code",
   "execution_count": null,
   "metadata": {},
   "outputs": [],
   "source": [
    "# ----- Compute Relative Shifts for Each Neighbor Pair using Phase Correlation -----\n",
    "relative_shifts = {}  # key: (a, b) will store the shift from tile a to tile b (in [y, x] order)\n",
    "for a, b in neighbor_pairs:\n",
    "    img_a = zsub_tiles[a]\n",
    "    img_b = zsub_tiles[b]\n",
    "    shift_xy, error, _ = phase_cross_correlation(img_a, img_b, upsample_factor=1)\n",
    "    print(f\"Shift from setup{a} to setup{b}: {shift_xy}, error: {error:.2f}\")\n",
    "    relative_shifts[(a, b)] = shift_xy\n",
    "    relative_shifts[(b, a)] = -shift_xy  # inverse shift"
   ]
  },
  {
   "cell_type": "code",
   "execution_count": null,
   "metadata": {},
   "outputs": [],
   "source": [
    "# ----- Build the Neighbor Graph -----\n",
    "graph = defaultdict(list)\n",
    "for a, b in neighbor_pairs:\n",
    "    graph[a].append(b)\n",
    "    graph[b].append(a)"
   ]
  },
  {
   "cell_type": "code",
   "execution_count": null,
   "metadata": {},
   "outputs": [],
   "source": [
    "# # ----- Propagate Global Shifts via BFS -----\n",
    "# global_shifts = {}  # key: tile id, value: global shift vector [y, x]\n",
    "# # Use the first tile in our sorted list as the reference (global shift [0, 0])\n",
    "# ref_tile = setup_ids[0]\n",
    "# global_shifts[ref_tile] = np.array([0.0, 0.0])\n",
    "# visited = {ref_tile}\n",
    "# queue = deque([ref_tile])\n",
    "\n",
    "# while queue:\n",
    "#     current = queue.popleft()\n",
    "#     for neighbor in graph[current]:\n",
    "#         if neighbor not in visited:\n",
    "#             # Get the computed relative shift from current to neighbor.\n",
    "#             rel = relative_shifts.get((current, neighbor), np.array([0.0, 0.0]))\n",
    "#             global_shifts[neighbor] = global_shifts[current] + rel\n",
    "#             visited.add(neighbor)\n",
    "#             queue.append(neighbor)\n",
    "\n",
    "# print(\"Global Shifts:\")\n",
    "# for tile in sorted(global_shifts.keys()):\n",
    "#     print(f\"Tile {tile}: Shift {global_shifts[tile]}\")\n",
    "\n",
    "# ----- Propagate Global 3D Shifts via BFS -----\n",
    "global_shifts = {}  # key: tile id, value: global shift vector [z, y, x]\n",
    "\n",
    "# Use the first tile in our sorted list as the reference (global shift [0, 0, 0])\n",
    "ref_tile = setup_ids[0]\n",
    "global_shifts[ref_tile] = np.array([0.0, 0.0, 0.0])\n",
    "visited = {ref_tile}\n",
    "queue = deque([ref_tile])\n",
    "\n",
    "while queue:\n",
    "    current = queue.popleft()\n",
    "    for neighbor in graph[current]:\n",
    "        if neighbor not in visited:\n",
    "            # Get the computed relative shift from current to neighbor (z, y, x)\n",
    "            rel = relative_shifts.get((current, neighbor), np.array([0.0, 0.0, 0.0]))\n",
    "            global_shifts[neighbor] = global_shifts[current] + rel\n",
    "            visited.add(neighbor)\n",
    "            queue.append(neighbor)\n",
    "\n",
    "print(\"Global 3D Shifts:\")\n",
    "for tile in sorted(global_shifts.keys()):\n",
    "    print(f\"Tile {tile}: Shift {global_shifts[tile]}\")\n"
   ]
  },
  {
   "cell_type": "code",
   "execution_count": null,
   "metadata": {},
   "outputs": [],
   "source": [
    "import xml.etree.ElementTree as ET\n",
    "import numpy as np\n",
    "\n",
    "# ----- Paths -----\n",
    "xml_path_input = \"/mnt/gdrive/ThNe/development_retina/raw_images_n5/P15/F/L/retina_Age_P15_Sex_F_Side_L_Animal_1.xml\"\n",
    "xml_path_output = \"/mnt/gdrive/ThNe/development_retina/raw_images_n5/P15/F/L/retina_Age_P15_Sex_F_Side_L_Animal_1_new.xml\"\n",
    "\n",
    "# ----- Load Original XML -----\n",
    "tree = ET.parse(xml_path_input)\n",
    "root = tree.getroot()\n",
    "\n",
    "# ----- Update Affine Translations Based on 3D Global Shifts -----\n",
    "for reg in root.findall('.//ViewRegistration'):\n",
    "    setup_id = int(reg.attrib['setup'])\n",
    "    tile_id = setup_id // 4  # 1 tile = 4 channels\n",
    "\n",
    "    if tile_id in global_shifts:\n",
    "        shift = global_shifts[tile_id]  # [z, y, x]\n",
    "\n",
    "        affine_elem = reg.find('.//affine')\n",
    "        affine = list(map(float, affine_elem.text.strip().split()))\n",
    "\n",
    "        # Update translation part of affine (tx, ty, tz)\n",
    "        affine[3]  += shift[2]  # X\n",
    "        affine[7]  += shift[1]  # Y\n",
    "        affine[11] += shift[0]  # Z\n",
    "\n",
    "        affine_elem.text = ' '.join(map(str, affine))\n",
    "\n",
    "# ----- Save Updated XML -----\n",
    "tree.write(xml_path_output)\n",
    "print(f\"Affine matrices for all channels updated with 3D shifts and saved to {xml_path_output}\")\n"
   ]
  }
 ],
 "metadata": {
  "kernelspec": {
   "display_name": "preprocess-img",
   "language": "python",
   "name": "python3"
  },
  "language_info": {
   "codemirror_mode": {
    "name": "ipython",
    "version": 3
   },
   "file_extension": ".py",
   "mimetype": "text/x-python",
   "name": "python",
   "nbconvert_exporter": "python",
   "pygments_lexer": "ipython3",
   "version": "3.10.16"
  }
 },
 "nbformat": 4,
 "nbformat_minor": 2
}
