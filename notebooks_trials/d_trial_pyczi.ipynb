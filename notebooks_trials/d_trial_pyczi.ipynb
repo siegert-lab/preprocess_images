{
 "cells": [
  {
   "cell_type": "code",
   "execution_count": 1,
   "metadata": {},
   "outputs": [],
   "source": [
    "%load_ext autoreload\n",
    "%autoreload 2"
   ]
  },
  {
   "cell_type": "code",
   "execution_count": 2,
   "metadata": {},
   "outputs": [],
   "source": [
    "from pylibCZIrw import czi as pyczi\n",
    "import os\n",
    "from IPython.display import display, JSON\n",
    "import json\n"
   ]
  },
  {
   "cell_type": "code",
   "execution_count": 3,
   "metadata": {},
   "outputs": [],
   "source": [
    "czifile = \"/mnt/archive/archive/siegegrp/AlVe/MORPHOMICS2.0_MICROGLIA_BRAIN_ATLAS/raw_images/9m/F/Animal_1/raw_image_Age_9m_Sex_F_Animal_1_Slide_0.czi\""
   ]
  },
  {
   "cell_type": "code",
   "execution_count": 4,
   "metadata": {},
   "outputs": [],
   "source": [
    "from IPython.display import display, JSON\n"
   ]
  },
  {
   "cell_type": "code",
   "execution_count": 5,
   "metadata": {},
   "outputs": [
    {
     "name": "stdout",
     "output_type": "stream",
     "text": [
      "['raw_image_Age_9m_Sex_F_Animal_1_Slide_1.czi', 'raw_image_Age_9m_Sex_F_Animal_1_Slide_0.czi', 'raw_image_Age_9m_Sex_F_Animal_1_Slide_5.czi', 'raw_image_Age_9m_Sex_F_Animal_1_Slide_7.czi', 'raw_image_Age_9m_Sex_F_Animal_1_Slide_4.czi', 'raw_image_Age_9m_Sex_F_Animal_1_Slide_2.czi', 'raw_image_Age_9m_Sex_F_Animal_1_Slide_3.czi', 'raw_image_Age_9m_Sex_F_Animal_1_Slide_6.czi', 'post measurements', 'pre_measurements']\n"
     ]
    }
   ],
   "source": [
    "print(os.listdir(os.path.dirname(czifile)))\n"
   ]
  },
  {
   "cell_type": "code",
   "execution_count": 7,
   "metadata": {},
   "outputs": [
    {
     "name": "stdout",
     "output_type": "stream",
     "text": [
      "Resolved Path: /mnt/archive/archive/siegegrp/AlVe/MORPHOMICS2.0_MICROGLIA_BRAIN_ATLAS/raw_images/9m/F/Animal_1/raw_image_Age_9m_Sex_F_Animal_1_Slide_0.czi\n",
      "{'T': (0, 1), 'Z': (0, 60), 'C': (0, 2), 'X': (-134030, -23601), 'Y': (18321, 46086)}\n"
     ]
    }
   ],
   "source": [
    "import os\n",
    "\n",
    "\n",
    "# Resolve to an absolute path\n",
    "resolved_path = os.path.realpath(czifile)\n",
    "print(f\"Resolved Path: {resolved_path}\")\n",
    "\n",
    "# Try opening with the resolved path\n",
    "with pyczi.open_czi(resolved_path, pyczi.ReaderFileInputTypes.Standard) as czidoc:\n",
    "# with pyczi.open_czi(resolved_path, pyczi.ReaderFileInputTypes.Curl) as czidoc:\n",
    "    # get the image dimensions as an dictionary, where the key identifies the dimension\n",
    "    total_bounding_box = czidoc.total_bounding_box\n",
    "\n",
    "print(total_bounding_box)"
   ]
  },
  {
   "cell_type": "code",
   "execution_count": null,
   "metadata": {},
   "outputs": [],
   "source": []
  }
 ],
 "metadata": {
  "kernelspec": {
   "display_name": "preprocess-img",
   "language": "python",
   "name": "python3"
  },
  "language_info": {
   "codemirror_mode": {
    "name": "ipython",
    "version": 3
   },
   "file_extension": ".py",
   "mimetype": "text/x-python",
   "name": "python",
   "nbconvert_exporter": "python",
   "pygments_lexer": "ipython3",
   "version": "3.10.16"
  }
 },
 "nbformat": 4,
 "nbformat_minor": 2
}
