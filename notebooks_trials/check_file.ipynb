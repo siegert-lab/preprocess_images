{
 "cells": [
  {
   "cell_type": "code",
   "execution_count": null,
   "metadata": {},
   "outputs": [],
   "source": [
    "import os\n",
    "import re\n",
    "from tqdm import tqdm\n",
    "\n",
    "from bdv_toolz.cli import nd2_to_bdv\n",
    "import sys\n",
    "\n",
    "from bdv_toolz.bdv_creation import create_bdv_n5_multi_tile\n"
   ]
  },
  {
   "cell_type": "code",
   "execution_count": null,
   "metadata": {},
   "outputs": [],
   "source": [
    "import xxhash\n",
    "import os\n",
    "import time\n",
    "\n",
    "def files_match(src_path, dest_path):\n",
    "    \"\"\"Compare two files by size first, then by xxhash if needed.\"\"\"\n",
    "    \n",
    "    if os.path.getsize(src_path) != os.path.getsize(dest_path):\n",
    "        return False  # Files are definitely different\n",
    "    \n",
    "    # Use xxhash for comparison\n",
    "    return compute_xxhash(src_path) == compute_xxhash(dest_path)\n",
    "\n",
    "def compute_xxhash(file_path, chunk_size=65536):\n",
    "    \"\"\"Compute xxhash checksum for a given file with progress tracking.\"\"\"\n",
    "    hasher = xxhash.xxh64()\n",
    "    \n",
    "    # Get file size and calculate total number of chunks\n",
    "    file_size = os.path.getsize(file_path)\n",
    "    total_chunks = (file_size + chunk_size - 1) // chunk_size  # This is equivalent to math.ceil(file_size / chunk_size)\n",
    "    \n",
    "    print(f\"Total number of chunks to process: {total_chunks}\")\n",
    "    \n",
    "    total_processed_chunks = 0\n",
    "    \n",
    "    try:\n",
    "        with open(file_path, \"rb\") as f:\n",
    "            while chunk := f.read(chunk_size):\n",
    "                hasher.update(chunk)\n",
    "                total_processed_chunks += 1\n",
    "                \n",
    "                # Print progress every 1000 chunks\n",
    "                if total_processed_chunks % 1000 == 0:\n",
    "                    print(f\"Chunks processed: {total_processed_chunks}/{total_chunks}\")\n",
    "        \n",
    "        return hasher.hexdigest()\n",
    "    \n",
    "    except Exception as e:\n",
    "        print(f\"Error reading {file_path}: {e}\")\n",
    "        return None\n"
   ]
  },
  {
   "cell_type": "code",
   "execution_count": null,
   "metadata": {},
   "outputs": [],
   "source": [
    "\n",
    "# Define base paths\n",
    "base_src_folder_path = \"/run/user/1001/gvfs/smb-share:server=scratch4.ista.ac.at,share=scratch/siegegrp/_ImageDrop/NIKON-W1-03/Thomas/nd_seq\"\n",
    "base_dest_folder_path = \"/mnt/gdrive/ThNe/_Bioimaging/development_retina\"\n",
    "\n",
    "# Define file names\n",
    "src_file = \"slide_P10_M_1001.nd2\"\n",
    "dest_file = \"slide_P10_M_1001.nd2\"\n",
    "\n",
    "# Construct full file paths\n",
    "src_path = os.path.join(base_src_folder_path, src_file)\n",
    "dest_path = os.path.join(base_dest_folder_path, dest_file)\n",
    "\n",
    "# Check if files match\n",
    "if files_match(src_path, dest_path):\n",
    "    print(\"✅ Files match!\")\n",
    "else:\n",
    "    print(\"❌ Files are different!\")\n"
   ]
  }
 ],
 "metadata": {
  "kernelspec": {
   "display_name": "preprocess-img",
   "language": "python",
   "name": "python3"
  },
  "language_info": {
   "codemirror_mode": {
    "name": "ipython",
    "version": 3
   },
   "file_extension": ".py",
   "mimetype": "text/x-python",
   "name": "python",
   "nbconvert_exporter": "python",
   "pygments_lexer": "ipython3",
   "version": "3.10.16"
  }
 },
 "nbformat": 4,
 "nbformat_minor": 2
}
