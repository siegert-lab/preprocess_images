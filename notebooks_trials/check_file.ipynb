{
 "cells": [
  {
   "cell_type": "code",
   "execution_count": 1,
   "metadata": {},
   "outputs": [
    {
     "name": "stderr",
     "output_type": "stream",
     "text": [
      "/home/thomas/miniconda3/envs/preprocess-img/lib/python3.10/site-packages/tqdm/auto.py:21: TqdmWarning: IProgress not found. Please update jupyter and ipywidgets. See https://ipywidgets.readthedocs.io/en/stable/user_install.html\n",
      "  from .autonotebook import tqdm as notebook_tqdm\n"
     ]
    }
   ],
   "source": [
    "import os\n",
    "import re\n",
    "from tqdm import tqdm\n",
    "\n",
    "from bdv_toolz.cli import nd2_to_bdv\n",
    "import sys\n",
    "\n",
    "from bdv_toolz.bdv_creation import create_bdv_n5_multi_tile\n"
   ]
  },
  {
   "cell_type": "code",
   "execution_count": 13,
   "metadata": {},
   "outputs": [
    {
     "name": "stdout",
     "output_type": "stream",
     "text": [
      "folder_path <class 'str'> /mnt/gdrive/ThNe/development_retina/raw_images_n5\n",
      "Found 9 files...\n",
      "There are 9 files in folder_location /mnt/gdrive/ThNe/development_retina/raw_images_n5\n"
     ]
    }
   ],
   "source": [
    "xml_path = \"/mnt/gdrive/ThNe/development_retina/raw_images_n5\"\n",
    "from io_images import get_images_infoframe\n",
    "df = get_images_infoframe(xml_path, extension= \".xml\", conditions=['Age', 'Sex', 'Side'])"
   ]
  },
  {
   "cell_type": "code",
   "execution_count": 14,
   "metadata": {},
   "outputs": [
    {
     "data": {
      "text/html": [
       "<div>\n",
       "<style scoped>\n",
       "    .dataframe tbody tr th:only-of-type {\n",
       "        vertical-align: middle;\n",
       "    }\n",
       "\n",
       "    .dataframe tbody tr th {\n",
       "        vertical-align: top;\n",
       "    }\n",
       "\n",
       "    .dataframe thead th {\n",
       "        text-align: right;\n",
       "    }\n",
       "</style>\n",
       "<table border=\"1\" class=\"dataframe\">\n",
       "  <thead>\n",
       "    <tr style=\"text-align: right;\">\n",
       "      <th></th>\n",
       "      <th>Age</th>\n",
       "      <th>Sex</th>\n",
       "      <th>Side</th>\n",
       "      <th>file_name</th>\n",
       "      <th>file_path</th>\n",
       "    </tr>\n",
       "  </thead>\n",
       "  <tbody>\n",
       "    <tr>\n",
       "      <th>0</th>\n",
       "      <td>P10</td>\n",
       "      <td>M</td>\n",
       "      <td>L</td>\n",
       "      <td>retina_Age_P10_Sex_M_Side_L_Animal_1.xml</td>\n",
       "      <td>/mnt/gdrive/ThNe/development_retina/raw_images...</td>\n",
       "    </tr>\n",
       "    <tr>\n",
       "      <th>1</th>\n",
       "      <td>P10</td>\n",
       "      <td>M</td>\n",
       "      <td>R</td>\n",
       "      <td>retina_Age_P10_Sex_M_Side_R_Animal_1.xml</td>\n",
       "      <td>/mnt/gdrive/ThNe/development_retina/raw_images...</td>\n",
       "    </tr>\n",
       "    <tr>\n",
       "      <th>2</th>\n",
       "      <td>P15</td>\n",
       "      <td>M</td>\n",
       "      <td>L</td>\n",
       "      <td>retina_Age_P15_Sex_M_Side_L_Animal_2.xml</td>\n",
       "      <td>/mnt/gdrive/ThNe/development_retina/raw_images...</td>\n",
       "    </tr>\n",
       "    <tr>\n",
       "      <th>3</th>\n",
       "      <td>P15</td>\n",
       "      <td>M</td>\n",
       "      <td>L</td>\n",
       "      <td>retina_Age_P15_Sex_M_Side_L_Animal_1.xml</td>\n",
       "      <td>/mnt/gdrive/ThNe/development_retina/raw_images...</td>\n",
       "    </tr>\n",
       "    <tr>\n",
       "      <th>4</th>\n",
       "      <td>P15</td>\n",
       "      <td>M</td>\n",
       "      <td>R</td>\n",
       "      <td>retina_Age_P15_Sex_M_Side_R_Animal_2.xml</td>\n",
       "      <td>/mnt/gdrive/ThNe/development_retina/raw_images...</td>\n",
       "    </tr>\n",
       "    <tr>\n",
       "      <th>5</th>\n",
       "      <td>P15</td>\n",
       "      <td>M</td>\n",
       "      <td>R</td>\n",
       "      <td>retina_Age_P15_Sex_M_Side_R_Animal_1.xml</td>\n",
       "      <td>/mnt/gdrive/ThNe/development_retina/raw_images...</td>\n",
       "    </tr>\n",
       "    <tr>\n",
       "      <th>6</th>\n",
       "      <td>P15</td>\n",
       "      <td>F</td>\n",
       "      <td>R</td>\n",
       "      <td>retina_Age_P15_Sex_F_Side_R_Animal_2.xml</td>\n",
       "      <td>/mnt/gdrive/ThNe/development_retina/raw_images...</td>\n",
       "    </tr>\n",
       "    <tr>\n",
       "      <th>7</th>\n",
       "      <td>P21</td>\n",
       "      <td>F</td>\n",
       "      <td>R</td>\n",
       "      <td>retina_Age_P21_Sex_F_Side_R_Animal_1.xml</td>\n",
       "      <td>/mnt/gdrive/ThNe/development_retina/raw_images...</td>\n",
       "    </tr>\n",
       "    <tr>\n",
       "      <th>8</th>\n",
       "      <td>P21</td>\n",
       "      <td>F</td>\n",
       "      <td>L</td>\n",
       "      <td>retina_Age_P21_Sex_F_Side_L_Animal_1.xml</td>\n",
       "      <td>/mnt/gdrive/ThNe/development_retina/raw_images...</td>\n",
       "    </tr>\n",
       "  </tbody>\n",
       "</table>\n",
       "</div>"
      ],
      "text/plain": [
       "   Age Sex Side                                 file_name  \\\n",
       "0  P10   M    L  retina_Age_P10_Sex_M_Side_L_Animal_1.xml   \n",
       "1  P10   M    R  retina_Age_P10_Sex_M_Side_R_Animal_1.xml   \n",
       "2  P15   M    L  retina_Age_P15_Sex_M_Side_L_Animal_2.xml   \n",
       "3  P15   M    L  retina_Age_P15_Sex_M_Side_L_Animal_1.xml   \n",
       "4  P15   M    R  retina_Age_P15_Sex_M_Side_R_Animal_2.xml   \n",
       "5  P15   M    R  retina_Age_P15_Sex_M_Side_R_Animal_1.xml   \n",
       "6  P15   F    R  retina_Age_P15_Sex_F_Side_R_Animal_2.xml   \n",
       "7  P21   F    R  retina_Age_P21_Sex_F_Side_R_Animal_1.xml   \n",
       "8  P21   F    L  retina_Age_P21_Sex_F_Side_L_Animal_1.xml   \n",
       "\n",
       "                                           file_path  \n",
       "0  /mnt/gdrive/ThNe/development_retina/raw_images...  \n",
       "1  /mnt/gdrive/ThNe/development_retina/raw_images...  \n",
       "2  /mnt/gdrive/ThNe/development_retina/raw_images...  \n",
       "3  /mnt/gdrive/ThNe/development_retina/raw_images...  \n",
       "4  /mnt/gdrive/ThNe/development_retina/raw_images...  \n",
       "5  /mnt/gdrive/ThNe/development_retina/raw_images...  \n",
       "6  /mnt/gdrive/ThNe/development_retina/raw_images...  \n",
       "7  /mnt/gdrive/ThNe/development_retina/raw_images...  \n",
       "8  /mnt/gdrive/ThNe/development_retina/raw_images...  "
      ]
     },
     "execution_count": 14,
     "metadata": {},
     "output_type": "execute_result"
    }
   ],
   "source": [
    "df"
   ]
  },
  {
   "cell_type": "code",
   "execution_count": null,
   "metadata": {},
   "outputs": [],
   "source": [
    "import xxhash\n",
    "import os\n",
    "import time\n",
    "\n",
    "def files_match(src_path, dest_path):\n",
    "    \"\"\"Compare two files by size first, then by xxhash if needed.\"\"\"\n",
    "    \n",
    "    if os.path.getsize(src_path) != os.path.getsize(dest_path):\n",
    "        return False  # Files are definitely different\n",
    "    \n",
    "    # Use xxhash for comparison\n",
    "    return compute_xxhash(src_path) == compute_xxhash(dest_path)\n",
    "\n",
    "def compute_xxhash(file_path, chunk_size=65536):\n",
    "    \"\"\"Compute xxhash checksum for a given file with progress tracking.\"\"\"\n",
    "    hasher = xxhash.xxh64()\n",
    "    \n",
    "    # Get file size and calculate total number of chunks\n",
    "    file_size = os.path.getsize(file_path)\n",
    "    total_chunks = (file_size + chunk_size - 1) // chunk_size  # This is equivalent to math.ceil(file_size / chunk_size)\n",
    "    \n",
    "    print(f\"Total number of chunks to process: {total_chunks}\")\n",
    "    \n",
    "    total_processed_chunks = 0\n",
    "    \n",
    "    try:\n",
    "        with open(file_path, \"rb\") as f:\n",
    "            while chunk := f.read(chunk_size):\n",
    "                hasher.update(chunk)\n",
    "                total_processed_chunks += 1\n",
    "                \n",
    "                # Print progress every 1000 chunks\n",
    "                if total_processed_chunks % 1000 == 0:\n",
    "                    print(f\"Chunks processed: {total_processed_chunks}/{total_chunks}\")\n",
    "        \n",
    "        return hasher.hexdigest()\n",
    "    \n",
    "    except Exception as e:\n",
    "        print(f\"Error reading {file_path}: {e}\")\n",
    "        return None\n"
   ]
  },
  {
   "cell_type": "markdown",
   "metadata": {},
   "source": []
  },
  {
   "cell_type": "code",
   "execution_count": 3,
   "metadata": {},
   "outputs": [
    {
     "name": "stdout",
     "output_type": "stream",
     "text": [
      "Number of CPUs: 8\n"
     ]
    }
   ],
   "source": [
    "import multiprocessing\n",
    "\n",
    "num_cpus = multiprocessing.cpu_count()\n",
    "print(f\"Number of CPUs: {num_cpus}\")\n"
   ]
  },
  {
   "cell_type": "code",
   "execution_count": 2,
   "metadata": {},
   "outputs": [
    {
     "name": "stdout",
     "output_type": "stream",
     "text": [
      "CPU usage per core: [23.3, 15.7, 15.8, 22.3, 22.2, 19.3, 15.4, 29.8]\n"
     ]
    }
   ],
   "source": [
    "import psutil\n",
    "\n",
    "cpu_percent = psutil.cpu_percent(percpu=True)  # Get usage per CPU core\n",
    "print(f\"CPU usage per core: {cpu_percent}\")\n"
   ]
  },
  {
   "cell_type": "code",
   "execution_count": null,
   "metadata": {},
   "outputs": [],
   "source": [
    "    total_cpus = multiprocessing.cpu_count()\n"
   ]
  },
  {
   "cell_type": "code",
   "execution_count": 1,
   "metadata": {},
   "outputs": [
    {
     "name": "stdout",
     "output_type": "stream",
     "text": [
      "Number of CPUs used by this process: 8\n"
     ]
    }
   ],
   "source": [
    "import psutil\n",
    "\n",
    "num_active_cpus = len([p for p in psutil.Process().cpu_affinity()])\n",
    "print(f\"Number of CPUs used by this process: {num_active_cpus}\")\n"
   ]
  },
  {
   "cell_type": "code",
   "execution_count": null,
   "metadata": {},
   "outputs": [],
   "source": [
    "import psutil\n",
    "import os\n",
    "\n",
    "pid = os.getpid()  # Get current Python process ID\n",
    "process = psutil.Process(pid)\n",
    "\n",
    "# Get number of CPU cores used by this process\n",
    "num_used_cpus = len(process.cpu_affinity())\n",
    "\n",
    "print(f\"Number of CPUs used by this Python process: {num_used_cpus}\")\n"
   ]
  },
  {
   "cell_type": "code",
   "execution_count": null,
   "metadata": {},
   "outputs": [],
   "source": [
    "\n",
    "# Define base paths\n",
    "base_src_folder_path = \"/run/user/1001/gvfs/smb-share:server=scratch4.ista.ac.at,share=scratch/siegegrp/_ImageDrop/NIKON-W1-03/Thomas/nd_seq\"\n",
    "base_dest_folder_path = \"/mnt/gdrive/ThNe/_Bioimaging/development_retina\"\n",
    "\n",
    "# Define file names\n",
    "src_file = \"slide_P10_M_1001.nd2\"\n",
    "dest_file = \"slide_P10_M_1001.nd2\"\n",
    "\n",
    "# Construct full file paths\n",
    "src_path = os.path.join(base_src_folder_path, src_file)\n",
    "dest_path = os.path.join(base_dest_folder_path, dest_file)\n",
    "\n",
    "# Check if files match\n",
    "if files_match(src_path, dest_path):\n",
    "    print(\"✅ Files match!\")\n",
    "else:\n",
    "    print(\"❌ Files are different!\")\n"
   ]
  }
 ],
 "metadata": {
  "kernelspec": {
   "display_name": "preprocess-img",
   "language": "python",
   "name": "python3"
  },
  "language_info": {
   "codemirror_mode": {
    "name": "ipython",
    "version": 3
   },
   "file_extension": ".py",
   "mimetype": "text/x-python",
   "name": "python",
   "nbconvert_exporter": "python",
   "pygments_lexer": "ipython3",
   "version": "3.10.16"
  }
 },
 "nbformat": 4,
 "nbformat_minor": 2
}
