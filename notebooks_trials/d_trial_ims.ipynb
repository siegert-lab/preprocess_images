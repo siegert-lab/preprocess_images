{
 "cells": [
  {
   "cell_type": "code",
   "execution_count": null,
   "metadata": {},
   "outputs": [],
   "source": [
    "%load_ext autoreload\n",
    "%autoreload 2"
   ]
  },
  {
   "cell_type": "code",
   "execution_count": null,
   "metadata": {},
   "outputs": [],
   "source": [
    "from process_ims import get_ims_info, _get_chunk_bbox, chunk_and_save_ims \n",
    "from io_images import get_images_infoframe\n",
    "from plot import plot_image\n",
    "import numpy as np\n",
    "from imaris_ims_file_reader.ims import ims"
   ]
  },
  {
   "cell_type": "markdown",
   "metadata": {},
   "source": [
    "Load files"
   ]
  },
  {
   "cell_type": "code",
   "execution_count": null,
   "metadata": {},
   "outputs": [],
   "source": [
    "folder_path = r\"\\\\fs.ista.ac.at\\drives\\aventuri\\group\\siegegrp\\FlSu\\_Bioimaging\\Thomas\\imaris files\\stitched\"\n",
    "# folder_path = \"../data_ims\"\n",
    "# folder_path = \"/run/user/1001/gvfs/smb-share:server=fs.ista.ac.at,share=drives/tnegrell/group/siegegrp/FlSu/_Bioimaging/Thomas/imaris files/stitched\"\n",
    "\n",
    "# List files in the current directory\n",
    "info_frame = get_images_infoframe(folder_path, extension='.ims')\n",
    "info_frame"
   ]
  },
  {
   "cell_type": "markdown",
   "metadata": {},
   "source": [
    "Select one example file"
   ]
  },
  {
   "cell_type": "code",
   "execution_count": null,
   "metadata": {},
   "outputs": [],
   "source": [
    "ims_filepath = info_frame.iloc[4]['file_path']\n",
    "ims_filepath"
   ]
  },
  {
   "cell_type": "markdown",
   "metadata": {},
   "source": [
    "Load the example File as an array"
   ]
  },
  {
   "cell_type": "code",
   "execution_count": null,
   "metadata": {},
   "outputs": [],
   "source": [
    "retina_image = ims(ims_filepath)"
   ]
  },
  {
   "cell_type": "markdown",
   "metadata": {},
   "source": [
    "Shape of the image"
   ]
  },
  {
   "cell_type": "code",
   "execution_count": null,
   "metadata": {},
   "outputs": [],
   "source": [
    "ims_file, metadata = get_ims_info(ims_filepath)\n",
    "ims_shape = ims_file.shape"
   ]
  },
  {
   "cell_type": "code",
   "execution_count": null,
   "metadata": {},
   "outputs": [],
   "source": [
    "metadata"
   ]
  },
  {
   "cell_type": "markdown",
   "metadata": {},
   "source": [
    "metadata"
   ]
  },
  {
   "cell_type": "code",
   "execution_count": null,
   "metadata": {},
   "outputs": [],
   "source": [
    "a = retina_image\n",
    "print(a.ResolutionLevelLock)\n",
    "print(a.ResolutionLevels)\n",
    "print(a.TimePoints)\n",
    "print(a.Channels)\n",
    "print(a.shape)\n",
    "print(a.chunks)\n",
    "print(a.dtype)\n",
    "print(a.ndim)"
   ]
  },
  {
   "cell_type": "code",
   "execution_count": null,
   "metadata": {},
   "outputs": [],
   "source": [
    "a.resolution"
   ]
  },
  {
   "cell_type": "markdown",
   "metadata": {},
   "source": [
    "Find correct channel"
   ]
  },
  {
   "cell_type": "code",
   "execution_count": null,
   "metadata": {},
   "outputs": [],
   "source": [
    "ims_shape"
   ]
  },
  {
   "cell_type": "code",
   "execution_count": null,
   "metadata": {},
   "outputs": [],
   "source": [
    "center_img = (np.array([ims_shape[3], ims_shape[-1]]) / 2).astype(int)\n"
   ]
  },
  {
   "cell_type": "code",
   "execution_count": null,
   "metadata": {},
   "outputs": [],
   "source": [
    "image0 = retina_image[0, 0, 40, center_img[0]:center_img[0]+1000, center_img[1]:center_img[1]+1000]\n",
    "plot_image(image0)\n"
   ]
  },
  {
   "cell_type": "code",
   "execution_count": null,
   "metadata": {},
   "outputs": [],
   "source": [
    "image1 = retina_image[0, 1, 36, center_img[0]:center_img[0]+1000, center_img[1]:center_img[1]+1000]\n",
    "plot_image(image1)\n"
   ]
  },
  {
   "cell_type": "code",
   "execution_count": null,
   "metadata": {},
   "outputs": [],
   "source": [
    "image2 = retina_image[0, 2, 10, center_img[0]:center_img[0]+1000, center_img[1]:center_img[1]+1000]\n",
    "plot_image(image2)"
   ]
  },
  {
   "cell_type": "code",
   "execution_count": null,
   "metadata": {},
   "outputs": [],
   "source": [
    "image3 = retina_image[0, 3, 10, center_img[0]:center_img[0]+1000, center_img[1]:center_img[1]+1000]\n",
    "plot_image(image3)"
   ]
  },
  {
   "cell_type": "markdown",
   "metadata": {},
   "source": [
    "Test chunk and save"
   ]
  },
  {
   "cell_type": "code",
   "execution_count": null,
   "metadata": {},
   "outputs": [],
   "source": [
    "save_folderpath = 'results/retina_example'\n",
    "chunk_and_save_ims(ims_filepath, save_folderpath, base_filename= 'trial', max_size_chunk_gb = 3, channel_idx = 2)"
   ]
  },
  {
   "cell_type": "markdown",
   "metadata": {},
   "source": [
    "Try to understand the ims library "
   ]
  },
  {
   "cell_type": "code",
   "execution_count": null,
   "metadata": {},
   "outputs": [],
   "source": [
    "metadata = retina_image.metaData\n",
    "metadata"
   ]
  },
  {
   "cell_type": "code",
   "execution_count": null,
   "metadata": {},
   "outputs": [],
   "source": [
    "retina_image.__weakref__"
   ]
  },
  {
   "cell_type": "code",
   "execution_count": null,
   "metadata": {},
   "outputs": [],
   "source": [
    "help(retina_image)"
   ]
  },
  {
   "cell_type": "code",
   "execution_count": null,
   "metadata": {},
   "outputs": [],
   "source": [
    "# A 'resolution lock' can be set when making the class which allows for 5 axis slicing that always extracts from that resoltion level\n",
    "a = ims(myFile.ims,ResolutionLevelLock=3)\n",
    "\n",
    "# Change ResolutionLevelLock after the class is open\n",
    "a.change_resolution_lock(2)\n",
    "print(a.ResolutionLevelLock)\n",
    "\n",
    "# 'squeeze_output' option returns arrays in their reduced form similar to a numpy array.  This is off by default to maintain compatibility with the rest of the imaris-ims-file-reader API.\n",
    "a = ims(myFile.ims)\n",
    "print(a[0,0,0].shape)"
   ]
  }
 ],
 "metadata": {
  "kernelspec": {
   "display_name": "Python 3",
   "language": "python",
   "name": "python3"
  },
  "language_info": {
   "codemirror_mode": {
    "name": "ipython",
    "version": 3
   },
   "file_extension": ".py",
   "mimetype": "text/x-python",
   "name": "python",
   "nbconvert_exporter": "python",
   "pygments_lexer": "ipython3",
   "version": "3.10.16"
  }
 },
 "nbformat": 4,
 "nbformat_minor": 2
}
