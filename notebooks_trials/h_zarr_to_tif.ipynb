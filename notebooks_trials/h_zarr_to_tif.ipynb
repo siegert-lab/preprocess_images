{
 "cells": [
  {
   "cell_type": "code",
   "execution_count": 1,
   "metadata": {},
   "outputs": [],
   "source": [
    "%load_ext autoreload\n",
    "%autoreload 2"
   ]
  },
  {
   "cell_type": "code",
   "execution_count": null,
   "metadata": {},
   "outputs": [],
   "source": [
    "import bioio_ome_zarr\n",
    "import matplotlib.pyplot as plt\n",
    "from pathlib import Path\n",
    "import os\n",
    "import zarr\n",
    "import tifffile\n",
    "import gc  # for freeing memory\n",
    "from skimage import exposure\n",
    "from skimage.transform import resize\n",
    "from fuse_n5_xml_to_tif import pix_size"
   ]
  },
  {
   "cell_type": "code",
   "execution_count": 3,
   "metadata": {},
   "outputs": [],
   "source": [
    "# ----- File Paths -----\n",
    "# base_path per OS\n",
    "# macOS\n",
    "# base_path = Path(\"/Users/thomasnegrello/mnt/tnegrell_ista/siegegrp/ThNe/development_retina/raw_images_n5/\")\n",
    "# Ubuntu\n",
    "# base_path = Path(\"/mnt/gdrive/ThNe/development_retina/raw_images_n5/\")\n",
    "# Windows\n",
    "# base_path = Path(\"Z:/siegegrp/ThNe/development_retina/\")\n",
    "#debian\n",
    "base_path = Path(\"/run/user/1009/gvfs/smb-share:server=fs.ista.ac.at,share=drives/tnegrell/group/siegegrp/ThNe/development_retina/\")\n",
    "fuse_folder = Path(\"trila_fuse_mg/P21/F/L/\")\n",
    "file_name = \"microglia_Age_P21_Sex_F_Side_L_Animal_1\"\n",
    "\n",
    "file_path = base_path / fuse_folder / file_name\n",
    "\n",
    "zarr_path = file_path.with_suffix(\".zarr\")\n"
   ]
  },
  {
   "cell_type": "code",
   "execution_count": 4,
   "metadata": {},
   "outputs": [],
   "source": [
    "dapi_path = 'dapi'\n",
    "mg_path = 'microglia'\n",
    "blood_vessels = 'blood'"
   ]
  },
  {
   "cell_type": "code",
   "execution_count": 5,
   "metadata": {},
   "outputs": [
    {
     "data": {
      "application/vnd.jupyter.widget-view+json": {
       "model_id": "6cae0760e6004ee99d1741af6330706f",
       "version_major": 2,
       "version_minor": 0
      },
      "text/plain": [
       "Tree(nodes=(Node(disabled=True, name='/', nodes=(Node(disabled=True, icon='table', name='0 (1, 1, 54, 7486, 74…"
      ]
     },
     "execution_count": 5,
     "metadata": {},
     "output_type": "execute_result"
    }
   ],
   "source": [
    "\n",
    "# Open the Zarr file (can be a directory or .zarr file)\n",
    "z = zarr.open(zarr_path, mode='r')\n",
    "\n",
    "# List the groups and arrays inside\n",
    "z.tree()"
   ]
  },
  {
   "cell_type": "code",
   "execution_count": 7,
   "metadata": {},
   "outputs": [],
   "source": [
    "# Open the Zarr\n",
    "z = zarr.open(zarr_path, mode='r')\n",
    "arr = z['0'] "
   ]
  },
  {
   "cell_type": "code",
   "execution_count": 8,
   "metadata": {},
   "outputs": [
    {
     "data": {
      "text/plain": [
       "(1, 1, 54, 7486, 7481)"
      ]
     },
     "execution_count": 8,
     "metadata": {},
     "output_type": "execute_result"
    }
   ],
   "source": [
    "arr.shape"
   ]
  },
  {
   "cell_type": "code",
   "execution_count": null,
   "metadata": {},
   "outputs": [],
   "source": [
    "# Map channel index to subfolder\n",
    "channel_map = {\n",
    "    0: dapi_path,\n",
    "    1: mg_path,\n",
    "    2: blood_vessels\n",
    "}\n",
    "\n",
    "# Open the Zarr\n",
    "z = zarr.open(zarr_path, mode='r')\n",
    "arr = z['0']  # shape: (1, 3, Z, Y, X)\n",
    "\n",
    "# Process each channel one by one\n",
    "for ch_idx, subfolder in channel_map.items():\n",
    "    print(f\"Processing channel {ch_idx} → {subfolder}\")\n",
    "    \n",
    "    # Load data\n",
    "    data = arr[0, ch_idx, :, :, :]  # shape: (Z, Y, X)\n",
    "    \n",
    "    # Get dimensions\n",
    "    z_max_pix, y_max_pix, x_max_pix = data.shape\n",
    "\n",
    "    # Build output path\n",
    "    tif_filename = f\"{subfolder}_Age_P15_Sex_F_Side_L_Animal_1.tif\"\n",
    "    out_path = os.path.join(base_path, subfolder, \"P15\", \"F\", \"L\")\n",
    "    os.makedirs(out_path, exist_ok=True)\n",
    "    full_tif_path = os.path.join(out_path, tif_filename)\n",
    "\n",
    "    # Metadata with physical size info\n",
    "    metadata = {\n",
    "        # Physical dimensions in microns\n",
    "        \"ExtendMinX\": 0,\n",
    "        \"ExtendMaxX\": x_max_pix * pix_size['x'],\n",
    "        \"ExtendMinY\": 0,\n",
    "        \"ExtendMaxY\": y_max_pix * pix_size['y'],\n",
    "        \"ExtendMinZ\": 0,\n",
    "        \"ExtendMaxZ\": z_max_pix * pix_size['z'],\n",
    "        # Dimensions in pixels\n",
    "        \"SizeX\": x_max_pix,\n",
    "        \"SizeY\": y_max_pix,\n",
    "        \"SizeZ\": z_max_pix,\n",
    "    }\n",
    "\n",
    "    # Save as TIFF\n",
    "    tifffile.imwrite(\n",
    "        full_tif_path,\n",
    "        data,\n",
    "        metadata=metadata,\n",
    "        dtype=data.dtype\n",
    "    )\n",
    "    print(f\"Saved {full_tif_path}\")\n",
    "\n",
    "    # Free memory\n",
    "    del data\n",
    "    gc.collect()\n"
   ]
  }
 ],
 "metadata": {
  "kernelspec": {
   "display_name": "env_preprocess_img",
   "language": "python",
   "name": "python3"
  },
  "language_info": {
   "codemirror_mode": {
    "name": "ipython",
    "version": 3
   },
   "file_extension": ".py",
   "mimetype": "text/x-python",
   "name": "python",
   "nbconvert_exporter": "python",
   "pygments_lexer": "ipython3",
   "version": "3.9.2"
  }
 },
 "nbformat": 4,
 "nbformat_minor": 2
}
