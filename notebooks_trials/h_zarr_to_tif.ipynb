{
 "cells": [
  {
   "cell_type": "code",
   "execution_count": null,
   "metadata": {},
   "outputs": [],
   "source": [
    "%load_ext autoreload\n",
    "%autoreload 2"
   ]
  },
  {
   "cell_type": "code",
   "execution_count": null,
   "metadata": {},
   "outputs": [],
   "source": [
    "from bioio import BioImage\n",
    "import bioio_ome_zarr\n",
    "import matplotlib.pyplot as plt\n",
    "from skimage import exposure\n",
    "from skimage.transform import resize"
   ]
  },
  {
   "cell_type": "code",
   "execution_count": null,
   "metadata": {},
   "outputs": [],
   "source": [
    "base_path = \"/mnt/gdrive/ThNe/development_retina/\""
   ]
  },
  {
   "cell_type": "code",
   "execution_count": null,
   "metadata": {},
   "outputs": [],
   "source": [
    "fused_path = base_path + \"fused_images_n5/\""
   ]
  },
  {
   "cell_type": "code",
   "execution_count": null,
   "metadata": {},
   "outputs": [],
   "source": [
    "dapi_path = 'dapi'\n",
    "mg_path = 'microglia'\n",
    "blood_vessels = 'blood'"
   ]
  },
  {
   "cell_type": "code",
   "execution_count": null,
   "metadata": {},
   "outputs": [],
   "source": [
    "p15 = \"P15/F/L/retina_Age_P15_Sex_F_Side_L_Animal_1.zarr\""
   ]
  },
  {
   "cell_type": "code",
   "execution_count": null,
   "metadata": {},
   "outputs": [],
   "source": [
    "img_path = fused_path + p15\n",
    "img = BioImage(img_path, reader=bioio_ome_zarr.Reader)"
   ]
  },
  {
   "cell_type": "code",
   "execution_count": null,
   "metadata": {},
   "outputs": [],
   "source": [
    "import zarr\n",
    "\n",
    "# Open the Zarr file (can be a directory or .zarr file)\n",
    "z = zarr.open(img_path, mode='r')\n",
    "\n",
    "# List the groups and arrays inside\n",
    "z.tree()"
   ]
  },
  {
   "cell_type": "code",
   "execution_count": null,
   "metadata": {},
   "outputs": [],
   "source": [
    "import zarr\n",
    "import tifffile\n",
    "import os\n",
    "import gc  # for freeing memory\n",
    "\n",
    "# Setup\n",
    "base_path = \"/mnt/gdrive/ThNe/development_retina/\"\n",
    "dapi_path = \"dapi\"\n",
    "mg_path = \"microglia\"\n",
    "blood_vessels = \"blood\"\n",
    "zarr_file = \"P15/F/L/retina_Age_P15_Sex_F_Side_L_Animal_1.zarr\"\n",
    "zarr_path = os.path.join(base_path, \"fused_images_n5\",zarr_file)\n",
    "\n",
    "# Pixel size in microns\n",
    "pix_size = {\n",
    "    'x': 2*0.339024328759285,\n",
    "    'y': 2*0.339024328759285,\n",
    "    'z': 2*0.9\n",
    "}\n",
    "\n",
    "# Map channel index to subfolder\n",
    "channel_map = {\n",
    "    0: dapi_path,\n",
    "    1: mg_path,\n",
    "    2: blood_vessels\n",
    "}\n",
    "\n",
    "# Open the Zarr\n",
    "z = zarr.open(zarr_path, mode='r')\n",
    "arr = z['0']  # shape: (1, 3, Z, Y, X)\n",
    "\n",
    "# Process each channel one by one\n",
    "for ch_idx, subfolder in channel_map.items():\n",
    "    print(f\"Processing channel {ch_idx} → {subfolder}\")\n",
    "    \n",
    "    # Load data\n",
    "    data = arr[0, ch_idx, :, :, :]  # shape: (Z, Y, X)\n",
    "    \n",
    "    # Get dimensions\n",
    "    z_max_pix, y_max_pix, x_max_pix = data.shape\n",
    "\n",
    "    # Build output path\n",
    "    tif_filename = f\"{subfolder}_Age_P15_Sex_F_Side_L_Animal_1.tif\"\n",
    "    out_path = os.path.join(base_path, subfolder, \"P15\", \"F\", \"L\")\n",
    "    os.makedirs(out_path, exist_ok=True)\n",
    "    full_tif_path = os.path.join(out_path, tif_filename)\n",
    "\n",
    "    # Metadata with physical size info\n",
    "    metadata = {\n",
    "        # Physical dimensions in microns\n",
    "        \"ExtendMinX\": 0,\n",
    "        \"ExtendMaxX\": x_max_pix * pix_size['x'],\n",
    "        \"ExtendMinY\": 0,\n",
    "        \"ExtendMaxY\": y_max_pix * pix_size['y'],\n",
    "        \"ExtendMinZ\": 0,\n",
    "        \"ExtendMaxZ\": z_max_pix * pix_size['z'],\n",
    "        # Dimensions in pixels\n",
    "        \"SizeX\": x_max_pix,\n",
    "        \"SizeY\": y_max_pix,\n",
    "        \"SizeZ\": z_max_pix,\n",
    "    }\n",
    "\n",
    "    # Save as TIFF\n",
    "    tifffile.imwrite(\n",
    "        full_tif_path,\n",
    "        data,\n",
    "        metadata=metadata,\n",
    "        dtype=data.dtype\n",
    "    )\n",
    "    print(f\"Saved {full_tif_path}\")\n",
    "\n",
    "    # Free memory\n",
    "    del data\n",
    "    gc.collect()\n"
   ]
  }
 ],
 "metadata": {
  "kernelspec": {
   "display_name": "preprocess-img",
   "language": "python",
   "name": "python3"
  },
  "language_info": {
   "codemirror_mode": {
    "name": "ipython",
    "version": 3
   },
   "file_extension": ".py",
   "mimetype": "text/x-python",
   "name": "python",
   "nbconvert_exporter": "python",
   "pygments_lexer": "ipython3",
   "version": "3.10.16"
  }
 },
 "nbformat": 4,
 "nbformat_minor": 2
}
