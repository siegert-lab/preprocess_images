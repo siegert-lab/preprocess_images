{
 "cells": [
  {
   "cell_type": "code",
   "execution_count": null,
   "metadata": {},
   "outputs": [],
   "source": [
    "%load_ext autoreload\n",
    "%autoreload 2"
   ]
  },
  {
   "cell_type": "code",
   "execution_count": null,
   "metadata": {},
   "outputs": [],
   "source": [
    "from bioio import BioImage\n",
    "import bioio_ome_zarr\n",
    "import matplotlib.pyplot as plt\n",
    "from skimage import exposure\n",
    "from skimage.transform import resize"
   ]
  },
  {
   "cell_type": "code",
   "execution_count": null,
   "metadata": {},
   "outputs": [],
   "source": [
    "fused_path = \"/mnt/gdrive/ThNe/development_retina/fused_images_n5/\""
   ]
  },
  {
   "cell_type": "code",
   "execution_count": null,
   "metadata": {},
   "outputs": [],
   "source": [
    "p21 = \"P15/M/R/retina_Age_P21_Sex_F_Side_L_Animal_1.zarr\"\n",
    "p15 = \"P15/M/R/retina_Age_P15_Sex_M_Side_R_Animal_2_c_12.zarr\""
   ]
  },
  {
   "cell_type": "code",
   "execution_count": null,
   "metadata": {},
   "outputs": [],
   "source": [
    "img_path = fused_path + p21\n",
    "img = BioImage(img_path, reader=bioio_ome_zarr.Reader)"
   ]
  },
  {
   "cell_type": "code",
   "execution_count": null,
   "metadata": {},
   "outputs": [],
   "source": [
    "print(f\"Shape: {img.shape}\")\n",
    "print(f\"Dimensions: {img.dims}\")\n",
    "print(f\"Metadata keys: {list(img.metadata.keys())}\")\n",
    "\n",
    "# Get image data (Dask or NumPy)\n",
    "data = img.data\n",
    "del img\n"
   ]
  },
  {
   "cell_type": "code",
   "execution_count": null,
   "metadata": {},
   "outputs": [],
   "source": [
    "del img\n"
   ]
  },
  {
   "cell_type": "code",
   "execution_count": null,
   "metadata": {},
   "outputs": [],
   "source": [
    "if hasattr(data, 'compute'):\n",
    "    data = data.compute()  # Convert Dask array to NumPy if it's a lazy-loaded array\n",
    "\n",
    "# Size in GB\n",
    "size_in_GB = data.nbytes / (1024 ** 3)  # Convert bytes to gigabytes\n",
    "print(f\"Data Size: {size_in_GB:.3f} GB\")\n",
    "\n",
    "# Get pixel type (dtype)\n",
    "pixel_type = data.dtype\n",
    "print(f\"Pixel Type: {pixel_type}\")"
   ]
  },
  {
   "cell_type": "code",
   "execution_count": null,
   "metadata": {},
   "outputs": [],
   "source": [
    "# downsampled_img = resize(img.data, (img.shape[-4], img.shape[-5], img.shape[-3], img.shape[-2] // 2, img.shape[-1] // 2), mode='reflect')\n"
   ]
  },
  {
   "cell_type": "markdown",
   "metadata": {},
   "source": [
    "Blood Vessels"
   ]
  },
  {
   "cell_type": "code",
   "execution_count": null,
   "metadata": {},
   "outputs": [],
   "source": [
    "z_list = range(3, 30, 3)\n",
    "for z in z_list:\n",
    "    tile = data[0, 0, z,1000:2000, 5000:7000]  # t=0, c=1, z=z\n",
    "\n",
    "    if hasattr(tile, 'compute'):\n",
    "        tile = tile.compute()\n",
    "    tile_clahe = exposure.equalize_adapthist(tile, clip_limit=0.3)\n",
    "\n",
    "    # Show the tile\n",
    "    plt.figure(figsize=(6, 6))\n",
    "    plt.imshow(tile_clahe, cmap='gray')\n",
    "    plt.title(f\"Z-slice {z}\")\n",
    "    plt.axis('off')\n",
    "    plt.show()"
   ]
  },
  {
   "cell_type": "markdown",
   "metadata": {},
   "source": [
    "Microglia"
   ]
  },
  {
   "cell_type": "code",
   "execution_count": null,
   "metadata": {},
   "outputs": [],
   "source": [
    "mg_tile = data[0, 0, 25, 3000:4000, 1000:2000]"
   ]
  },
  {
   "cell_type": "code",
   "execution_count": null,
   "metadata": {},
   "outputs": [],
   "source": [
    "z_list = range(22, 26, 1)\n",
    "for z in z_list:\n",
    "    tile = data[0, 0, z, 3000:4000, 1000:2000]  # t=0, c=1, z=z\n",
    "\n",
    "    if hasattr(tile, 'compute'):\n",
    "        tile = tile.compute()\n",
    "    tile_clahe = exposure.equalize_adapthist(tile, clip_limit=0.01)\n",
    "\n",
    "    # Show the tile\n",
    "    plt.figure(figsize=(6, 6))\n",
    "    plt.imshow(tile_clahe, cmap='gray')\n",
    "    plt.title(f\"Z-slice {z}\")\n",
    "    plt.axis('off')\n",
    "    plt.show()\n",
    "\n",
    "    # # Plot histogram with log scale\n",
    "    # plt.figure(figsize=(6, 4))\n",
    "    # plt.hist(tile.ravel(), bins=256, color='gray', log=True)\n",
    "    # plt.title(\"Grayscale Intensity Distribution (Log Scale)\")\n",
    "    # plt.xlabel(\"Pixel Intensity\")\n",
    "    # plt.ylabel(\"Log Count\")\n",
    "    # plt.grid(True)\n",
    "    # plt.show()\n"
   ]
  },
  {
   "cell_type": "code",
   "execution_count": null,
   "metadata": {},
   "outputs": [],
   "source": [
    "from skimage import exposure\n",
    "\n",
    "tile_eq = exposure.rescale_intensity(tile, in_range='image', out_range='uint8')\n",
    "\n",
    "plt.figure(figsize=(6, 6))\n",
    "plt.imshow(tile_eq, cmap='gray')\n",
    "plt.title(\"Rescaled Contrast\")\n",
    "plt.axis('off')\n",
    "plt.show()\n"
   ]
  },
  {
   "cell_type": "code",
   "execution_count": null,
   "metadata": {},
   "outputs": [],
   "source": [
    "if hasattr(tile, 'compute'):\n",
    "    tile = tile.compute()\n",
    "tile_clahe = exposure.equalize_adapthist(tile, clip_limit=0.01)\n",
    "# Show the tile\n",
    "plt.figure(figsize=(6, 6))\n",
    "plt.imshow(tile_clahe, cmap='gray')\n",
    "plt.title(f\"Z-slice {z}\")\n",
    "plt.axis('off')\n",
    "plt.show()"
   ]
  },
  {
   "cell_type": "code",
   "execution_count": null,
   "metadata": {},
   "outputs": [],
   "source": [
    "del data"
   ]
  },
  {
   "cell_type": "code",
   "execution_count": null,
   "metadata": {},
   "outputs": [],
   "source": [
    "mg_cube = data[0, 1, :, 3000:4000, 1000:2000]"
   ]
  },
  {
   "cell_type": "code",
   "execution_count": null,
   "metadata": {},
   "outputs": [],
   "source": [
    "mg_cube.type"
   ]
  },
  {
   "cell_type": "code",
   "execution_count": null,
   "metadata": {},
   "outputs": [],
   "source": [
    "import numpy as np\n",
    "from skimage import filters, morphology, measure, exposure\n",
    "import matplotlib.pyplot as plt\n",
    "from scipy import ndimage as ndi\n",
    "\n",
    "# Example usage:\n",
    "z = 25  # You can change this value to any slice you want to process\n",
    "labels = process_slice(mg_cube, z)  # Process the image at slice z\n"
   ]
  },
  {
   "cell_type": "code",
   "execution_count": null,
   "metadata": {},
   "outputs": [],
   "source": [
    "# Extract the slice for the given z\n",
    "for z in [23,24,25,26]:\n",
    "    slice_ = mg_cube[z]\n",
    "\n",
    "    # Step 1: Apply Otsu thresholding (or another thresholding method)\n",
    "    threshold = filters.threshold_otsu(slice_)  # Automatically finds a threshold\n",
    "    binary = slice_ > threshold  # Convert the image to binary (True/False)\n",
    "\n",
    "    # Visualize the thresholded image\n",
    "    plt.figure(figsize=(10, 5))\n",
    "    plt.subplot(1, 2, 1)\n",
    "    plt.imshow(binary, cmap='gray')  # Show the Z-slice\n",
    "    plt.title(f\"Thresholded Image - Z={z}\")"
   ]
  },
  {
   "cell_type": "code",
   "execution_count": null,
   "metadata": {},
   "outputs": [],
   "source": [
    "# Step 2: Enhance contrast for tiny objects\n",
    "enhanced = exposure.equalize_hist(binary)  # Optionally, try adaptive equalization\n",
    "\n",
    "# Visualize the enhanced image\n",
    "plt.subplot(1, 2, 2)\n",
    "plt.imshow(enhanced, cmap='gray')  # Show the Z-slice\n",
    "plt.title(f\"Enhanced Image - Z={z}\")\n",
    "plt.show()\n"
   ]
  },
  {
   "cell_type": "code",
   "execution_count": null,
   "metadata": {},
   "outputs": [],
   "source": [
    "\"\"\"\n",
    "    Process the 3D image at a specific z slice.\n",
    "\n",
    "    Parameters:\n",
    "    - mg_cube: The 3D image (numpy array or dask array)\n",
    "    - z: The Z-slice to process (integer)\n",
    "\n",
    "    Returns:\n",
    "    - labels: Labeled image after processing\n",
    "    \"\"\"\n",
    "\n",
    "\n",
    "\n",
    "    # Step 3: Convert enhanced to binary (True for foreground, False for background)\n",
    "    binary_enhanced = enhanced > 0.5  # Threshold the enhanced image to create a binary mask\n",
    "\n",
    "    # Step 4: Remove small objects (based on the minimum size of objects)\n",
    "    cleaned = morphology.remove_small_objects(binary_enhanced, min_size=50, connectivity=2)\n",
    "\n",
    "    # Visualize cleaned image\n",
    "    plt.figure(figsize=(10, 5))\n",
    "    plt.imshow(cleaned, cmap='gray')  # Show the Z-slice\n",
    "    plt.title(f\"Cleaned Image - Z={z}\")\n",
    "    plt.show()\n",
    "\n",
    "    # Step 5: Optional - Remove small holes inside objects\n",
    "    filled = ndi.binary_fill_holes(cleaned)\n",
    "\n",
    "    # Visualize filled image\n",
    "    plt.figure(figsize=(10, 5))\n",
    "    plt.imshow(filled, cmap='gray')  # Show the Z-slice\n",
    "    plt.title(f\"Filled Image - Z={z}\")\n",
    "    plt.show()\n",
    "\n",
    "    # Step 6: Apply 3D dilation for enhanced objects (adjust as needed)\n",
    "    dilated = morphology.dilation(filled, morphology.ball(1))  # Reduce ball size to 1 for a subtle effect\n",
    "\n",
    "    # Visualize dilated image\n",
    "    plt.figure(figsize=(10, 5))\n",
    "    plt.imshow(dilated, cmap='gray')  # Show the Z-slice\n",
    "    plt.title(f\"Dilated Image - Z={z}\")\n",
    "    plt.show()\n",
    "\n",
    "    # Step 7: Label connected components (this gives you individual objects)\n",
    "    labels = measure.label(dilated, connectivity=2)\n",
    "\n",
    "    # Visualize labeled objects\n",
    "    plt.figure(figsize=(10, 5))\n",
    "    plt.imshow(labels, cmap='nipy_spectral')  # Show the Z-slice\n",
    "    plt.title(f\"Segmented Objects - Z={z}\")\n",
    "    plt.show()\n"
   ]
  },
  {
   "cell_type": "code",
   "execution_count": null,
   "metadata": {},
   "outputs": [],
   "source": [
    "# Step 8: Visualize the result\n",
    "plt.figure(figsize=(10, 10))\n",
    "plt.subplot(1, 2, 1)\n",
    "plt.imshow(binary[25], cmap='gray')  # Visualizing only the first slice (Z=0) for simplicity\n",
    "plt.title(\"Thresholded Image\")\n",
    "\n",
    "plt.subplot(1, 2, 2)\n",
    "plt.imshow(labels[26], cmap='nipy_spectral')  # Visualizing only the first slice (Z=0) for labeled objects\n",
    "plt.title(\"Segmented Objects\")\n",
    "plt.show()"
   ]
  }
 ],
 "metadata": {
  "kernelspec": {
   "display_name": "preprocess-img",
   "language": "python",
   "name": "python3"
  },
  "language_info": {
   "codemirror_mode": {
    "name": "ipython",
    "version": 3
   },
   "file_extension": ".py",
   "mimetype": "text/x-python",
   "name": "python",
   "nbconvert_exporter": "python",
   "pygments_lexer": "ipython3",
   "version": "3.10.16"
  }
 },
 "nbformat": 4,
 "nbformat_minor": 2
}
