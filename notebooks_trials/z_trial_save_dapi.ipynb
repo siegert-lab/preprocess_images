{
 "cells": [
  {
   "cell_type": "code",
   "execution_count": null,
   "metadata": {},
   "outputs": [],
   "source": [
    "%load_ext autoreload\n",
    "%autoreload 2"
   ]
  },
  {
   "cell_type": "code",
   "execution_count": null,
   "metadata": {},
   "outputs": [],
   "source": [
    "import sys\n",
    "import os\n",
    "\n",
    "# Add the directory above the current notebook to the system path\n",
    "sys.path.append(os.path.abspath(os.path.join('..')))"
   ]
  },
  {
   "cell_type": "code",
   "execution_count": null,
   "metadata": {},
   "outputs": [],
   "source": [
    "from process_czi import get_channel_info, get_czi_info, maxproject_for_registration\n",
    "from io_images import get_images_infoframe\n",
    "import os"
   ]
  },
  {
   "cell_type": "code",
   "execution_count": null,
   "metadata": {},
   "outputs": [],
   "source": [
    "# Brain Slices\n",
    "# windows = False\n",
    "# folderpath = 'data'\n",
    "# folderpath = \"/run/user/1001/gvfs/smb-share:server=fs.ista.ac.at,share=drives/tnegrell/archive/siegegrp/AlVe/MORPHOMICS2.0_MICROGLIA_BRAIN_ATLAS\"\n",
    "windows = \"nt\" in os.name\n",
    "folderpath = r\"\\\\fs.ista.ac.at\\drives\\aventuri\\archive\\siegegrp\\AlVe\\MORPHOMICS2.0_MICROGLIA_BRAIN_ATLAS\\raw_images\"\n"
   ]
  },
  {
   "cell_type": "code",
   "execution_count": null,
   "metadata": {},
   "outputs": [],
   "source": [
    "# List all files and directories in the folder\n",
    "contents = os.listdir(folderpath)\n",
    "\n",
    "print(\"Contents of the folder:\")\n",
    "for item in contents:\n",
    "    print(item)"
   ]
  },
  {
   "cell_type": "code",
   "execution_count": null,
   "metadata": {},
   "outputs": [],
   "source": [
    "infoframe = get_images_infoframe(folderpath,conditions=['Age', 'Sex', 'Animal'])"
   ]
  },
  {
   "cell_type": "code",
   "execution_count": null,
   "metadata": {},
   "outputs": [],
   "source": [
    "infoframe"
   ]
  },
  {
   "cell_type": "code",
   "execution_count": null,
   "metadata": {},
   "outputs": [],
   "source": [
    "example_1_filepath = infoframe['file_path'].iloc[5]\n",
    "example_2_filepath = infoframe['file_path'].iloc[7]"
   ]
  },
  {
   "cell_type": "code",
   "execution_count": null,
   "metadata": {},
   "outputs": [],
   "source": [
    "import aicspylibczi\n",
    "from process_czi import _get_channel_idx,get_czi_pixel_size\n",
    "import numpy as np\n",
    "import tifffile"
   ]
  },
  {
   "cell_type": "code",
   "execution_count": null,
   "metadata": {},
   "outputs": [],
   "source": [
    "save_folderpath = folderpath = r\"\\\\fs.ista.ac.at\\drives\\aventuri\\archive\\siegegrp\\AlVe\\MORPHOMICS2.0_MICROGLIA_BRAIN_ATLAS\\dapi_examples\"\n",
    "channel_name = 'DAPI'\n"
   ]
  },
  {
   "cell_type": "code",
   "execution_count": null,
   "metadata": {},
   "outputs": [],
   "source": [
    "ii = 0\n",
    "for czi_file in [example_1_filepath, example_2_filepath]:\n",
    "    ii += 1\n",
    "    if isinstance(czi_file, str):\n",
    "            czi_file = aicspylibczi.CziFile(czi_file)\n",
    "        # Take the correct chanel that contains the nucleus\n",
    "    metadata = czi_file.meta\n",
    "    correct_channel_idx = _get_channel_idx(metadata, channel_name)\n",
    "    pixel_size = get_czi_pixel_size(czi_file)\n",
    "    # Because z max proj is downsample\n",
    "    pixel_size['x'] *= 2\n",
    "    pixel_size['y'] *= 2\n",
    "    bbox = czi_file.get_all_scene_bounding_boxes()\n",
    "    sequences = czi_file.get_dims_shape()\n",
    "    nb_seq = len(sequences)\n",
    "    print(\"Start zmax projections\")\n",
    "    print(f\"There are {nb_seq} tissue slices in this file\")\n",
    "    print(f\"So, there are {nb_seq} images that will be saved as .tif files\")\n",
    "    os.makedirs(save_folderpath, exist_ok = True)\n",
    "    s = 1\n",
    "\n",
    "    from utils import downsample_by_2\n",
    "    x_min, y_min, w, h = bbox[s].x, bbox[s].y, bbox[s].w, bbox[s].h  # Bounding box details\n",
    "    for z in [10, 20]:\n",
    "        mosaic = czi_file.read_mosaic(region = (x_min, y_min, w, h), \n",
    "                                        scale_factor = 1.0, \n",
    "                                        C = correct_channel_idx, \n",
    "                                        Z = z,\n",
    "                                        dtype = np.uint8,\n",
    "                                        # background_color = (0.0,0.0,0.0)\n",
    "        )\n",
    "        z_image = mosaic[0][0] # The function returns an array (1,1,y,x)\n",
    "        z_image = downsample_by_2(z_image)\n",
    "        z_image = np.transpose(z_image, (1, 0))\n",
    "        save_filepath = os.path.join(save_folderpath, f\"dapi_example_{ii}_{z}.tif\")\n",
    "        # Save the chunk as a TIFF file\n",
    "        tifffile.imsave(save_filepath, z_image, metadata = pixel_size)\n",
    "        del z_image"
   ]
  }
 ],
 "metadata": {
  "kernelspec": {
   "display_name": "bioimag",
   "language": "python",
   "name": "bioimag"
  },
  "language_info": {
   "codemirror_mode": {
    "name": "ipython",
    "version": 3
   },
   "file_extension": ".py",
   "mimetype": "text/x-python",
   "name": "python",
   "nbconvert_exporter": "python",
   "pygments_lexer": "ipython3",
   "version": "3.10.11"
  }
 },
 "nbformat": 4,
 "nbformat_minor": 2
}
