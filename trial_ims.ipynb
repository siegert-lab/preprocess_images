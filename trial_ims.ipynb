{
 "cells": [
  {
   "cell_type": "code",
   "execution_count": null,
   "metadata": {},
   "outputs": [],
   "source": [
    "%load_ext autoreload\n",
    "%autoreload 2"
   ]
  },
  {
   "cell_type": "code",
   "execution_count": null,
   "metadata": {},
   "outputs": [],
   "source": [
    "from io_images import get_images_infoframe\n",
    "import os\n",
    "import numpy as np\n"
   ]
  },
  {
   "cell_type": "code",
   "execution_count": null,
   "metadata": {},
   "outputs": [],
   "source": [
    "folder_path = \"/run/user/1001/gvfs/smb-share:server=fs.ista.ac.at,share=drives/tnegrell/group/siegegrp/FlSu/_Bioimaging/Thomas/imaris files/stitched\"\n",
    "# List files in the current directory\n",
    "files = os.listdir(folder_path)\n",
    "print(files)\n",
    "info_frame = get_images_infoframe(folder_path, extension='.ims')"
   ]
  },
  {
   "cell_type": "code",
   "execution_count": null,
   "metadata": {},
   "outputs": [],
   "source": [
    "file_path = \"data_ims/45026_2d_F_R.ims\""
   ]
  },
  {
   "cell_type": "code",
   "execution_count": null,
   "metadata": {},
   "outputs": [],
   "source": [
    "from imaris_ims_file_reader.ims import ims\n",
    "\n",
    "a = ims(file_path)"
   ]
  },
  {
   "cell_type": "code",
   "execution_count": null,
   "metadata": {},
   "outputs": [],
   "source": [
    "a.shape"
   ]
  },
  {
   "cell_type": "code",
   "execution_count": null,
   "metadata": {},
   "outputs": [],
   "source": [
    "help(a)"
   ]
  },
  {
   "cell_type": "code",
   "execution_count": null,
   "metadata": {},
   "outputs": [],
   "source": [
    "metadata = a.metaData"
   ]
  },
  {
   "cell_type": "code",
   "execution_count": null,
   "metadata": {},
   "outputs": [],
   "source": [
    "channels = metadata.get('channels', [])\n"
   ]
  },
  {
   "cell_type": "code",
   "execution_count": null,
   "metadata": {},
   "outputs": [],
   "source": [
    "channel_count = a.shape['C']  # Get the number of channels\n",
    "print(f\"Number of channels: {channel_count}\")\n"
   ]
  },
  {
   "cell_type": "code",
   "execution_count": null,
   "metadata": {},
   "outputs": [],
   "source": [
    "# Slice a like a numpy array always with 5 axes to access the highest resolution - level 0 - (t,c,z,y,x)\n",
    "a[0,0,5,:,:] # Time point 0, Channel 0, z-layer 5\n",
    "\n",
    "# Slice in 6 axes to designate the desired resolution level to work with - 0 is default and the highest resolution\n",
    "a[3,0,0,5,:,:] # Resolution Level 3, Time point 0, Channel 0, z-layer 5\n",
    "\n",
    "print(a.ResolutionLevelLock)\n",
    "print(a.ResolutionLevels)\n",
    "print(a.TimePoints)\n",
    "print(a.Channels)\n",
    "print(a.shape)\n",
    "print(a.chunks)\n",
    "print(a.dtype)\n",
    "print(a.ndim)"
   ]
  },
  {
   "cell_type": "code",
   "execution_count": null,
   "metadata": {},
   "outputs": [],
   "source": [
    "# A 'resolution lock' can be set when making the class which allows for 5 axis slicing that always extracts from that resoltion level\n",
    "a = ims(myFile.ims,ResolutionLevelLock=3)\n",
    "\n",
    "# Change ResolutionLevelLock after the class is open\n",
    "a.change_resolution_lock(2)\n",
    "print(a.ResolutionLevelLock)\n",
    "\n",
    "# 'squeeze_output' option returns arrays in their reduced form similar to a numpy array.  This is off by default to maintain compatibility with the rest of the imaris-ims-file-reader API.\n",
    "a = ims(myFile.ims)\n",
    "print(a[0,0,0].shape)"
   ]
  }
 ],
 "metadata": {
  "kernelspec": {
   "display_name": "bioimag",
   "language": "python",
   "name": "python3"
  },
  "language_info": {
   "codemirror_mode": {
    "name": "ipython",
    "version": 3
   },
   "file_extension": ".py",
   "mimetype": "text/x-python",
   "name": "python",
   "nbconvert_exporter": "python",
   "pygments_lexer": "ipython3",
   "version": "3.10.16"
  }
 },
 "nbformat": 4,
 "nbformat_minor": 2
}
