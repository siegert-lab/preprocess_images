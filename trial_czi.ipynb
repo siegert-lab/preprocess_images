{
 "cells": [
  {
   "cell_type": "code",
   "execution_count": null,
   "metadata": {},
   "outputs": [],
   "source": [
    "%load_ext autoreload\n",
    "%autoreload 2"
   ]
  },
  {
   "cell_type": "code",
   "execution_count": null,
   "metadata": {},
   "outputs": [],
   "source": [
    "from process_czi import get_czi_info, chunk_and_save_czi, get_channel_info, calculate_chunks\n",
    "from io_images import get_images_infoframe\n",
    "import czifile\n",
    "import os\n",
    "import aicspylibczi\n",
    "import numpy as np\n"
   ]
  },
  {
   "cell_type": "code",
   "execution_count": null,
   "metadata": {},
   "outputs": [],
   "source": [
    "import platform\n",
    "print(platform.architecture())"
   ]
  },
  {
   "cell_type": "markdown",
   "metadata": {},
   "source": [
    "Folder Path"
   ]
  },
  {
   "cell_type": "code",
   "execution_count": null,
   "metadata": {},
   "outputs": [],
   "source": [
    "# Load the .czi file\n",
    "# folder_path = \"/run/user/1001/gvfs/smb-share:server=fs.ista.ac.at,share=drives/tnegrell/group/siegegrp/FlSu/_Bioimaging/imaging files_temp/test_AI14_notam_retina-01_AcquisitionBlock1.czi\""
   ]
  },
  {
   "cell_type": "code",
   "execution_count": null,
   "metadata": {},
   "outputs": [],
   "source": [
    "# Brain Slices\n",
    "# folder_path = 'data'\n",
    "folder_path = \"/run/user/1001/gvfs/smb-share:server=fs.ista.ac.at,share=drives/tnegrell/archive/siegegrp/AlVe/MORPHOMICS2.0_MICROGLIA_BRAIN_ATLAS\"\n"
   ]
  },
  {
   "cell_type": "markdown",
   "metadata": {},
   "source": [
    "List of Files in Folder"
   ]
  },
  {
   "cell_type": "code",
   "execution_count": null,
   "metadata": {},
   "outputs": [],
   "source": [
    "# List all files and directories in the folder\n",
    "contents = os.listdir(folder_path)\n",
    "\n",
    "print(\"Contents of the folder:\")\n",
    "for item in contents:\n",
    "    print(item)"
   ]
  },
  {
   "cell_type": "markdown",
   "metadata": {},
   "source": [
    "Get Info Frame"
   ]
  },
  {
   "cell_type": "code",
   "execution_count": null,
   "metadata": {},
   "outputs": [],
   "source": [
    "# infoframe = get_images_infoframe(folder_path, conditions=['Animal'])\n",
    "infoframe = get_images_infoframe(folder_path)"
   ]
  },
  {
   "cell_type": "code",
   "execution_count": null,
   "metadata": {},
   "outputs": [],
   "source": [
    "infoframe"
   ]
  },
  {
   "cell_type": "markdown",
   "metadata": {},
   "source": [
    "Select one file .czi"
   ]
  },
  {
   "cell_type": "code",
   "execution_count": null,
   "metadata": {},
   "outputs": [],
   "source": [
    "czi_path = infoframe.iloc[5]['file_path']\n",
    "czi_path"
   ]
  },
  {
   "cell_type": "markdown",
   "metadata": {},
   "source": [
    "Get Channel Info"
   ]
  },
  {
   "cell_type": "code",
   "execution_count": null,
   "metadata": {},
   "outputs": [],
   "source": [
    "get_channel_info(czi_path)\n"
   ]
  },
  {
   "cell_type": "markdown",
   "metadata": {},
   "source": [
    "Get Dim and Size info"
   ]
  },
  {
   "cell_type": "code",
   "execution_count": null,
   "metadata": {},
   "outputs": [],
   "source": [
    "get_czi_info(czi_path)"
   ]
  },
  {
   "cell_type": "markdown",
   "metadata": {},
   "source": [
    "Chunk dims"
   ]
  },
  {
   "cell_type": "code",
   "execution_count": null,
   "metadata": {},
   "outputs": [],
   "source": [
    "if isinstance(czi_path, str):\n",
    "    czi_file = aicspylibczi.CziFile(czi_path)\n",
    "dims = czi_file.get_dims_shape()\n",
    "chunk_dim_list = []\n",
    "for dim in dims:\n",
    "    chunk_dim = calculate_chunks(dim, 30, bytes_per_pixel=2)\n",
    "    chunk_dim_list.append(chunk_dim)\n",
    "print(chunk_dim_list)"
   ]
  },
  {
   "cell_type": "markdown",
   "metadata": {},
   "source": [
    "Test bbox methods of the library"
   ]
  },
  {
   "cell_type": "code",
   "execution_count": null,
   "metadata": {},
   "outputs": [],
   "source": [
    "bbox1 = czi_file.get_all_scene_bounding_boxes()\n",
    "print(bbox1)\n",
    "print(bbox1[0].x, bbox1[0].y, bbox1[0].w, bbox1[0].h)\n",
    "print(bbox1[1].x, bbox1[1].y, bbox1[1].w, bbox1[1].h)"
   ]
  },
  {
   "cell_type": "code",
   "execution_count": null,
   "metadata": {},
   "outputs": [],
   "source": [
    "bbox1[0].x"
   ]
  },
  {
   "cell_type": "code",
   "execution_count": null,
   "metadata": {},
   "outputs": [],
   "source": [
    "# bbox1 = czi_file.get_mosaic_tile_bounding_box() #axis param\n",
    "print(bbox1[0].x, bbox1[0].y, bbox1[0].w, bbox1[0].h)\n",
    "print(bbox1[1].x, bbox1[1].y, bbox1[1].w, bbox1[1].h)"
   ]
  },
  {
   "cell_type": "code",
   "execution_count": null,
   "metadata": {},
   "outputs": [],
   "source": [
    "# bbox1 = czi_file.get_tile_bounding_box(C=1, S=0) #axis param\n",
    "bbox1\n",
    "# print(bbox1[0].x, bbox1[0].y, bbox1[0].w, bbox1[0].h)"
   ]
  },
  {
   "cell_type": "code",
   "execution_count": null,
   "metadata": {},
   "outputs": [],
   "source": [
    "czi_file.pixel_type"
   ]
  },
  {
   "cell_type": "code",
   "execution_count": null,
   "metadata": {},
   "outputs": [],
   "source": [
    "a = czi_file.read_mosaic(region = (-159614, 25683, 22286, 100), scale_factor=1.0, C=1, Z=0)"
   ]
  },
  {
   "cell_type": "code",
   "execution_count": null,
   "metadata": {},
   "outputs": [],
   "source": [
    "b = czi_file.read_mosaic(region = (-157614, 30683, 200, 200), scale_factor=1.0, C=1)"
   ]
  },
  {
   "cell_type": "code",
   "execution_count": null,
   "metadata": {},
   "outputs": [],
   "source": [
    "a.shape"
   ]
  },
  {
   "cell_type": "code",
   "execution_count": null,
   "metadata": {},
   "outputs": [],
   "source": [
    "# read_subblock_metadata()"
   ]
  },
  {
   "cell_type": "markdown",
   "metadata": {},
   "source": [
    "Test chunk and save"
   ]
  },
  {
   "cell_type": "code",
   "execution_count": null,
   "metadata": {},
   "outputs": [],
   "source": [
    "import plotly.express as px\n",
    "import numpy as np\n"
   ]
  },
  {
   "cell_type": "code",
   "execution_count": null,
   "metadata": {},
   "outputs": [],
   "source": [
    "image = a[0][0]\n",
    "# for image in data:\n",
    "# Plot the image\n",
    "fig = px.imshow(image, color_continuous_scale=\"gray\")\n",
    "fig.update_layout(title=\"2D Image\", coloraxis_showscale=False)  # Hide color bar\n",
    "fig.show()"
   ]
  },
  {
   "cell_type": "code",
   "execution_count": null,
   "metadata": {},
   "outputs": [],
   "source": [
    "image = b[0][0]\n",
    "# for image in data:\n",
    "# Plot the image\n",
    "fig = px.imshow(image, color_continuous_scale=\"gray\")\n",
    "fig.update_layout(title=\"2D Image\", coloraxis_showscale=False)  # Hide color bar\n",
    "fig.show()"
   ]
  },
  {
   "cell_type": "code",
   "execution_count": null,
   "metadata": {},
   "outputs": [],
   "source": [
    "for m in range(0,3):\n",
    "    image_data = czi_file.read_image(C = 1, \n",
    "                                        S = 0,\n",
    "                                        M=m,\n",
    "                                        z=25)\n",
    "    arr = image_data[0]\n",
    "    data = arr[0,0,0,0,:,:]\n",
    "    # for image in data:\n",
    "    # Plot the image\n",
    "    fig = px.imshow(data, color_continuous_scale=\"gray\")\n",
    "    fig.update_layout(title=\"2D Image\", coloraxis_showscale=False)  # Hide color bar\n",
    "    fig.show()\n",
    "                                            # dtype = pixel_type,\n",
    "                                            # **kwargs)"
   ]
  },
  {
   "cell_type": "code",
   "execution_count": null,
   "metadata": {},
   "outputs": [],
   "source": [
    "arr = image_data[0]\n",
    "arr.shape"
   ]
  },
  {
   "cell_type": "code",
   "execution_count": null,
   "metadata": {},
   "outputs": [],
   "source": [
    "data = arr[0,0,25:30,0,:,:]"
   ]
  },
  {
   "cell_type": "code",
   "execution_count": null,
   "metadata": {},
   "outputs": [],
   "source": [
    "data.shape"
   ]
  },
  {
   "cell_type": "code",
   "execution_count": null,
   "metadata": {},
   "outputs": [],
   "source": [
    "image_data[1]"
   ]
  },
  {
   "cell_type": "code",
   "execution_count": null,
   "metadata": {},
   "outputs": [],
   "source": [
    "my_image = data[2]"
   ]
  },
  {
   "cell_type": "code",
   "execution_count": null,
   "metadata": {},
   "outputs": [],
   "source": [
    "# for image in data:\n",
    "# Plot the image\n",
    "fig = px.imshow(my_image, color_continuous_scale=\"gray\")\n",
    "fig.update_layout(title=\"2D Image\", coloraxis_showscale=False)  # Hide color bar\n",
    "fig.show()\n"
   ]
  },
  {
   "cell_type": "code",
   "execution_count": null,
   "metadata": {},
   "outputs": [],
   "source": [
    "import numpy as np\n",
    "import plotly.graph_objects as go\n",
    "from PIL import Image\n",
    "import io\n",
    "import base64\n",
    "\n",
    "# Helper function to convert a NumPy array to a base64-encoded image\n",
    "def array_to_base64(img_array):\n",
    "    img = Image.fromarray(img_array)  # Convert to PIL Image\n",
    "    buffer = io.BytesIO()\n",
    "    img.save(buffer, format=\"PNG\")  # Save image to buffer\n",
    "    buffer.seek(0)\n",
    "    encoded_image = base64.b64encode(buffer.read()).decode('utf-8')  # Encode as base64\n",
    "    return f\"data:image/png;base64,{encoded_image}\"\n",
    "\n",
    "# Simulate a 3D image of shape (Z, X, Y)\n",
    "\n",
    "# Create frames for each Z slice\n",
    "frames = [\n",
    "    go.Frame(\n",
    "        data=[go.Image(source=array_to_base64(data[z]))],  # Convert slice to base64\n",
    "        name=str(z)  # Frame name is the slice index\n",
    "    )\n",
    "    for z in range(data.shape[0])\n",
    "]\n",
    "\n",
    "# Initial figure setup with the first slice\n",
    "fig = go.Figure(\n",
    "    data=[go.Image(source=array_to_base64(data[0]))],  # Start with the first slice\n",
    "    frames=frames  # Add all frames\n",
    ")\n",
    "\n",
    "# Add slider to navigate through slices\n",
    "fig.update_layout(\n",
    "    title=\"Scroll Through Z-Slices\",\n",
    "    sliders=[\n",
    "        {\n",
    "            \"steps\": [\n",
    "                {\n",
    "                    \"args\": [[str(z)], {\"frame\": {\"duration\": 0, \"redraw\": True}}],\n",
    "                    \"label\": f\"Z={z}\",\n",
    "                    \"method\": \"animate\",\n",
    "                }\n",
    "                for z in range(data.shape[0])\n",
    "            ],\n",
    "            \"currentvalue\": {\"prefix\": \"Z-Slice: \"},\n",
    "        }\n",
    "    ],\n",
    "    updatemenus=[\n",
    "        {\n",
    "            \"type\": \"buttons\",\n",
    "            \"showactive\": False,\n",
    "            \"buttons\": [\n",
    "                {\n",
    "                    \"label\": \"Play\",\n",
    "                    \"method\": \"animate\",\n",
    "                    \"args\": [None, {\"frame\": {\"duration\": 200, \"redraw\": True}, \"fromcurrent\": True}],\n",
    "                },\n",
    "                {\n",
    "                    \"label\": \"Pause\",\n",
    "                    \"method\": \"animate\",\n",
    "                    \"args\": [[None], {\"frame\": {\"duration\": 0, \"redraw\": False}, \"mode\": \"immediate\"}],\n",
    "                },\n",
    "            ],\n",
    "        }\n",
    "    ]\n",
    ")\n",
    "\n",
    "fig.show()\n"
   ]
  },
  {
   "cell_type": "code",
   "execution_count": null,
   "metadata": {},
   "outputs": [],
   "source": [
    "# chunk_and_save_czi(czi_path, 'results', chunk_size = 30, channel_name='EGFP')"
   ]
  }
 ],
 "metadata": {
  "kernelspec": {
   "display_name": "bioimag",
   "language": "python",
   "name": "python3"
  },
  "language_info": {
   "codemirror_mode": {
    "name": "ipython",
    "version": 3
   },
   "file_extension": ".py",
   "mimetype": "text/x-python",
   "name": "python",
   "nbconvert_exporter": "python",
   "pygments_lexer": "ipython3",
   "version": "3.10.16"
  }
 },
 "nbformat": 4,
 "nbformat_minor": 2
}
