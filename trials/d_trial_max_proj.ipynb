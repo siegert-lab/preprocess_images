{
 "cells": [
  {
   "cell_type": "code",
   "execution_count": 1,
   "metadata": {},
   "outputs": [],
   "source": [
    "%load_ext autoreload\n",
    "%autoreload 2"
   ]
  },
  {
   "cell_type": "code",
   "execution_count": 2,
   "metadata": {},
   "outputs": [],
   "source": [
    "from process_czi import get_channel_info, get_czi_info, maxproject_for_registration\n",
    "from io_images import get_images_infoframe\n",
    "import os"
   ]
  },
  {
   "cell_type": "code",
   "execution_count": 3,
   "metadata": {},
   "outputs": [],
   "source": [
    "# Brain Slices\n",
    "# windows = False\n",
    "# folderpath = 'data'\n",
    "# folderpath = \"/run/user/1001/gvfs/smb-share:server=fs.ista.ac.at,share=drives/tnegrell/archive/siegegrp/AlVe/MORPHOMICS2.0_MICROGLIA_BRAIN_ATLAS\"\n",
    "windows = True\n",
    "folderpath = r\"\\\\fs.ista.ac.at\\drives\\aventuri\\archive\\siegegrp\\AlVe\\MORPHOMICS2.0_MICROGLIA_BRAIN_ATLAS\"\n"
   ]
  },
  {
   "cell_type": "code",
   "execution_count": null,
   "metadata": {},
   "outputs": [],
   "source": [
    "folderpath"
   ]
  },
  {
   "cell_type": "code",
   "execution_count": null,
   "metadata": {},
   "outputs": [],
   "source": [
    "# List all files and directories in the folder\n",
    "contents = os.listdir(folderpath)\n",
    "\n",
    "print(\"Contents of the folder:\")\n",
    "for item in contents:\n",
    "    print(item)"
   ]
  },
  {
   "cell_type": "code",
   "execution_count": null,
   "metadata": {},
   "outputs": [],
   "source": [
    "# infoframe = get_images_infoframe(folder_path, conditions=['Animal'])\n",
    "infoframe = get_images_infoframe(folderpath, windows=True)"
   ]
  },
  {
   "cell_type": "code",
   "execution_count": null,
   "metadata": {},
   "outputs": [],
   "source": [
    "infoframe"
   ]
  },
  {
   "cell_type": "code",
   "execution_count": null,
   "metadata": {},
   "outputs": [],
   "source": [
    "for i, row in infoframe.iterrows():\n",
    "    file_name = row['file_name']\n",
    "    file_path = row['file_path']\n",
    "    print(f\"The file {file_name} is selected for processing\")\n",
    "    czi_file = get_czi_info(file_path)\n",
    "    # maxproject_for_registration(czi_file, \n",
    "    #                             save_folderpath, \n",
    "    #                             channel_name = 'DAPI')"
   ]
  },
  {
   "cell_type": "code",
   "execution_count": null,
   "metadata": {},
   "outputs": [],
   "source": [
    "# example with issue\n",
    "example_slide = infoframe.iloc[1]\n",
    "file_name = example_slide['file_name']\n",
    "file_path = example_slide['file_path']\n",
    "print(f\"The file {file_name} is selected for processing\")\n",
    "czi_file = get_czi_info(file_path)"
   ]
  },
  {
   "cell_type": "code",
   "execution_count": 10,
   "metadata": {},
   "outputs": [],
   "source": [
    "import aicspylibczi\n",
    "from process_czi import _get_channel_idx"
   ]
  },
  {
   "cell_type": "code",
   "execution_count": null,
   "metadata": {},
   "outputs": [],
   "source": [
    "if isinstance(czi_file, str):\n",
    "        czi_file = aicspylibczi.CziFile(czi_file)\n",
    "    # Take the correct chanel that contains the nucleus\n",
    "metadata = czi_file.meta\n",
    "correct_channel_idx = _get_channel_idx(metadata, 'DAPI')\n",
    "\n",
    "bbox = czi_file.get_all_scene_bounding_boxes()\n",
    "sequences = czi_file.get_dims_shape()\n",
    "nb_seq = len(sequences)\n",
    "print(\"Start zmax projections\")\n",
    "print(f\"There are {nb_seq} tissue slices in this file\")"
   ]
  },
  {
   "cell_type": "code",
   "execution_count": 21,
   "metadata": {},
   "outputs": [],
   "source": [
    "s = 3\n",
    "example_seq = sequences[s]"
   ]
  },
  {
   "cell_type": "code",
   "execution_count": null,
   "metadata": {},
   "outputs": [],
   "source": [
    "example_seq"
   ]
  },
  {
   "cell_type": "code",
   "execution_count": 40,
   "metadata": {},
   "outputs": [],
   "source": [
    "import numpy as np\n",
    "from utils import downsample_by_2\n",
    "import tifffile\n"
   ]
  },
  {
   "cell_type": "code",
   "execution_count": 43,
   "metadata": {},
   "outputs": [],
   "source": [
    "result_foldername = r\"\\zmax_projections_test\"\n",
    "result_folderpath = folderpath + result_foldername\n",
    "save_foldername = file_name[:-4]\n",
    "save_folderpath = result_folderpath + \"\\\\\" + save_foldername"
   ]
  },
  {
   "cell_type": "code",
   "execution_count": null,
   "metadata": {},
   "outputs": [],
   "source": [
    "save_folderpath"
   ]
  },
  {
   "cell_type": "markdown",
   "metadata": {},
   "source": [
    "# There was a file that could not be read\n",
    "# I was checking if it was true for all channels"
   ]
  },
  {
   "cell_type": "code",
   "execution_count": 60,
   "metadata": {},
   "outputs": [],
   "source": [
    "# Load the image slice I want from the file\n",
    "img, shp = czi_file.read_image(S=3, Z=1, C=0)"
   ]
  },
  {
   "cell_type": "code",
   "execution_count": null,
   "metadata": {},
   "outputs": [],
   "source": [
    "img, shp = czi_file.read_image(S=3, Z=1, C=1)"
   ]
  }
 ],
 "metadata": {
  "kernelspec": {
   "display_name": "bioimag",
   "language": "python",
   "name": "python3"
  },
  "language_info": {
   "codemirror_mode": {
    "name": "ipython",
    "version": 3
   },
   "file_extension": ".py",
   "mimetype": "text/x-python",
   "name": "python",
   "nbconvert_exporter": "python",
   "pygments_lexer": "ipython3",
   "version": "3.10.16"
  }
 },
 "nbformat": 4,
 "nbformat_minor": 2
}
