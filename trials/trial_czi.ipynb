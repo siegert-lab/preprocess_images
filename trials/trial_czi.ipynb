{
 "cells": [
  {
   "cell_type": "code",
   "execution_count": 1,
   "metadata": {},
   "outputs": [],
   "source": [
    "%load_ext autoreload\n",
    "%autoreload 2"
   ]
  },
  {
   "cell_type": "code",
   "execution_count": 2,
   "metadata": {},
   "outputs": [],
   "source": [
    "import sys\n",
    "import os\n",
    "\n",
    "# Add the directory above the current notebook to the system path\n",
    "sys.path.append(os.path.abspath(os.path.join('..')))"
   ]
  },
  {
   "cell_type": "code",
   "execution_count": 3,
   "metadata": {},
   "outputs": [],
   "source": [
    "from process_czi import get_channel_info, get_czi_info, _get_chunk_bbox, chunk_and_save_czi \n",
    "from io_images import get_images_infoframe\n",
    "import os\n",
    "import aicspylibczi\n",
    "import numpy as np\n",
    "import plotly.express as px"
   ]
  },
  {
   "cell_type": "code",
   "execution_count": 4,
   "metadata": {},
   "outputs": [
    {
     "name": "stdout",
     "output_type": "stream",
     "text": [
      "('64bit', 'WindowsPE')\n"
     ]
    }
   ],
   "source": [
    "import platform\n",
    "print(platform.architecture())"
   ]
  },
  {
   "cell_type": "markdown",
   "metadata": {},
   "source": [
    "Folder Path"
   ]
  },
  {
   "cell_type": "code",
   "execution_count": 5,
   "metadata": {},
   "outputs": [],
   "source": [
    "# Load the .czi file\n",
    "# folder_path = \"/run/user/1001/gvfs/smb-share:server=fs.ista.ac.at,share=drives/tnegrell/group/siegegrp/FlSu/_Bioimaging/imaging files_temp/test_AI14_notam_retina-01_AcquisitionBlock1.czi\""
   ]
  },
  {
   "cell_type": "code",
   "execution_count": 6,
   "metadata": {},
   "outputs": [],
   "source": [
    "# Brain Slices\n",
    "# folder_path = 'data'\n",
    "folder_path = \"/run/user/1001/gvfs/smb-share:server=fs.ista.ac.at,share=drives/tnegrell/archive/siegegrp/AlVe/MORPHOMICS2.0_MICROGLIA_BRAIN_ATLAS\"\n"
   ]
  },
  {
   "cell_type": "code",
   "execution_count": 7,
   "metadata": {},
   "outputs": [],
   "source": [
    "windows = True\n",
    "folder_path = r\"\\\\fs.ista.ac.at\\drives\\aventuri\\archive\\siegegrp\\AlVe\\MORPHOMICS2.0_MICROGLIA_BRAIN_ATLAS\"\n"
   ]
  },
  {
   "cell_type": "markdown",
   "metadata": {},
   "source": [
    "List of Files in Folder"
   ]
  },
  {
   "cell_type": "code",
   "execution_count": 8,
   "metadata": {},
   "outputs": [
    {
     "name": "stdout",
     "output_type": "stream",
     "text": [
      "Contents of the folder:\n",
      "ATLAS\n",
      "C2-siegegrp00030.czi - siegegrp00030.czi #1.tif\n",
      "chunk_images\n",
      "MAX_C1-siegegrp00030.czi - siegegrp00030.czi #1.tif\n",
      "raw_images\n",
      "README.txt\n",
      "siegegrp00030.czi\n",
      "siegegrp00031.czi\n",
      "siegegrp00032.czi\n",
      "siegegrp00033.czi\n",
      "siegegrp00034.czi\n",
      "siegegrp00035.czi\n",
      "siegegrp00036.czi\n",
      "siegegrp00037.czi\n",
      "siegegrp00038.czi\n",
      "siegegrp00039.czi\n",
      "siegegrp00040.czi\n",
      "siegegrp00041.czi\n",
      "siegegrp00042.czi\n",
      "siegegrp00043.czi\n",
      "Thumbs.db\n",
      "traced_microglia\n",
      "zmax_projections\n"
     ]
    }
   ],
   "source": [
    "# List all files and directories in the folder\n",
    "contents = os.listdir(folder_path)\n",
    "\n",
    "print(\"Contents of the folder:\")\n",
    "for item in contents:\n",
    "    print(item)"
   ]
  },
  {
   "cell_type": "markdown",
   "metadata": {},
   "source": [
    "Get Info Frame"
   ]
  },
  {
   "cell_type": "code",
   "execution_count": 9,
   "metadata": {},
   "outputs": [
    {
     "name": "stdout",
     "output_type": "stream",
     "text": [
      "Found 14 files...\n",
      "There are 14 files in folder_location\n"
     ]
    }
   ],
   "source": [
    "# infoframe = get_images_infoframe(folder_path, conditions=['Animal'])\n",
    "infoframe = get_images_infoframe(folder_path, windows=windows)"
   ]
  },
  {
   "cell_type": "code",
   "execution_count": 10,
   "metadata": {},
   "outputs": [
    {
     "data": {
      "text/html": [
       "<div>\n",
       "<style scoped>\n",
       "    .dataframe tbody tr th:only-of-type {\n",
       "        vertical-align: middle;\n",
       "    }\n",
       "\n",
       "    .dataframe tbody tr th {\n",
       "        vertical-align: top;\n",
       "    }\n",
       "\n",
       "    .dataframe thead th {\n",
       "        text-align: right;\n",
       "    }\n",
       "</style>\n",
       "<table border=\"1\" class=\"dataframe\">\n",
       "  <thead>\n",
       "    <tr style=\"text-align: right;\">\n",
       "      <th></th>\n",
       "      <th>file_name</th>\n",
       "      <th>file_path</th>\n",
       "    </tr>\n",
       "  </thead>\n",
       "  <tbody>\n",
       "    <tr>\n",
       "      <th>0</th>\n",
       "      <td>siegegrp00030.czi</td>\n",
       "      <td>\\\\fs.ista.ac.at\\drives\\aventuri\\archive\\siegeg...</td>\n",
       "    </tr>\n",
       "    <tr>\n",
       "      <th>1</th>\n",
       "      <td>siegegrp00031.czi</td>\n",
       "      <td>\\\\fs.ista.ac.at\\drives\\aventuri\\archive\\siegeg...</td>\n",
       "    </tr>\n",
       "    <tr>\n",
       "      <th>2</th>\n",
       "      <td>siegegrp00032.czi</td>\n",
       "      <td>\\\\fs.ista.ac.at\\drives\\aventuri\\archive\\siegeg...</td>\n",
       "    </tr>\n",
       "    <tr>\n",
       "      <th>3</th>\n",
       "      <td>siegegrp00033.czi</td>\n",
       "      <td>\\\\fs.ista.ac.at\\drives\\aventuri\\archive\\siegeg...</td>\n",
       "    </tr>\n",
       "    <tr>\n",
       "      <th>4</th>\n",
       "      <td>siegegrp00034.czi</td>\n",
       "      <td>\\\\fs.ista.ac.at\\drives\\aventuri\\archive\\siegeg...</td>\n",
       "    </tr>\n",
       "    <tr>\n",
       "      <th>5</th>\n",
       "      <td>siegegrp00035.czi</td>\n",
       "      <td>\\\\fs.ista.ac.at\\drives\\aventuri\\archive\\siegeg...</td>\n",
       "    </tr>\n",
       "    <tr>\n",
       "      <th>6</th>\n",
       "      <td>siegegrp00036.czi</td>\n",
       "      <td>\\\\fs.ista.ac.at\\drives\\aventuri\\archive\\siegeg...</td>\n",
       "    </tr>\n",
       "    <tr>\n",
       "      <th>7</th>\n",
       "      <td>siegegrp00037.czi</td>\n",
       "      <td>\\\\fs.ista.ac.at\\drives\\aventuri\\archive\\siegeg...</td>\n",
       "    </tr>\n",
       "    <tr>\n",
       "      <th>8</th>\n",
       "      <td>siegegrp00038.czi</td>\n",
       "      <td>\\\\fs.ista.ac.at\\drives\\aventuri\\archive\\siegeg...</td>\n",
       "    </tr>\n",
       "    <tr>\n",
       "      <th>9</th>\n",
       "      <td>siegegrp00039.czi</td>\n",
       "      <td>\\\\fs.ista.ac.at\\drives\\aventuri\\archive\\siegeg...</td>\n",
       "    </tr>\n",
       "    <tr>\n",
       "      <th>10</th>\n",
       "      <td>siegegrp00040.czi</td>\n",
       "      <td>\\\\fs.ista.ac.at\\drives\\aventuri\\archive\\siegeg...</td>\n",
       "    </tr>\n",
       "    <tr>\n",
       "      <th>11</th>\n",
       "      <td>siegegrp00041.czi</td>\n",
       "      <td>\\\\fs.ista.ac.at\\drives\\aventuri\\archive\\siegeg...</td>\n",
       "    </tr>\n",
       "    <tr>\n",
       "      <th>12</th>\n",
       "      <td>siegegrp00042.czi</td>\n",
       "      <td>\\\\fs.ista.ac.at\\drives\\aventuri\\archive\\siegeg...</td>\n",
       "    </tr>\n",
       "    <tr>\n",
       "      <th>13</th>\n",
       "      <td>siegegrp00043.czi</td>\n",
       "      <td>\\\\fs.ista.ac.at\\drives\\aventuri\\archive\\siegeg...</td>\n",
       "    </tr>\n",
       "  </tbody>\n",
       "</table>\n",
       "</div>"
      ],
      "text/plain": [
       "            file_name                                          file_path\n",
       "0   siegegrp00030.czi  \\\\fs.ista.ac.at\\drives\\aventuri\\archive\\siegeg...\n",
       "1   siegegrp00031.czi  \\\\fs.ista.ac.at\\drives\\aventuri\\archive\\siegeg...\n",
       "2   siegegrp00032.czi  \\\\fs.ista.ac.at\\drives\\aventuri\\archive\\siegeg...\n",
       "3   siegegrp00033.czi  \\\\fs.ista.ac.at\\drives\\aventuri\\archive\\siegeg...\n",
       "4   siegegrp00034.czi  \\\\fs.ista.ac.at\\drives\\aventuri\\archive\\siegeg...\n",
       "5   siegegrp00035.czi  \\\\fs.ista.ac.at\\drives\\aventuri\\archive\\siegeg...\n",
       "6   siegegrp00036.czi  \\\\fs.ista.ac.at\\drives\\aventuri\\archive\\siegeg...\n",
       "7   siegegrp00037.czi  \\\\fs.ista.ac.at\\drives\\aventuri\\archive\\siegeg...\n",
       "8   siegegrp00038.czi  \\\\fs.ista.ac.at\\drives\\aventuri\\archive\\siegeg...\n",
       "9   siegegrp00039.czi  \\\\fs.ista.ac.at\\drives\\aventuri\\archive\\siegeg...\n",
       "10  siegegrp00040.czi  \\\\fs.ista.ac.at\\drives\\aventuri\\archive\\siegeg...\n",
       "11  siegegrp00041.czi  \\\\fs.ista.ac.at\\drives\\aventuri\\archive\\siegeg...\n",
       "12  siegegrp00042.czi  \\\\fs.ista.ac.at\\drives\\aventuri\\archive\\siegeg...\n",
       "13  siegegrp00043.czi  \\\\fs.ista.ac.at\\drives\\aventuri\\archive\\siegeg..."
      ]
     },
     "execution_count": 10,
     "metadata": {},
     "output_type": "execute_result"
    }
   ],
   "source": [
    "infoframe"
   ]
  },
  {
   "cell_type": "markdown",
   "metadata": {},
   "source": [
    "Test add_column_condition"
   ]
  },
  {
   "cell_type": "code",
   "execution_count": 11,
   "metadata": {},
   "outputs": [],
   "source": [
    "from utils import add_condition_columns\n",
    "nb_images = len(infoframe)\n",
    "infoframe = add_condition_columns(dataframe = infoframe,\n",
    "                                age_values = [['18m', 0, nb_images]],\n",
    "                                sex_values = [['F', 0, nb_images]],\n",
    "                                animal_values = [['1', 0, nb_images/2],\n",
    "                                                ['2', nb_images/2, nb_images]])"
   ]
  },
  {
   "cell_type": "code",
   "execution_count": 12,
   "metadata": {},
   "outputs": [
    {
     "data": {
      "text/html": [
       "<div>\n",
       "<style scoped>\n",
       "    .dataframe tbody tr th:only-of-type {\n",
       "        vertical-align: middle;\n",
       "    }\n",
       "\n",
       "    .dataframe tbody tr th {\n",
       "        vertical-align: top;\n",
       "    }\n",
       "\n",
       "    .dataframe thead th {\n",
       "        text-align: right;\n",
       "    }\n",
       "</style>\n",
       "<table border=\"1\" class=\"dataframe\">\n",
       "  <thead>\n",
       "    <tr style=\"text-align: right;\">\n",
       "      <th></th>\n",
       "      <th>file_name</th>\n",
       "      <th>file_path</th>\n",
       "      <th>Age</th>\n",
       "      <th>Sex</th>\n",
       "      <th>Animal</th>\n",
       "      <th>Idx</th>\n",
       "    </tr>\n",
       "  </thead>\n",
       "  <tbody>\n",
       "    <tr>\n",
       "      <th>0</th>\n",
       "      <td>siegegrp00030.czi</td>\n",
       "      <td>\\\\fs.ista.ac.at\\drives\\aventuri\\archive\\siegeg...</td>\n",
       "      <td>18m</td>\n",
       "      <td>F</td>\n",
       "      <td>1</td>\n",
       "      <td>0</td>\n",
       "    </tr>\n",
       "    <tr>\n",
       "      <th>1</th>\n",
       "      <td>siegegrp00031.czi</td>\n",
       "      <td>\\\\fs.ista.ac.at\\drives\\aventuri\\archive\\siegeg...</td>\n",
       "      <td>18m</td>\n",
       "      <td>F</td>\n",
       "      <td>1</td>\n",
       "      <td>1</td>\n",
       "    </tr>\n",
       "    <tr>\n",
       "      <th>2</th>\n",
       "      <td>siegegrp00032.czi</td>\n",
       "      <td>\\\\fs.ista.ac.at\\drives\\aventuri\\archive\\siegeg...</td>\n",
       "      <td>18m</td>\n",
       "      <td>F</td>\n",
       "      <td>1</td>\n",
       "      <td>2</td>\n",
       "    </tr>\n",
       "    <tr>\n",
       "      <th>3</th>\n",
       "      <td>siegegrp00033.czi</td>\n",
       "      <td>\\\\fs.ista.ac.at\\drives\\aventuri\\archive\\siegeg...</td>\n",
       "      <td>18m</td>\n",
       "      <td>F</td>\n",
       "      <td>1</td>\n",
       "      <td>3</td>\n",
       "    </tr>\n",
       "    <tr>\n",
       "      <th>4</th>\n",
       "      <td>siegegrp00034.czi</td>\n",
       "      <td>\\\\fs.ista.ac.at\\drives\\aventuri\\archive\\siegeg...</td>\n",
       "      <td>18m</td>\n",
       "      <td>F</td>\n",
       "      <td>1</td>\n",
       "      <td>4</td>\n",
       "    </tr>\n",
       "    <tr>\n",
       "      <th>5</th>\n",
       "      <td>siegegrp00035.czi</td>\n",
       "      <td>\\\\fs.ista.ac.at\\drives\\aventuri\\archive\\siegeg...</td>\n",
       "      <td>18m</td>\n",
       "      <td>F</td>\n",
       "      <td>1</td>\n",
       "      <td>5</td>\n",
       "    </tr>\n",
       "    <tr>\n",
       "      <th>6</th>\n",
       "      <td>siegegrp00036.czi</td>\n",
       "      <td>\\\\fs.ista.ac.at\\drives\\aventuri\\archive\\siegeg...</td>\n",
       "      <td>18m</td>\n",
       "      <td>F</td>\n",
       "      <td>1</td>\n",
       "      <td>6</td>\n",
       "    </tr>\n",
       "    <tr>\n",
       "      <th>7</th>\n",
       "      <td>siegegrp00037.czi</td>\n",
       "      <td>\\\\fs.ista.ac.at\\drives\\aventuri\\archive\\siegeg...</td>\n",
       "      <td>18m</td>\n",
       "      <td>F</td>\n",
       "      <td>2</td>\n",
       "      <td>0</td>\n",
       "    </tr>\n",
       "    <tr>\n",
       "      <th>8</th>\n",
       "      <td>siegegrp00038.czi</td>\n",
       "      <td>\\\\fs.ista.ac.at\\drives\\aventuri\\archive\\siegeg...</td>\n",
       "      <td>18m</td>\n",
       "      <td>F</td>\n",
       "      <td>2</td>\n",
       "      <td>1</td>\n",
       "    </tr>\n",
       "    <tr>\n",
       "      <th>9</th>\n",
       "      <td>siegegrp00039.czi</td>\n",
       "      <td>\\\\fs.ista.ac.at\\drives\\aventuri\\archive\\siegeg...</td>\n",
       "      <td>18m</td>\n",
       "      <td>F</td>\n",
       "      <td>2</td>\n",
       "      <td>2</td>\n",
       "    </tr>\n",
       "    <tr>\n",
       "      <th>10</th>\n",
       "      <td>siegegrp00040.czi</td>\n",
       "      <td>\\\\fs.ista.ac.at\\drives\\aventuri\\archive\\siegeg...</td>\n",
       "      <td>18m</td>\n",
       "      <td>F</td>\n",
       "      <td>2</td>\n",
       "      <td>3</td>\n",
       "    </tr>\n",
       "    <tr>\n",
       "      <th>11</th>\n",
       "      <td>siegegrp00041.czi</td>\n",
       "      <td>\\\\fs.ista.ac.at\\drives\\aventuri\\archive\\siegeg...</td>\n",
       "      <td>18m</td>\n",
       "      <td>F</td>\n",
       "      <td>2</td>\n",
       "      <td>4</td>\n",
       "    </tr>\n",
       "    <tr>\n",
       "      <th>12</th>\n",
       "      <td>siegegrp00042.czi</td>\n",
       "      <td>\\\\fs.ista.ac.at\\drives\\aventuri\\archive\\siegeg...</td>\n",
       "      <td>18m</td>\n",
       "      <td>F</td>\n",
       "      <td>2</td>\n",
       "      <td>5</td>\n",
       "    </tr>\n",
       "    <tr>\n",
       "      <th>13</th>\n",
       "      <td>siegegrp00043.czi</td>\n",
       "      <td>\\\\fs.ista.ac.at\\drives\\aventuri\\archive\\siegeg...</td>\n",
       "      <td>18m</td>\n",
       "      <td>F</td>\n",
       "      <td>2</td>\n",
       "      <td>6</td>\n",
       "    </tr>\n",
       "  </tbody>\n",
       "</table>\n",
       "</div>"
      ],
      "text/plain": [
       "            file_name                                          file_path  Age  \\\n",
       "0   siegegrp00030.czi  \\\\fs.ista.ac.at\\drives\\aventuri\\archive\\siegeg...  18m   \n",
       "1   siegegrp00031.czi  \\\\fs.ista.ac.at\\drives\\aventuri\\archive\\siegeg...  18m   \n",
       "2   siegegrp00032.czi  \\\\fs.ista.ac.at\\drives\\aventuri\\archive\\siegeg...  18m   \n",
       "3   siegegrp00033.czi  \\\\fs.ista.ac.at\\drives\\aventuri\\archive\\siegeg...  18m   \n",
       "4   siegegrp00034.czi  \\\\fs.ista.ac.at\\drives\\aventuri\\archive\\siegeg...  18m   \n",
       "5   siegegrp00035.czi  \\\\fs.ista.ac.at\\drives\\aventuri\\archive\\siegeg...  18m   \n",
       "6   siegegrp00036.czi  \\\\fs.ista.ac.at\\drives\\aventuri\\archive\\siegeg...  18m   \n",
       "7   siegegrp00037.czi  \\\\fs.ista.ac.at\\drives\\aventuri\\archive\\siegeg...  18m   \n",
       "8   siegegrp00038.czi  \\\\fs.ista.ac.at\\drives\\aventuri\\archive\\siegeg...  18m   \n",
       "9   siegegrp00039.czi  \\\\fs.ista.ac.at\\drives\\aventuri\\archive\\siegeg...  18m   \n",
       "10  siegegrp00040.czi  \\\\fs.ista.ac.at\\drives\\aventuri\\archive\\siegeg...  18m   \n",
       "11  siegegrp00041.czi  \\\\fs.ista.ac.at\\drives\\aventuri\\archive\\siegeg...  18m   \n",
       "12  siegegrp00042.czi  \\\\fs.ista.ac.at\\drives\\aventuri\\archive\\siegeg...  18m   \n",
       "13  siegegrp00043.czi  \\\\fs.ista.ac.at\\drives\\aventuri\\archive\\siegeg...  18m   \n",
       "\n",
       "   Sex Animal  Idx  \n",
       "0    F      1    0  \n",
       "1    F      1    1  \n",
       "2    F      1    2  \n",
       "3    F      1    3  \n",
       "4    F      1    4  \n",
       "5    F      1    5  \n",
       "6    F      1    6  \n",
       "7    F      2    0  \n",
       "8    F      2    1  \n",
       "9    F      2    2  \n",
       "10   F      2    3  \n",
       "11   F      2    4  \n",
       "12   F      2    5  \n",
       "13   F      2    6  "
      ]
     },
     "execution_count": 12,
     "metadata": {},
     "output_type": "execute_result"
    }
   ],
   "source": [
    "infoframe"
   ]
  },
  {
   "cell_type": "markdown",
   "metadata": {},
   "source": [
    "Test to modify file name and file path"
   ]
  },
  {
   "cell_type": "code",
   "execution_count": 13,
   "metadata": {},
   "outputs": [],
   "source": [
    "from utils import update_file_name_and_path\n",
    "infoframe = update_file_name_and_path(infoframe, \n",
    "                                      project_path = folder_path)\n"
   ]
  },
  {
   "cell_type": "code",
   "execution_count": 14,
   "metadata": {},
   "outputs": [
    {
     "data": {
      "text/html": [
       "<div>\n",
       "<style scoped>\n",
       "    .dataframe tbody tr th:only-of-type {\n",
       "        vertical-align: middle;\n",
       "    }\n",
       "\n",
       "    .dataframe tbody tr th {\n",
       "        vertical-align: top;\n",
       "    }\n",
       "\n",
       "    .dataframe thead th {\n",
       "        text-align: right;\n",
       "    }\n",
       "</style>\n",
       "<table border=\"1\" class=\"dataframe\">\n",
       "  <thead>\n",
       "    <tr style=\"text-align: right;\">\n",
       "      <th></th>\n",
       "      <th>file_name</th>\n",
       "      <th>file_path</th>\n",
       "      <th>Age</th>\n",
       "      <th>Sex</th>\n",
       "      <th>Animal</th>\n",
       "      <th>Idx</th>\n",
       "      <th>old_file_path</th>\n",
       "    </tr>\n",
       "  </thead>\n",
       "  <tbody>\n",
       "    <tr>\n",
       "      <th>0</th>\n",
       "      <td>raw_image_Age_18m_Sex_F_Animal_1_idx_0.czi</td>\n",
       "      <td>\\\\fs.ista.ac.at\\drives\\aventuri\\archive\\siegeg...</td>\n",
       "      <td>18m</td>\n",
       "      <td>F</td>\n",
       "      <td>1</td>\n",
       "      <td>0</td>\n",
       "      <td>\\\\fs.ista.ac.at\\drives\\aventuri\\archive\\siegeg...</td>\n",
       "    </tr>\n",
       "    <tr>\n",
       "      <th>1</th>\n",
       "      <td>raw_image_Age_18m_Sex_F_Animal_1_idx_1.czi</td>\n",
       "      <td>\\\\fs.ista.ac.at\\drives\\aventuri\\archive\\siegeg...</td>\n",
       "      <td>18m</td>\n",
       "      <td>F</td>\n",
       "      <td>1</td>\n",
       "      <td>1</td>\n",
       "      <td>\\\\fs.ista.ac.at\\drives\\aventuri\\archive\\siegeg...</td>\n",
       "    </tr>\n",
       "    <tr>\n",
       "      <th>2</th>\n",
       "      <td>raw_image_Age_18m_Sex_F_Animal_1_idx_2.czi</td>\n",
       "      <td>\\\\fs.ista.ac.at\\drives\\aventuri\\archive\\siegeg...</td>\n",
       "      <td>18m</td>\n",
       "      <td>F</td>\n",
       "      <td>1</td>\n",
       "      <td>2</td>\n",
       "      <td>\\\\fs.ista.ac.at\\drives\\aventuri\\archive\\siegeg...</td>\n",
       "    </tr>\n",
       "    <tr>\n",
       "      <th>3</th>\n",
       "      <td>raw_image_Age_18m_Sex_F_Animal_1_idx_3.czi</td>\n",
       "      <td>\\\\fs.ista.ac.at\\drives\\aventuri\\archive\\siegeg...</td>\n",
       "      <td>18m</td>\n",
       "      <td>F</td>\n",
       "      <td>1</td>\n",
       "      <td>3</td>\n",
       "      <td>\\\\fs.ista.ac.at\\drives\\aventuri\\archive\\siegeg...</td>\n",
       "    </tr>\n",
       "    <tr>\n",
       "      <th>4</th>\n",
       "      <td>raw_image_Age_18m_Sex_F_Animal_1_idx_4.czi</td>\n",
       "      <td>\\\\fs.ista.ac.at\\drives\\aventuri\\archive\\siegeg...</td>\n",
       "      <td>18m</td>\n",
       "      <td>F</td>\n",
       "      <td>1</td>\n",
       "      <td>4</td>\n",
       "      <td>\\\\fs.ista.ac.at\\drives\\aventuri\\archive\\siegeg...</td>\n",
       "    </tr>\n",
       "    <tr>\n",
       "      <th>5</th>\n",
       "      <td>raw_image_Age_18m_Sex_F_Animal_1_idx_5.czi</td>\n",
       "      <td>\\\\fs.ista.ac.at\\drives\\aventuri\\archive\\siegeg...</td>\n",
       "      <td>18m</td>\n",
       "      <td>F</td>\n",
       "      <td>1</td>\n",
       "      <td>5</td>\n",
       "      <td>\\\\fs.ista.ac.at\\drives\\aventuri\\archive\\siegeg...</td>\n",
       "    </tr>\n",
       "    <tr>\n",
       "      <th>6</th>\n",
       "      <td>raw_image_Age_18m_Sex_F_Animal_1_idx_6.czi</td>\n",
       "      <td>\\\\fs.ista.ac.at\\drives\\aventuri\\archive\\siegeg...</td>\n",
       "      <td>18m</td>\n",
       "      <td>F</td>\n",
       "      <td>1</td>\n",
       "      <td>6</td>\n",
       "      <td>\\\\fs.ista.ac.at\\drives\\aventuri\\archive\\siegeg...</td>\n",
       "    </tr>\n",
       "    <tr>\n",
       "      <th>7</th>\n",
       "      <td>raw_image_Age_18m_Sex_F_Animal_2_idx_0.czi</td>\n",
       "      <td>\\\\fs.ista.ac.at\\drives\\aventuri\\archive\\siegeg...</td>\n",
       "      <td>18m</td>\n",
       "      <td>F</td>\n",
       "      <td>2</td>\n",
       "      <td>0</td>\n",
       "      <td>\\\\fs.ista.ac.at\\drives\\aventuri\\archive\\siegeg...</td>\n",
       "    </tr>\n",
       "    <tr>\n",
       "      <th>8</th>\n",
       "      <td>raw_image_Age_18m_Sex_F_Animal_2_idx_1.czi</td>\n",
       "      <td>\\\\fs.ista.ac.at\\drives\\aventuri\\archive\\siegeg...</td>\n",
       "      <td>18m</td>\n",
       "      <td>F</td>\n",
       "      <td>2</td>\n",
       "      <td>1</td>\n",
       "      <td>\\\\fs.ista.ac.at\\drives\\aventuri\\archive\\siegeg...</td>\n",
       "    </tr>\n",
       "    <tr>\n",
       "      <th>9</th>\n",
       "      <td>raw_image_Age_18m_Sex_F_Animal_2_idx_2.czi</td>\n",
       "      <td>\\\\fs.ista.ac.at\\drives\\aventuri\\archive\\siegeg...</td>\n",
       "      <td>18m</td>\n",
       "      <td>F</td>\n",
       "      <td>2</td>\n",
       "      <td>2</td>\n",
       "      <td>\\\\fs.ista.ac.at\\drives\\aventuri\\archive\\siegeg...</td>\n",
       "    </tr>\n",
       "    <tr>\n",
       "      <th>10</th>\n",
       "      <td>raw_image_Age_18m_Sex_F_Animal_2_idx_3.czi</td>\n",
       "      <td>\\\\fs.ista.ac.at\\drives\\aventuri\\archive\\siegeg...</td>\n",
       "      <td>18m</td>\n",
       "      <td>F</td>\n",
       "      <td>2</td>\n",
       "      <td>3</td>\n",
       "      <td>\\\\fs.ista.ac.at\\drives\\aventuri\\archive\\siegeg...</td>\n",
       "    </tr>\n",
       "    <tr>\n",
       "      <th>11</th>\n",
       "      <td>raw_image_Age_18m_Sex_F_Animal_2_idx_4.czi</td>\n",
       "      <td>\\\\fs.ista.ac.at\\drives\\aventuri\\archive\\siegeg...</td>\n",
       "      <td>18m</td>\n",
       "      <td>F</td>\n",
       "      <td>2</td>\n",
       "      <td>4</td>\n",
       "      <td>\\\\fs.ista.ac.at\\drives\\aventuri\\archive\\siegeg...</td>\n",
       "    </tr>\n",
       "    <tr>\n",
       "      <th>12</th>\n",
       "      <td>raw_image_Age_18m_Sex_F_Animal_2_idx_5.czi</td>\n",
       "      <td>\\\\fs.ista.ac.at\\drives\\aventuri\\archive\\siegeg...</td>\n",
       "      <td>18m</td>\n",
       "      <td>F</td>\n",
       "      <td>2</td>\n",
       "      <td>5</td>\n",
       "      <td>\\\\fs.ista.ac.at\\drives\\aventuri\\archive\\siegeg...</td>\n",
       "    </tr>\n",
       "    <tr>\n",
       "      <th>13</th>\n",
       "      <td>raw_image_Age_18m_Sex_F_Animal_2_idx_6.czi</td>\n",
       "      <td>\\\\fs.ista.ac.at\\drives\\aventuri\\archive\\siegeg...</td>\n",
       "      <td>18m</td>\n",
       "      <td>F</td>\n",
       "      <td>2</td>\n",
       "      <td>6</td>\n",
       "      <td>\\\\fs.ista.ac.at\\drives\\aventuri\\archive\\siegeg...</td>\n",
       "    </tr>\n",
       "  </tbody>\n",
       "</table>\n",
       "</div>"
      ],
      "text/plain": [
       "                                     file_name  \\\n",
       "0   raw_image_Age_18m_Sex_F_Animal_1_idx_0.czi   \n",
       "1   raw_image_Age_18m_Sex_F_Animal_1_idx_1.czi   \n",
       "2   raw_image_Age_18m_Sex_F_Animal_1_idx_2.czi   \n",
       "3   raw_image_Age_18m_Sex_F_Animal_1_idx_3.czi   \n",
       "4   raw_image_Age_18m_Sex_F_Animal_1_idx_4.czi   \n",
       "5   raw_image_Age_18m_Sex_F_Animal_1_idx_5.czi   \n",
       "6   raw_image_Age_18m_Sex_F_Animal_1_idx_6.czi   \n",
       "7   raw_image_Age_18m_Sex_F_Animal_2_idx_0.czi   \n",
       "8   raw_image_Age_18m_Sex_F_Animal_2_idx_1.czi   \n",
       "9   raw_image_Age_18m_Sex_F_Animal_2_idx_2.czi   \n",
       "10  raw_image_Age_18m_Sex_F_Animal_2_idx_3.czi   \n",
       "11  raw_image_Age_18m_Sex_F_Animal_2_idx_4.czi   \n",
       "12  raw_image_Age_18m_Sex_F_Animal_2_idx_5.czi   \n",
       "13  raw_image_Age_18m_Sex_F_Animal_2_idx_6.czi   \n",
       "\n",
       "                                            file_path  Age Sex Animal  Idx  \\\n",
       "0   \\\\fs.ista.ac.at\\drives\\aventuri\\archive\\siegeg...  18m   F      1    0   \n",
       "1   \\\\fs.ista.ac.at\\drives\\aventuri\\archive\\siegeg...  18m   F      1    1   \n",
       "2   \\\\fs.ista.ac.at\\drives\\aventuri\\archive\\siegeg...  18m   F      1    2   \n",
       "3   \\\\fs.ista.ac.at\\drives\\aventuri\\archive\\siegeg...  18m   F      1    3   \n",
       "4   \\\\fs.ista.ac.at\\drives\\aventuri\\archive\\siegeg...  18m   F      1    4   \n",
       "5   \\\\fs.ista.ac.at\\drives\\aventuri\\archive\\siegeg...  18m   F      1    5   \n",
       "6   \\\\fs.ista.ac.at\\drives\\aventuri\\archive\\siegeg...  18m   F      1    6   \n",
       "7   \\\\fs.ista.ac.at\\drives\\aventuri\\archive\\siegeg...  18m   F      2    0   \n",
       "8   \\\\fs.ista.ac.at\\drives\\aventuri\\archive\\siegeg...  18m   F      2    1   \n",
       "9   \\\\fs.ista.ac.at\\drives\\aventuri\\archive\\siegeg...  18m   F      2    2   \n",
       "10  \\\\fs.ista.ac.at\\drives\\aventuri\\archive\\siegeg...  18m   F      2    3   \n",
       "11  \\\\fs.ista.ac.at\\drives\\aventuri\\archive\\siegeg...  18m   F      2    4   \n",
       "12  \\\\fs.ista.ac.at\\drives\\aventuri\\archive\\siegeg...  18m   F      2    5   \n",
       "13  \\\\fs.ista.ac.at\\drives\\aventuri\\archive\\siegeg...  18m   F      2    6   \n",
       "\n",
       "                                        old_file_path  \n",
       "0   \\\\fs.ista.ac.at\\drives\\aventuri\\archive\\siegeg...  \n",
       "1   \\\\fs.ista.ac.at\\drives\\aventuri\\archive\\siegeg...  \n",
       "2   \\\\fs.ista.ac.at\\drives\\aventuri\\archive\\siegeg...  \n",
       "3   \\\\fs.ista.ac.at\\drives\\aventuri\\archive\\siegeg...  \n",
       "4   \\\\fs.ista.ac.at\\drives\\aventuri\\archive\\siegeg...  \n",
       "5   \\\\fs.ista.ac.at\\drives\\aventuri\\archive\\siegeg...  \n",
       "6   \\\\fs.ista.ac.at\\drives\\aventuri\\archive\\siegeg...  \n",
       "7   \\\\fs.ista.ac.at\\drives\\aventuri\\archive\\siegeg...  \n",
       "8   \\\\fs.ista.ac.at\\drives\\aventuri\\archive\\siegeg...  \n",
       "9   \\\\fs.ista.ac.at\\drives\\aventuri\\archive\\siegeg...  \n",
       "10  \\\\fs.ista.ac.at\\drives\\aventuri\\archive\\siegeg...  \n",
       "11  \\\\fs.ista.ac.at\\drives\\aventuri\\archive\\siegeg...  \n",
       "12  \\\\fs.ista.ac.at\\drives\\aventuri\\archive\\siegeg...  \n",
       "13  \\\\fs.ista.ac.at\\drives\\aventuri\\archive\\siegeg...  "
      ]
     },
     "execution_count": 14,
     "metadata": {},
     "output_type": "execute_result"
    }
   ],
   "source": [
    "infoframe"
   ]
  },
  {
   "cell_type": "markdown",
   "metadata": {},
   "source": [
    "Test moving the file to the correct place"
   ]
  },
  {
   "cell_type": "code",
   "execution_count": 17,
   "metadata": {},
   "outputs": [
    {
     "name": "stdout",
     "output_type": "stream",
     "text": [
      "Moved \\\\fs.ista.ac.at\\drives\\aventuri\\archive\\siegegrp\\AlVe\\MORPHOMICS2.0_MICROGLIA_BRAIN_ATLAS\\siegegrp00030.czi to \\\\fs.ista.ac.at\\drives\\aventuri\\archive\\siegegrp\\AlVe\\MORPHOMICS2.0_MICROGLIA_BRAIN_ATLAS\\raw_images\\18m\\F\\1\\raw_image_Age_18m_Sex_F_Animal_1_idx_0.czi\n",
      "Moved \\\\fs.ista.ac.at\\drives\\aventuri\\archive\\siegegrp\\AlVe\\MORPHOMICS2.0_MICROGLIA_BRAIN_ATLAS\\siegegrp00031.czi to \\\\fs.ista.ac.at\\drives\\aventuri\\archive\\siegegrp\\AlVe\\MORPHOMICS2.0_MICROGLIA_BRAIN_ATLAS\\raw_images\\18m\\F\\1\\raw_image_Age_18m_Sex_F_Animal_1_idx_1.czi\n",
      "Moved \\\\fs.ista.ac.at\\drives\\aventuri\\archive\\siegegrp\\AlVe\\MORPHOMICS2.0_MICROGLIA_BRAIN_ATLAS\\siegegrp00032.czi to \\\\fs.ista.ac.at\\drives\\aventuri\\archive\\siegegrp\\AlVe\\MORPHOMICS2.0_MICROGLIA_BRAIN_ATLAS\\raw_images\\18m\\F\\1\\raw_image_Age_18m_Sex_F_Animal_1_idx_2.czi\n",
      "Moved \\\\fs.ista.ac.at\\drives\\aventuri\\archive\\siegegrp\\AlVe\\MORPHOMICS2.0_MICROGLIA_BRAIN_ATLAS\\siegegrp00033.czi to \\\\fs.ista.ac.at\\drives\\aventuri\\archive\\siegegrp\\AlVe\\MORPHOMICS2.0_MICROGLIA_BRAIN_ATLAS\\raw_images\\18m\\F\\1\\raw_image_Age_18m_Sex_F_Animal_1_idx_3.czi\n",
      "Moved \\\\fs.ista.ac.at\\drives\\aventuri\\archive\\siegegrp\\AlVe\\MORPHOMICS2.0_MICROGLIA_BRAIN_ATLAS\\siegegrp00034.czi to \\\\fs.ista.ac.at\\drives\\aventuri\\archive\\siegegrp\\AlVe\\MORPHOMICS2.0_MICROGLIA_BRAIN_ATLAS\\raw_images\\18m\\F\\1\\raw_image_Age_18m_Sex_F_Animal_1_idx_4.czi\n",
      "Moved \\\\fs.ista.ac.at\\drives\\aventuri\\archive\\siegegrp\\AlVe\\MORPHOMICS2.0_MICROGLIA_BRAIN_ATLAS\\siegegrp00035.czi to \\\\fs.ista.ac.at\\drives\\aventuri\\archive\\siegegrp\\AlVe\\MORPHOMICS2.0_MICROGLIA_BRAIN_ATLAS\\raw_images\\18m\\F\\1\\raw_image_Age_18m_Sex_F_Animal_1_idx_5.czi\n",
      "Moved \\\\fs.ista.ac.at\\drives\\aventuri\\archive\\siegegrp\\AlVe\\MORPHOMICS2.0_MICROGLIA_BRAIN_ATLAS\\siegegrp00036.czi to \\\\fs.ista.ac.at\\drives\\aventuri\\archive\\siegegrp\\AlVe\\MORPHOMICS2.0_MICROGLIA_BRAIN_ATLAS\\raw_images\\18m\\F\\1\\raw_image_Age_18m_Sex_F_Animal_1_idx_6.czi\n",
      "Moved \\\\fs.ista.ac.at\\drives\\aventuri\\archive\\siegegrp\\AlVe\\MORPHOMICS2.0_MICROGLIA_BRAIN_ATLAS\\siegegrp00037.czi to \\\\fs.ista.ac.at\\drives\\aventuri\\archive\\siegegrp\\AlVe\\MORPHOMICS2.0_MICROGLIA_BRAIN_ATLAS\\raw_images\\18m\\F\\2\\raw_image_Age_18m_Sex_F_Animal_2_idx_0.czi\n",
      "Moved \\\\fs.ista.ac.at\\drives\\aventuri\\archive\\siegegrp\\AlVe\\MORPHOMICS2.0_MICROGLIA_BRAIN_ATLAS\\siegegrp00038.czi to \\\\fs.ista.ac.at\\drives\\aventuri\\archive\\siegegrp\\AlVe\\MORPHOMICS2.0_MICROGLIA_BRAIN_ATLAS\\raw_images\\18m\\F\\2\\raw_image_Age_18m_Sex_F_Animal_2_idx_1.czi\n",
      "Moved \\\\fs.ista.ac.at\\drives\\aventuri\\archive\\siegegrp\\AlVe\\MORPHOMICS2.0_MICROGLIA_BRAIN_ATLAS\\siegegrp00039.czi to \\\\fs.ista.ac.at\\drives\\aventuri\\archive\\siegegrp\\AlVe\\MORPHOMICS2.0_MICROGLIA_BRAIN_ATLAS\\raw_images\\18m\\F\\2\\raw_image_Age_18m_Sex_F_Animal_2_idx_2.czi\n",
      "Moved \\\\fs.ista.ac.at\\drives\\aventuri\\archive\\siegegrp\\AlVe\\MORPHOMICS2.0_MICROGLIA_BRAIN_ATLAS\\siegegrp00040.czi to \\\\fs.ista.ac.at\\drives\\aventuri\\archive\\siegegrp\\AlVe\\MORPHOMICS2.0_MICROGLIA_BRAIN_ATLAS\\raw_images\\18m\\F\\2\\raw_image_Age_18m_Sex_F_Animal_2_idx_3.czi\n",
      "Moved \\\\fs.ista.ac.at\\drives\\aventuri\\archive\\siegegrp\\AlVe\\MORPHOMICS2.0_MICROGLIA_BRAIN_ATLAS\\siegegrp00041.czi to \\\\fs.ista.ac.at\\drives\\aventuri\\archive\\siegegrp\\AlVe\\MORPHOMICS2.0_MICROGLIA_BRAIN_ATLAS\\raw_images\\18m\\F\\2\\raw_image_Age_18m_Sex_F_Animal_2_idx_4.czi\n",
      "Moved \\\\fs.ista.ac.at\\drives\\aventuri\\archive\\siegegrp\\AlVe\\MORPHOMICS2.0_MICROGLIA_BRAIN_ATLAS\\siegegrp00042.czi to \\\\fs.ista.ac.at\\drives\\aventuri\\archive\\siegegrp\\AlVe\\MORPHOMICS2.0_MICROGLIA_BRAIN_ATLAS\\raw_images\\18m\\F\\2\\raw_image_Age_18m_Sex_F_Animal_2_idx_5.czi\n",
      "Moved \\\\fs.ista.ac.at\\drives\\aventuri\\archive\\siegegrp\\AlVe\\MORPHOMICS2.0_MICROGLIA_BRAIN_ATLAS\\siegegrp00043.czi to \\\\fs.ista.ac.at\\drives\\aventuri\\archive\\siegegrp\\AlVe\\MORPHOMICS2.0_MICROGLIA_BRAIN_ATLAS\\raw_images\\18m\\F\\2\\raw_image_Age_18m_Sex_F_Animal_2_idx_6.czi\n"
     ]
    }
   ],
   "source": [
    "from io_images import move_raw_images\n",
    "\n",
    "move_raw_images(infoframe)"
   ]
  },
  {
   "cell_type": "markdown",
   "metadata": {},
   "source": [
    "Select one file .czi"
   ]
  },
  {
   "cell_type": "code",
   "execution_count": null,
   "metadata": {},
   "outputs": [],
   "source": [
    "czi_path = infoframe.iloc[6]['file_path']\n",
    "czi_path"
   ]
  },
  {
   "cell_type": "markdown",
   "metadata": {},
   "source": [
    "Get Channel Info"
   ]
  },
  {
   "cell_type": "code",
   "execution_count": null,
   "metadata": {},
   "outputs": [],
   "source": [
    "get_channel_info(czi_path)\n"
   ]
  },
  {
   "cell_type": "markdown",
   "metadata": {},
   "source": [
    "Get Dim and Size info"
   ]
  },
  {
   "cell_type": "code",
   "execution_count": null,
   "metadata": {},
   "outputs": [],
   "source": [
    "get_czi_info(czi_path)"
   ]
  },
  {
   "cell_type": "code",
   "execution_count": null,
   "metadata": {},
   "outputs": [],
   "source": [
    "filename = \"/run/user/1001/gvfs/smb-share:server=fs.ista.ac.at,share=drives/tnegrell/archive/siegegrp/AlVe/MORPHOMICS2.0_MICROGLIA_BRAIN_ATLAS/siegegrp00037.czi\""
   ]
  },
  {
   "cell_type": "code",
   "execution_count": null,
   "metadata": {},
   "outputs": [],
   "source": [
    "get_czi_info(filename)"
   ]
  },
  {
   "cell_type": "code",
   "execution_count": null,
   "metadata": {},
   "outputs": [],
   "source": [
    "czi_file = aicspylibczi.CziFile(czi_path)  \n",
    "\n",
    "czi_file.pixel_type"
   ]
  },
  {
   "cell_type": "markdown",
   "metadata": {},
   "source": [
    "Chunk dims"
   ]
  },
  {
   "cell_type": "code",
   "execution_count": null,
   "metadata": {},
   "outputs": [],
   "source": [
    "chunk_idx_list = _get_chunk_bbox(czi_path, max_size_chunk_gb=30)\n",
    "chunk_idx_list"
   ]
  },
  {
   "cell_type": "markdown",
   "metadata": {},
   "source": [
    "Test bbox methods of the library"
   ]
  },
  {
   "cell_type": "code",
   "execution_count": null,
   "metadata": {},
   "outputs": [],
   "source": [
    "bbox1 = czi_file.get_all_scene_bounding_boxes()\n",
    "print(bbox1)\n",
    "print(bbox1[0].x, bbox1[0].y, bbox1[0].w, bbox1[0].h)\n",
    "print(bbox1[1].x, bbox1[1].y, bbox1[1].w, bbox1[1].h)"
   ]
  },
  {
   "cell_type": "code",
   "execution_count": null,
   "metadata": {},
   "outputs": [],
   "source": [
    "-159614+22289"
   ]
  },
  {
   "cell_type": "code",
   "execution_count": null,
   "metadata": {},
   "outputs": [],
   "source": [
    "-140150+3700"
   ]
  },
  {
   "cell_type": "code",
   "execution_count": null,
   "metadata": {},
   "outputs": [],
   "source": [
    "# THIS METHODS RUN FOR EVER\n",
    "# bbox1 = czi_file.get_mosaic_tile_bounding_box() #axis param\n",
    "# bbox1 = czi_file.get_tile_bounding_box(C=1, S=0) #axis param"
   ]
  },
  {
   "cell_type": "code",
   "execution_count": null,
   "metadata": {},
   "outputs": [],
   "source": [
    "b = czi_file.read_mosaic(region = (-157614, 50683, 1000, 1000), scale_factor=1.0, C=1, Z=0)\n",
    "image = b[0][0]"
   ]
  },
  {
   "cell_type": "code",
   "execution_count": null,
   "metadata": {},
   "outputs": [],
   "source": [
    "image.shape"
   ]
  },
  {
   "cell_type": "code",
   "execution_count": null,
   "metadata": {},
   "outputs": [],
   "source": [
    "\n",
    "# for image in data:\n",
    "# Plot the image\n",
    "fig = px.imshow(image, color_continuous_scale=\"gray\")\n",
    "fig.update_layout(title=\"2D Image\", coloraxis_showscale=False)  # Hide color bar\n",
    "fig.show()"
   ]
  },
  {
   "cell_type": "markdown",
   "metadata": {},
   "source": [
    "Try this function"
   ]
  },
  {
   "cell_type": "code",
   "execution_count": null,
   "metadata": {},
   "outputs": [],
   "source": [
    "# read_subblock_metadata()"
   ]
  },
  {
   "cell_type": "markdown",
   "metadata": {},
   "source": [
    "Test chunk and save"
   ]
  },
  {
   "cell_type": "code",
   "execution_count": null,
   "metadata": {},
   "outputs": [],
   "source": [
    "czi_path = infoframe.iloc[5]['file_path']\n",
    "czi_path"
   ]
  },
  {
   "cell_type": "code",
   "execution_count": null,
   "metadata": {},
   "outputs": [],
   "source": [
    "czi_name = infoframe.iloc[5]['file_name'][:-4]\n",
    "czi_name"
   ]
  },
  {
   "cell_type": "code",
   "execution_count": null,
   "metadata": {},
   "outputs": [],
   "source": [
    "folder_path = 'results/' + czi_name\n",
    "chunk_and_save_czi(czi_path, save_folderpath = folder_path, max_size_chunk_gb = 1, channel_name = 'EGFP')"
   ]
  },
  {
   "cell_type": "code",
   "execution_count": null,
   "metadata": {},
   "outputs": [],
   "source": [
    "czi_file = aicspylibczi.CziFile(czi_path)\n",
    "\n",
    "sequences = czi_file.get_dims_shape()\n"
   ]
  },
  {
   "cell_type": "code",
   "execution_count": null,
   "metadata": {},
   "outputs": [],
   "source": [
    "sequences[0]['M'][1]*sequences[0]['X'][1]"
   ]
  },
  {
   "cell_type": "code",
   "execution_count": null,
   "metadata": {},
   "outputs": [],
   "source": [
    "sequences[1]['M'][1]*sequences[1]['X'][1]"
   ]
  },
  {
   "cell_type": "markdown",
   "metadata": {},
   "source": [
    "Load and plot example"
   ]
  },
  {
   "cell_type": "code",
   "execution_count": null,
   "metadata": {},
   "outputs": [],
   "source": [
    "import os\n",
    "\n",
    "folder_path = 'results/siegegrp00043/'\n",
    "all_files = [f for f in os.listdir(folder_path) if os.path.isfile(os.path.join(folder_path, f))]\n",
    "\n",
    "print(all_files)\n"
   ]
  },
  {
   "cell_type": "code",
   "execution_count": null,
   "metadata": {},
   "outputs": [],
   "source": [
    "from utils import load_and_plot_tiff\n",
    "load_and_plot_tiff(folder_path + all_files[13])"
   ]
  }
 ],
 "metadata": {
  "kernelspec": {
   "display_name": "bioimag",
   "language": "python",
   "name": "bioimag"
  },
  "language_info": {
   "codemirror_mode": {
    "name": "ipython",
    "version": 3
   },
   "file_extension": ".py",
   "mimetype": "text/x-python",
   "name": "python",
   "nbconvert_exporter": "python",
   "pygments_lexer": "ipython3",
   "version": "3.10.11"
  }
 },
 "nbformat": 4,
 "nbformat_minor": 2
}
