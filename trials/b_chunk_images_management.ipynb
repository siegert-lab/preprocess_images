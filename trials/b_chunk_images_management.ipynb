{
 "cells": [
  {
   "cell_type": "code",
   "execution_count": 1,
   "metadata": {},
   "outputs": [],
   "source": [
    "%load_ext autoreload\n",
    "%autoreload 2"
   ]
  },
  {
   "cell_type": "code",
   "execution_count": 2,
   "metadata": {},
   "outputs": [],
   "source": [
    "import sys\n",
    "import os\n",
    "\n",
    "# Add the directory above the current notebook to the system path\n",
    "sys.path.append(os.path.abspath(os.path.join('..')))"
   ]
  },
  {
   "cell_type": "markdown",
   "metadata": {},
   "source": [
    "Folder Path"
   ]
  },
  {
   "cell_type": "code",
   "execution_count": 3,
   "metadata": {},
   "outputs": [],
   "source": [
    "windows = True\n",
    "folder_path = r\"\\\\fs.ista.ac.at\\drives\\aventuri\\archive\\siegegrp\\AlVe\\MORPHOMICS2.0_MICROGLIA_BRAIN_ATLAS\"\n"
   ]
  },
  {
   "cell_type": "markdown",
   "metadata": {},
   "source": [
    "Get the infoframe"
   ]
  },
  {
   "cell_type": "code",
   "execution_count": 4,
   "metadata": {},
   "outputs": [],
   "source": [
    "from io_images import get_images_infoframe"
   ]
  },
  {
   "cell_type": "code",
   "execution_count": null,
   "metadata": {},
   "outputs": [],
   "source": [
    "project_path = os.path.join(folder_path, \"chunk_images\")\n",
    "\n",
    "infoframe = get_images_infoframe(project_path, \n",
    "                                 windows=windows, \n",
    "                                 conditions=['Age', 'Sex', 'Animal', 'Slide'], \n",
    "                                 extension=\"*.tif*\")"
   ]
  },
  {
   "cell_type": "code",
   "execution_count": null,
   "metadata": {},
   "outputs": [],
   "source": [
    "infoframe"
   ]
  },
  {
   "cell_type": "markdown",
   "metadata": {},
   "source": [
    "Get the idx of folders"
   ]
  },
  {
   "cell_type": "code",
   "execution_count": null,
   "metadata": {},
   "outputs": [],
   "source": [
    "# Get indices of folders containing '0030' to '0036'\n",
    "mask_0030_0036 = infoframe['Folder'].str.contains(r'003[0-6]', regex=True)\n",
    "\n",
    "# Get indices of folders containing '0037' to '0043'\n",
    "mask_0037_0043 = infoframe['Folder'].str.contains(r'003[7-9]|004[0-3]', regex=True)\n",
    "\n",
    "# Indices for each group\n",
    "idx_0030_0036 = infoframe[mask_0030_0036].index.tolist()\n",
    "idx_0037_0043 = infoframe[mask_0037_0043].index.tolist()\n",
    "\n",
    "# Display the indices\n",
    "print(\"Indices for folders containing '0030' to '0036':\", idx_0030_0036)\n",
    "print(\"Indices for folders containing '0037' to '0043':\", idx_0037_0043)\n",
    "\n",
    "min_1, max_1 = min(idx_0030_0036), max(idx_0030_0036)+1\n",
    "min_2, max_2 = min(idx_0037_0043), max(idx_0037_0043)+1\n",
    "\n",
    "print(min_1, max_1)\n",
    "print(min_2, max_2)"
   ]
  },
  {
   "cell_type": "markdown",
   "metadata": {},
   "source": [
    "Update the columns"
   ]
  },
  {
   "cell_type": "code",
   "execution_count": null,
   "metadata": {},
   "outputs": [],
   "source": [
    "from utils import add_condition_columns\n",
    "infoframe = add_condition_columns(infoframe,\n",
    "                                age_values = [['18m', 0, max_2]],\n",
    "                                sex_values = [['F', 0, max_2]],\n",
    "                                animal_values = [['1', 0, max_1],\n",
    "                                                ['2', min_2, max_2]])"
   ]
  },
  {
   "cell_type": "code",
   "execution_count": null,
   "metadata": {},
   "outputs": [],
   "source": [
    "infoframe"
   ]
  },
  {
   "cell_type": "markdown",
   "metadata": {},
   "source": [
    "Change name "
   ]
  },
  {
   "cell_type": "code",
   "execution_count": null,
   "metadata": {},
   "outputs": [],
   "source": [
    "from utils import update_file_name_and_path\n",
    "project_path = folder_path = r\"\\\\fs.ista.ac.at\\drives\\aventuri\\archive\\siegegrp\\AlVe\\MORPHOMICS2.0_MICROGLIA_BRAIN_ATLAS\"\n",
    "infoframe = update_file_name_and_path(dataframe = infoframe, \n",
    "                                      folder_name = 'chunk_images', \n",
    "                                      project_path = project_path)"
   ]
  },
  {
   "cell_type": "code",
   "execution_count": null,
   "metadata": {},
   "outputs": [],
   "source": [
    "infoframe"
   ]
  },
  {
   "cell_type": "code",
   "execution_count": null,
   "metadata": {},
   "outputs": [],
   "source": [
    "infoframe['old_file_path'].iloc[0]"
   ]
  },
  {
   "cell_type": "code",
   "execution_count": null,
   "metadata": {},
   "outputs": [],
   "source": [
    "infoframe['file_path'].iloc[0]"
   ]
  },
  {
   "cell_type": "markdown",
   "metadata": {},
   "source": [
    "move chunk image"
   ]
  },
  {
   "cell_type": "code",
   "execution_count": null,
   "metadata": {},
   "outputs": [],
   "source": [
    "from io_images import move_files\n",
    "\n",
    "move_files(infoframe)"
   ]
  },
  {
   "cell_type": "markdown",
   "metadata": {},
   "source": [
    "Correwct name "
   ]
  },
  {
   "cell_type": "code",
   "execution_count": null,
   "metadata": {},
   "outputs": [],
   "source": [
    "project_path = os.path.join(folder_path, \"chunk_images\")\n",
    "\n",
    "infoframe = get_images_infoframe(project_path, \n",
    "                                 windows=windows, \n",
    "                                 conditions=['Age', 'Sex', 'Animal', 'Slide'], \n",
    "                                 extension=\"*.tif*\")"
   ]
  },
  {
   "cell_type": "code",
   "execution_count": null,
   "metadata": {},
   "outputs": [],
   "source": [
    "fn = infoframe.iloc[0]['file_path']"
   ]
  },
  {
   "cell_type": "code",
   "execution_count": 8,
   "metadata": {},
   "outputs": [],
   "source": [
    "import re\n",
    "\n",
    "def remove_duplicate(file_path):\n",
    "    # The regex pattern will match a part like \"microglia_Age_18m_Sex_F_Animal_1_Slide_0\" or \"microglia_Age_18m_Sex_F_Animal_2_Slide_8\"\n",
    "    pattern = r'(_Age_\\d+m_Sex_[MF]_Animal_\\d+_Slide_\\d+)'\n",
    "    \n",
    "    # Use re.findall to find all occurrences of the repeating part\n",
    "    matches = re.findall(pattern, file_path)\n",
    "    \n",
    "    if matches:\n",
    "        # The first match will be the repeating part to remove (after its first occurrence)\n",
    "        duplicate_part = matches[0]\n",
    "        # Remove the second occurrence of this part in the filename\n",
    "        return file_path.replace(duplicate_part, '', 1)\n",
    "    \n",
    "    return file_path"
   ]
  }
 ],
 "metadata": {
  "kernelspec": {
   "display_name": "bioimag",
   "language": "python",
   "name": "bioimag"
  },
  "language_info": {
   "codemirror_mode": {
    "name": "ipython",
    "version": 3
   },
   "file_extension": ".py",
   "mimetype": "text/x-python",
   "name": "python",
   "nbconvert_exporter": "python",
   "pygments_lexer": "ipython3",
   "version": "3.10.11"
  }
 },
 "nbformat": 4,
 "nbformat_minor": 2
}
