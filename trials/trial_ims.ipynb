{
 "cells": [
  {
   "cell_type": "code",
   "execution_count": null,
   "metadata": {},
   "outputs": [],
   "source": [
    "%load_ext autoreload\n",
    "%autoreload 2"
   ]
  },
  {
   "cell_type": "code",
   "execution_count": null,
   "metadata": {},
   "outputs": [],
   "source": [
    "from process_ims import get_ims_info, _get_chunk_bbox, chunk_and_save_ims \n",
    "from io_images import get_images_infoframe\n",
    "from utils import plot_image\n",
    "\n",
    "from imaris_ims_file_reader.ims import ims"
   ]
  },
  {
   "cell_type": "markdown",
   "metadata": {},
   "source": [
    "Load files"
   ]
  },
  {
   "cell_type": "code",
   "execution_count": null,
   "metadata": {},
   "outputs": [],
   "source": [
    "folder_path = \"/run/user/1001/gvfs/smb-share:server=fs.ista.ac.at,share=drives/tnegrell/group/siegegrp/FlSu/_Bioimaging/Thomas/imaris files/stitched\"\n",
    "# folder_path = \"data_ims\"\n",
    "# List files in the current directory\n",
    "info_frame = get_images_infoframe(folder_path, extension='.ims')\n",
    "info_frame"
   ]
  },
  {
   "cell_type": "markdown",
   "metadata": {},
   "source": [
    "Select one example file"
   ]
  },
  {
   "cell_type": "code",
   "execution_count": null,
   "metadata": {},
   "outputs": [],
   "source": [
    "ims_filepath = info_frame.iloc[0]['file_path']\n",
    "ims_filepath"
   ]
  },
  {
   "cell_type": "markdown",
   "metadata": {},
   "source": [
    "Load the example File as an array"
   ]
  },
  {
   "cell_type": "code",
   "execution_count": null,
   "metadata": {},
   "outputs": [],
   "source": [
    "retina_image = ims(ims_filepath)"
   ]
  },
  {
   "cell_type": "markdown",
   "metadata": {},
   "source": [
    "Shape of the image"
   ]
  },
  {
   "cell_type": "code",
   "execution_count": null,
   "metadata": {},
   "outputs": [],
   "source": [
    "get_ims_info(ims_filepath)"
   ]
  },
  {
   "cell_type": "markdown",
   "metadata": {},
   "source": [
    "Find correct chennel"
   ]
  },
  {
   "cell_type": "code",
   "execution_count": null,
   "metadata": {},
   "outputs": [],
   "source": [
    "image0 = retina_image[0, 0, 50, 10000:13000, 10000:13000]\n",
    "plot_image(image0)\n"
   ]
  },
  {
   "cell_type": "code",
   "execution_count": null,
   "metadata": {},
   "outputs": [],
   "source": [
    "image1 = retina_image[0, 1, 50, 10000:13000, 10000:13000]\n",
    "plot_image(image1)\n"
   ]
  },
  {
   "cell_type": "code",
   "execution_count": null,
   "metadata": {},
   "outputs": [],
   "source": [
    "image2 = retina_image[0, 2, 50, 10000:13000, 10000:13000]\n",
    "plot_image(image2)"
   ]
  },
  {
   "cell_type": "markdown",
   "metadata": {},
   "source": [
    "Channels of the image"
   ]
  },
  {
   "cell_type": "code",
   "execution_count": null,
   "metadata": {},
   "outputs": [],
   "source": [
    "print(retina_image.Channels)\n"
   ]
  },
  {
   "cell_type": "markdown",
   "metadata": {},
   "source": [
    "Test chunk and save"
   ]
  },
  {
   "cell_type": "code",
   "execution_count": null,
   "metadata": {},
   "outputs": [],
   "source": [
    "save_folderpath = 'results/retina_example'\n",
    "chunk_and_save_ims(ims_filepath, save_folderpath, max_size_chunk_gb = 3, channel_idx = 1)"
   ]
  },
  {
   "cell_type": "markdown",
   "metadata": {},
   "source": [
    "Try to understand the ims library "
   ]
  },
  {
   "cell_type": "code",
   "execution_count": null,
   "metadata": {},
   "outputs": [],
   "source": [
    "metadata = retina_image.metaData"
   ]
  },
  {
   "cell_type": "code",
   "execution_count": null,
   "metadata": {},
   "outputs": [],
   "source": [
    "retina_image.__weakref__"
   ]
  },
  {
   "cell_type": "code",
   "execution_count": null,
   "metadata": {},
   "outputs": [],
   "source": [
    "help(retina_image)"
   ]
  },
  {
   "cell_type": "code",
   "execution_count": null,
   "metadata": {},
   "outputs": [],
   "source": [
    "metadata"
   ]
  },
  {
   "cell_type": "code",
   "execution_count": null,
   "metadata": {},
   "outputs": [],
   "source": [
    "a = retina_image\n",
    "print(a.ResolutionLevelLock)\n",
    "print(a.ResolutionLevels)\n",
    "print(a.TimePoints)\n",
    "print(a.Channels)\n",
    "print(a.shape)\n",
    "print(a.chunks)\n",
    "print(a.dtype)\n",
    "print(a.ndim)"
   ]
  },
  {
   "cell_type": "code",
   "execution_count": null,
   "metadata": {},
   "outputs": [],
   "source": [
    "channel_count = a.shape['C']  # Get the number of channels\n",
    "print(f\"Number of channels: {channel_count}\")\n"
   ]
  },
  {
   "cell_type": "code",
   "execution_count": null,
   "metadata": {},
   "outputs": [],
   "source": [
    "# Slice a like a numpy array always with 5 axes to access the highest resolution - level 0 - (t,c,z,y,x)\n",
    "a[0,0,5,:,:] # Time point 0, Channel 0, z-layer 5\n",
    "\n",
    "# Slice in 6 axes to designate the desired resolution level to work with - 0 is default and the highest resolution\n",
    "a[3,0,0,5,:,:] # Resolution Level 3, Time point 0, Channel 0, z-layer 5\n",
    "\n",
    "print(a.ResolutionLevelLock)\n",
    "print(a.ResolutionLevels)\n",
    "print(a.TimePoints)\n",
    "print(a.Channels)\n",
    "print(a.shape)\n",
    "print(a.chunks)\n",
    "print(a.dtype)\n",
    "print(a.ndim)"
   ]
  },
  {
   "cell_type": "code",
   "execution_count": null,
   "metadata": {},
   "outputs": [],
   "source": [
    "# A 'resolution lock' can be set when making the class which allows for 5 axis slicing that always extracts from that resoltion level\n",
    "a = ims(myFile.ims,ResolutionLevelLock=3)\n",
    "\n",
    "# Change ResolutionLevelLock after the class is open\n",
    "a.change_resolution_lock(2)\n",
    "print(a.ResolutionLevelLock)\n",
    "\n",
    "# 'squeeze_output' option returns arrays in their reduced form similar to a numpy array.  This is off by default to maintain compatibility with the rest of the imaris-ims-file-reader API.\n",
    "a = ims(myFile.ims)\n",
    "print(a[0,0,0].shape)"
   ]
  }
 ],
 "metadata": {
  "kernelspec": {
   "display_name": "bioimag",
   "language": "python",
   "name": "python3"
  },
  "language_info": {
   "codemirror_mode": {
    "name": "ipython",
    "version": 3
   },
   "file_extension": ".py",
   "mimetype": "text/x-python",
   "name": "python",
   "nbconvert_exporter": "python",
   "pygments_lexer": "ipython3",
   "version": "3.10.16"
  }
 },
 "nbformat": 4,
 "nbformat_minor": 2
}
