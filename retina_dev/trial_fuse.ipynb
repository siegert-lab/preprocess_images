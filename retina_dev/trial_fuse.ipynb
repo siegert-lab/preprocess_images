{
 "cells": [
  {
   "cell_type": "code",
   "execution_count": null,
   "metadata": {},
   "outputs": [],
   "source": [
    "%load_ext autoreload\n",
    "%autoreload 2"
   ]
  },
  {
   "cell_type": "code",
   "execution_count": 1,
   "metadata": {},
   "outputs": [],
   "source": [
    "import numpy as np\n",
    "import os\n",
    "import zarr\n",
    "import re\n",
    "import tifffile\n"
   ]
  },
  {
   "cell_type": "code",
   "execution_count": 3,
   "metadata": {},
   "outputs": [],
   "source": [
    "from fuse_n5_xml import get_tile_positions, fuse_channel_2_tiles"
   ]
  },
  {
   "cell_type": "code",
   "execution_count": 4,
   "metadata": {},
   "outputs": [],
   "source": [
    "from pathlib import Path\n",
    "\n",
    "# ----- File Paths -----\n",
    "# base_path per OS\n",
    "# macOS\n",
    "# base_path = Path(\"/Users/thomasnegrello/mnt/tnegrell_ista/siegegrp/ThNe/development_retina/raw_images_n5\")\n",
    "# Ubuntu\n",
    "# base_path = Path(\"/mnt/gdrive/ThNe/development_retina/raw_images_n5\")\n",
    "# Windows\n",
    "base_path = Path(\"Z:/siegegrp/ThNe/development_retina\")\n",
    "\n",
    "xml_folder = Path(\"raw_images_n5/P10/F/L\")\n",
    "file_name = \"retina_Age_P10_Sex_F_Side_L_Animal_2\"\n",
    "\n",
    "file_path = base_path / xml_folder / file_name\n",
    "\n",
    "n5_path = file_path.with_suffix(\".n5\")\n",
    "xml_path = file_path.with_suffix(\".xml\")\n"
   ]
  },
  {
   "cell_type": "code",
   "execution_count": 5,
   "metadata": {},
   "outputs": [],
   "source": [
    "positions = get_tile_positions(xml_path)\n",
    " "
   ]
  },
  {
   "cell_type": "code",
   "execution_count": null,
   "metadata": {},
   "outputs": [
    {
     "name": "stderr",
     "output_type": "stream",
     "text": [
      "c:\\Users\\siege\\anaconda3\\envs\\preprocess-img\\lib\\site-packages\\zarr\\n5.py:77: FutureWarning: The N5Store is deprecated and will be removed in a Zarr-Python version 3, see https://github.com/zarr-developers/zarr-python/issues/1274 for more information.\n",
      "  super().__init__(*args, **kwargs)\n",
      "c:\\Users\\siege\\anaconda3\\envs\\preprocess-img\\lib\\site-packages\\zarr\\storage.py:179: FutureWarning: The N5Store is deprecated and will be removed in a Zarr-Python version 3, see https://github.com/zarr-developers/zarr-python/issues/1274 and https://github.com/zarr-developers/n5py for more information.\n",
      "  return N5Store(store)\n"
     ]
    },
    {
     "name": "stdout",
     "output_type": "stream",
     "text": [
      "Selected setups for channel 2: ['setup2', 'setup6', 'setup10', 'setup14', 'setup18', 'setup22', 'setup26', 'setup30', 'setup34', 'setup38', 'setup42', 'setup46', 'setup50', 'setup54', 'setup58', 'setup62', 'setup66', 'setup70', 'setup74', 'setup78', 'setup82', 'setup86', 'setup90', 'setup94', 'setup98', 'setup102', 'setup106', 'setup110', 'setup114', 'setup118', 'setup122', 'setup126', 'setup130', 'setup134', 'setup138', 'setup142', 'setup146', 'setup150', 'setup154', 'setup158', 'setup162', 'setup166', 'setup170']\n",
      "43 tiles to process\n",
      "Tile 1/43 positioned\n"
     ]
    }
   ],
   "source": [
    "voxel_size = [0.9, 0.33902432, 0.33902432]  # Z, Y, X microns per pixel\n",
    "output_path = base_path / \"trial_fuse\" / \"microglia_Age_P10_Sex_F_Side_L_Animal_2_full.tif\"\n",
    "\n",
    "fuse_channel_2_tiles(\n",
    "    n5_path=n5_path,\n",
    "    tile_positions=positions, \n",
    "    channel = 2,\n",
    "    voxel_size=voxel_size,\n",
    "    output_path=output_path,\n",
    "    downsample_factor_xy=1,\n",
    "    downsample_factor_z=1\n",
    ")\n",
    "\n"
   ]
  }
 ],
 "metadata": {
  "kernelspec": {
   "display_name": "Python 3",
   "language": "python",
   "name": "python3"
  },
  "language_info": {
   "codemirror_mode": {
    "name": "ipython",
    "version": 3
   },
   "file_extension": ".py",
   "mimetype": "text/x-python",
   "name": "python",
   "nbconvert_exporter": "python",
   "pygments_lexer": "ipython3",
   "version": "3.10.16"
  }
 },
 "nbformat": 4,
 "nbformat_minor": 2
}
