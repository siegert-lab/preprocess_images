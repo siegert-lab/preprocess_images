{
 "cells": [
  {
   "cell_type": "code",
   "execution_count": null,
   "metadata": {},
   "outputs": [],
   "source": [
    "%load_ext autoreload\n",
    "%autoreload 2"
   ]
  },
  {
   "cell_type": "code",
   "execution_count": null,
   "metadata": {},
   "outputs": [],
   "source": [
    "import numpy as np\n",
    "import os\n",
    "import zarr\n",
    "import re\n",
    "import tifffile\n"
   ]
  },
  {
   "cell_type": "code",
   "execution_count": null,
   "metadata": {},
   "outputs": [],
   "source": [
    "from fuse_n5_xml import get_tile_positions, fuse_channel_2_tiles"
   ]
  },
  {
   "cell_type": "code",
   "execution_count": null,
   "metadata": {},
   "outputs": [],
   "source": [
    "\n",
    "# ----- File Paths -----\n",
    "# base_path per OS\n",
    "# macOS\n",
    "# base_path = Path(\"/Users/thomasnegrello/mnt/tnegrell_ista/siegegrp/ThNe/development_retina/raw_images_n5\")\n",
    "# Ubuntu\n",
    "# base_path = Path(\"/mnt/gdrive/ThNe/development_retina/raw_images_n5\")\n",
    "# Windows\n",
    "base_path = Path(\"Z:/siegegrp/ThNe/development_retina\")\n",
    "#debian\n",
    "# base_path = Path()\"/run/user/1009/gvfs/smb-share:server=fs.ista.ac.at,share=drives/tnegrell/group/siegegrp/ThNe/development_retina/raw_images_n5/\")\n",
    "\n",
    "xml_folder = Path(\"raw_images_n5/P10/F/L\")\n",
    "file_name = \"retina_Age_P10_Sex_F_Side_L_Animal_2\"\n",
    "\n",
    "file_path = base_path / xml_folder / file_name\n",
    "\n",
    "n5_path = file_path.with_suffix(\".n5\")\n",
    "xml_path = file_path.with_suffix(\".xml\")\n"
   ]
  },
  {
   "cell_type": "code",
   "execution_count": null,
   "metadata": {},
   "outputs": [],
   "source": [
    "positions = get_tile_positions(xml_path)\n",
    " "
   ]
  },
  {
   "cell_type": "code",
   "execution_count": null,
   "metadata": {},
   "outputs": [],
   "source": [
    "voxel_size = [0.9, 0.33902432, 0.33902432]  # Z, Y, X microns per pixel\n",
    "output_path = base_path / \"trial_fuse\" / \"microglia_Age_P10_Sex_F_Side_L_Animal_2_full.tif\"\n",
    "\n",
    "fuse_channel_2_tiles(\n",
    "    n5_path=n5_path,\n",
    "    tile_positions=positions, \n",
    "    channel = 2,\n",
    "    voxel_size=voxel_size,\n",
    "    output_path=output_path,\n",
    "    downsample_factor_xy=3,\n",
    "    downsample_factor_z=2\n",
    ")\n",
    "\n"
   ]
  }
 ],
 "metadata": {
  "kernelspec": {
   "display_name": "Python 3",
   "language": "python",
   "name": "python3"
  },
  "language_info": {
   "codemirror_mode": {
    "name": "ipython",
    "version": 3
   },
   "file_extension": ".py",
   "mimetype": "text/x-python",
   "name": "python",
   "nbconvert_exporter": "python",
   "pygments_lexer": "ipython3",
   "version": "3.10.16"
  }
 },
 "nbformat": 4,
 "nbformat_minor": 2
}
