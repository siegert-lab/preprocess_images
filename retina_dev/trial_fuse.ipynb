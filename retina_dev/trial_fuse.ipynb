{
 "cells": [
  {
   "cell_type": "code",
   "execution_count": null,
   "metadata": {},
   "outputs": [],
   "source": [
    "%load_ext autoreload\n",
    "%autoreload 2"
   ]
  },
  {
   "cell_type": "code",
   "execution_count": null,
   "metadata": {},
   "outputs": [],
   "source": [
    "import numpy as np\n",
    "import os\n",
    "import zarr\n",
    "import re\n",
    "import tifffile\n",
    "from lxml import etree"
   ]
  },
  {
   "cell_type": "code",
   "execution_count": null,
   "metadata": {},
   "outputs": [],
   "source": [
    "from fuse_n5_xml import get_tile_positions, fuse_channel_2_tiles"
   ]
  },
  {
   "cell_type": "code",
   "execution_count": null,
   "metadata": {},
   "outputs": [],
   "source": [
    "# ----- File Paths -----\n",
    "#mac\n",
    "base_path = \"/Users/thomasnegrello/mnt/tnegrell_ista/siegegrp/ThNe/development_retina/raw_images_n5/\"\n",
    "#ubuntu\n",
    "# base_path = \"/mnt/gdrive/ThNe/development_retina/raw_images_n5/\"\n",
    "xml_folder = \"P10/F/L/\"\n",
    "file_name = \"retina_Age_P10_Sex_F_Side_L_Animal_1\"\n",
    "file_path = base_path + xml_folder + file_name\n",
    "\n",
    "n5_path = file_path + '.n5'\n",
    "xml_path = file_path + '.xml'"
   ]
  },
  {
   "cell_type": "code",
   "execution_count": null,
   "metadata": {},
   "outputs": [],
   "source": [
    "positions = get_tile_positions(xml_path)\n",
    " "
   ]
  },
  {
   "cell_type": "code",
   "execution_count": null,
   "metadata": {},
   "outputs": [],
   "source": [
    "voxel_size = [0.9, 0.33902432, 0.33902432]  # Z, Y, X microns per pixel\n",
    "output_path = \"/Users/thomasnegrello/mnt/tnegrell_ista/siegegrp/ThNe/development_retina/trial_fuse/microglia_Age_P10_Sex_F_Side_L_Animal_1.tif\"\n",
    "\n",
    "fuse_channel_2_tiles(\n",
    "    n5_path=n5_path,\n",
    "    tile_positions=positions, \n",
    "    channel = 2,\n",
    "    voxel_size=voxel_size,\n",
    "    output_path=output_path,\n",
    "    downsample_factor_xy=3,\n",
    "    downsample_factor_z=2\n",
    ")\n",
    "\n"
   ]
  }
 ],
 "metadata": {
  "kernelspec": {
   "display_name": "preprocess-img",
   "language": "python",
   "name": "python3"
  },
  "language_info": {
   "codemirror_mode": {
    "name": "ipython",
    "version": 3
   },
   "file_extension": ".py",
   "mimetype": "text/x-python",
   "name": "python",
   "nbconvert_exporter": "python",
   "pygments_lexer": "ipython3",
   "version": "3.10.16"
  }
 },
 "nbformat": 4,
 "nbformat_minor": 2
}
