{
 "cells": [
  {
   "cell_type": "code",
   "execution_count": null,
   "metadata": {},
   "outputs": [],
   "source": [
    "%load_ext autoreload\n",
    "%autoreload 2"
   ]
  },
  {
   "cell_type": "code",
   "execution_count": null,
   "metadata": {},
   "outputs": [],
   "source": [
    "import numpy as np\n",
    "import os\n",
    "import zarr\n",
    "import re\n",
    "import tifffile\n"
   ]
  },
  {
   "cell_type": "code",
   "execution_count": null,
   "metadata": {},
   "outputs": [],
   "source": [
    "from fuse_n5_xml_to_tif import get_tile_positions, fuse_channel_2_tiles"
   ]
  },
  {
   "cell_type": "code",
   "execution_count": null,
   "metadata": {},
   "outputs": [],
   "source": [
    "from pathlib import Path\n",
    "# ----- File Paths -----\n",
    "# base_path per OS\n",
    "# macOS\n",
    "# base_path = Path(\"/Users/thomasnegrello/mnt/tnegrell_ista/siegegrp/ThNe/development_retina/\")\n",
    "# Ubuntu\n",
    "# base_path = Path(\"/mnt/gdrive/ThNe/development_retina/\")\n",
    "# Windows\n",
    "# base_path = Path(\"Z:/siegegrp/ThNe/development_retina/\")\n",
    "#debian\n",
    "base_path = Path(\"/run/user/1009/gvfs/smb-share:server=fs.ista.ac.at,share=drives/tnegrell/group/siegegrp/ThNe/development_retina/\")\n",
    "\n",
    "xml_folder = Path(\"raw_images_n5/\")\n",
    "file_name = Path(\"P10/F/L/retina_Age_P10_Sex_F_Side_L_Animal_2\")\n",
    "\n",
    "file_path = base_path / xml_folder / file_name\n",
    "\n",
    "n5_path = file_path.with_suffix(\".n5\")\n",
    "xml_path = file_path.with_suffix(\".xml\")\n"
   ]
  },
  {
   "cell_type": "code",
   "execution_count": null,
   "metadata": {},
   "outputs": [],
   "source": [
    "positions = get_tile_positions(xml_path)\n",
    " "
   ]
  },
  {
   "cell_type": "code",
   "execution_count": null,
   "metadata": {},
   "outputs": [],
   "source": [
    "import matplotlib.pyplot as plt\n",
    "points_dict = positions\n",
    "\n",
    "# Extract x, y values and labels\n",
    "x = [v[0] for v in points_dict.values()]\n",
    "y = [v[1] for v in points_dict.values()]\n",
    "labels = list(points_dict.keys())\n",
    "\n",
    "# Create scatter plot\n",
    "plt.figure(figsize=(8, 6))\n",
    "plt.scatter(x, y)\n",
    "\n",
    "# Add labels\n",
    "for label, x_coord, y_coord in zip(labels, x, y):\n",
    "    plt.text(x_coord, y_coord, label, fontsize=12, ha='right', va='bottom')\n",
    "\n",
    "plt.xlabel('Dimension 1')\n",
    "plt.ylabel('Dimension 2')\n",
    "plt.title('2D Projection of 3D Points with Labels')\n",
    "plt.grid(True)\n",
    "plt.show()"
   ]
  },
  {
   "cell_type": "code",
   "execution_count": null,
   "metadata": {},
   "outputs": [],
   "source": [
    "downsample_factor_xy = 3\n",
    "downsample_factor_z = 2"
   ]
  },
  {
   "cell_type": "code",
   "execution_count": null,
   "metadata": {},
   "outputs": [],
   "source": [
    "voxel_size = [0.9, 0.33902432, 0.33902432]  # Z, Y, X microns per pixel\n",
    "fuse_folder = Path(\"trial_fuse/\")\n",
    "file_name = Path(\"microglia_Age_P10_Sex_F_Side_L_Animal_2_xy_{downsample_factor_xy}_z_{downsample_factor_z}.tif\")\n",
    "\n",
    "output_path = base_path / fuse_folder / file_name\n",
    "\n",
    "fuse_channel_2_tiles(\n",
    "    n5_path=n5_path,\n",
    "    tile_positions=positions, \n",
    "    channel = 2,\n",
    "    output_path=output_path,\n",
    "    downsample_factor_xy=downsample_factor_xy,\n",
    "    downsample_factor_z=downsample_factor_z\n",
    ")\n",
    "\n"
   ]
  }
 ],
 "metadata": {
  "kernelspec": {
   "display_name": "preprocess-img",
   "language": "python",
   "name": "python3"
  },
  "language_info": {
   "codemirror_mode": {
    "name": "ipython",
    "version": 3
   },
   "file_extension": ".py",
   "mimetype": "text/x-python",
   "name": "python",
   "nbconvert_exporter": "python",
   "pygments_lexer": "ipython3",
   "version": "3.10.16"
  }
 },
 "nbformat": 4,
 "nbformat_minor": 2
}
