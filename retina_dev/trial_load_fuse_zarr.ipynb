{
 "cells": [
  {
   "cell_type": "code",
   "execution_count": null,
   "id": "6cc7e950",
   "metadata": {},
   "outputs": [],
   "source": [
    "%load_ext autoreload\n",
    "%autoreload 2"
   ]
  },
  {
   "cell_type": "code",
   "execution_count": null,
   "id": "017c4ae2",
   "metadata": {},
   "outputs": [],
   "source": [
    "import bioio_ome_zarr\n",
    "from pathlib import Path\n",
    "import os\n",
    "import zarr\n",
    "import tifffile\n",
    "import gc  # for freeing memory\n",
    "from skimage import exposure\n",
    "from skimage.transform import resize\n",
    "from fuse_n5_xml_to_tif import pix_size"
   ]
  },
  {
   "cell_type": "code",
   "execution_count": null,
   "id": "e99987c6",
   "metadata": {},
   "outputs": [],
   "source": [
    "from pathlib import Path \n",
    "from bioio import BioImage\n"
   ]
  },
  {
   "cell_type": "code",
   "execution_count": null,
   "id": "1df99dfe",
   "metadata": {},
   "outputs": [],
   "source": [
    "# ----- File Paths -----\n",
    "# base_path per OS\n",
    "# macOS\n",
    "# base_path = Path(\"/Users/thomasnegrello/mnt/tnegrell_ista/siegegrp/ThNe/development_retina/raw_images_n5/\")\n",
    "# Ubuntu\n",
    "# base_path = Path(\"/mnt/gdrive/ThNe/development_retina/raw_images_n5/\")\n",
    "# Windows\n",
    "base_path = Path(\"Z:/siegegrp/ThNe/development_retina/\")\n",
    "#debian\n",
    "# base_path = Path(\"/run/user/1009/gvfs/smb-share:server=fs.ista.ac.at,share=drives/tnegrell/group/siegegrp/ThNe/development_retina/\")\n",
    "\n",
    "#\n",
    "fuse_folder = Path(\"trila_fuse_mg/P10/F/L/\")\n",
    "file_name = \"microglia_Age_P10_Sex_F_Side_L_Animal_1.zarr\"\n",
    "# fuse_folder = Path(\"trila_fuse_mg/P21/F/L/\")\n",
    "# file_name = \"microglia_Age_P21_Sex_F_Side_L_Animal_1\"\n",
    "\n",
    "file_path = base_path / fuse_folder / file_name\n",
    "\n",
    "zarr_path = file_path.with_suffix(\".zarr\")\n"
   ]
  },
  {
   "cell_type": "code",
   "execution_count": null,
   "id": "d95a7083",
   "metadata": {},
   "outputs": [],
   "source": [
    "img = BioImage(zarr_path, reader=bioio_ome_zarr.Reader)"
   ]
  },
  {
   "cell_type": "code",
   "execution_count": null,
   "id": "4a3ff6b4",
   "metadata": {},
   "outputs": [],
   "source": [
    "z = zarr.open(zarr_path, mode='r')\n",
    "z.tree()"
   ]
  },
  {
   "cell_type": "code",
   "execution_count": null,
   "id": "786dadcc",
   "metadata": {},
   "outputs": [],
   "source": [
    "arr = z['0'] \n",
    "z_max_index = int(0.65*arr.shape[2])\n",
    "mg_img = arr[0,0,:z_max_index]"
   ]
  },
  {
   "cell_type": "code",
   "execution_count": null,
   "id": "eb7f20cc",
   "metadata": {},
   "outputs": [],
   "source": [
    "in_memory_size_gb = arr.nbytes / (1024 ** 3)\n",
    "print(f\"In-memory size: {in_memory_size_gb:.2f} GB\")\n"
   ]
  },
  {
   "cell_type": "code",
   "execution_count": null,
   "id": "a88b9eee",
   "metadata": {},
   "outputs": [],
   "source": [
    "arr"
   ]
  },
  {
   "cell_type": "code",
   "execution_count": null,
   "id": "894f3ede",
   "metadata": {},
   "outputs": [],
   "source": [
    "import zarr\n",
    "\n",
    "# Check the chunking scheme\n",
    "z = zarr.open(zarr_path, mode='r')\n",
    "print(\"Chunking scheme:\", z['0'].chunks)  # This will give you the chunk sizes\n",
    "\n",
    "# Now, make sure your slices don't cross the chunk boundaries\n"
   ]
  },
  {
   "cell_type": "code",
   "execution_count": null,
   "id": "ae225251",
   "metadata": {},
   "outputs": [],
   "source": [
    "import zarr\n",
    "\n",
    "# Open the Zarr group\n",
    "z = zarr.open(zarr_path, mode='r')\n",
    "\n",
    "# List all the keys (arrays/datasets) in the group\n",
    "print(\"Contents of the Zarr group:\", list(z.keys()))\n",
    "\n",
    "# Access the specific array within the group (replace '0' with the actual key)\n",
    "arr = z['0']  # or use the appropriate key if it's different\n",
    "\n",
    "# Now, you can access the shape and chunking information of the array\n",
    "print(\"Shape of the array:\", arr.shape)\n",
    "print(\"Chunking scheme of the array:\", arr.chunks)\n"
   ]
  },
  {
   "cell_type": "code",
   "execution_count": null,
   "id": "0e61f34e",
   "metadata": {},
   "outputs": [],
   "source": [
    "import numpy as np\n",
    "import tifffile\n",
    "import os\n",
    "\n",
    "# Open the Zarr array\n",
    "arr = zarr.open(zarr_path, mode='r')['0']\n",
    "# Zarr chunking\n",
    "C, T, Z, Y, X = arr.shape\n",
    "chunk_size_z, chunk_size_y, chunk_size_x = arr.chunks[2], arr.chunks[3], arr.chunks[4]  # Get chunk sizes in Z, Y, X\n",
    "\n",
    "# Crop Z axis\n",
    "z_end = int(0.65 * Z)\n",
    "\n",
    "# Ensure z_end is aligned with chunk boundaries in Z (multiple of 64)\n",
    "z_end_aligned = (z_end // chunk_size_z) * chunk_size_z\n",
    "\n",
    "# Define XY chunking with overlap\n",
    "n_chunks_x = 2\n",
    "n_chunks_y = 2\n",
    "overlap = 600\n",
    "\n",
    "x_chunk_size = X // n_chunks_x\n",
    "y_chunk_size = Y // n_chunks_y\n",
    "\n",
    "output_dir = base_path / fuse_folder\n",
    "os.makedirs(output_dir, exist_ok=True)\n",
    "\n",
    "chunk_id = 0\n",
    "for i in range(n_chunks_y):\n",
    "    for j in range(n_chunks_x):\n",
    "        y_start = max(0, i * y_chunk_size - (overlap if i > 0 else 0))\n",
    "        y_end = min(Y, (i + 1) * y_chunk_size + (overlap if i < n_chunks_y - 1 else 0))\n",
    "        \n",
    "        x_start = max(0, j * x_chunk_size - (overlap if j > 0 else 0))\n",
    "        x_end = min(X, (j + 1) * x_chunk_size + (overlap if j < n_chunks_x - 1 else 0))\n",
    "        \n",
    "        # Slice lazily from Zarr (aligned with chunks)\n",
    "        chunk = arr[:, :, 0:z_end_aligned, y_start:y_end, x_start:x_end]\n",
    "        chunk_np = chunk[:]  # Load into memory\n",
    "        print('done', chunk_id)\n",
    "        # Optional: remove singleton dimensions if C=1 and T=1\n",
    "        if chunk_np.shape[0] == 1 and chunk_np.shape[1] == 1:\n",
    "            chunk_np = chunk_np[0, 0]  # Now shape (Z, Y, X)\n",
    "\n",
    "        # Save as TIFF\n",
    "        output_path = os.path.join(output_dir, f\"chunk_{chunk_id}.tiff\")\n",
    "        tifffile.imwrite(output_path, chunk_np, bigtiff=True)\n",
    "        print(f\"Saved chunk {chunk_id} to {output_path}\")\n",
    "        chunk_id += 1\n"
   ]
  }
 ],
 "metadata": {
  "kernelspec": {
   "display_name": "Python 3",
   "language": "python",
   "name": "python3"
  },
  "language_info": {
   "codemirror_mode": {
    "name": "ipython",
    "version": 3
   },
   "file_extension": ".py",
   "mimetype": "text/x-python",
   "name": "python",
   "nbconvert_exporter": "python",
   "pygments_lexer": "ipython3",
   "version": "3.10.16"
  }
 },
 "nbformat": 4,
 "nbformat_minor": 5
}
