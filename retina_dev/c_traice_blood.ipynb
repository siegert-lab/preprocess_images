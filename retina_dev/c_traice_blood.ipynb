{
 "cells": [
  {
   "cell_type": "code",
   "execution_count": null,
   "id": "a1fe4fc1",
   "metadata": {},
   "outputs": [],
   "source": [
    "%load_ext autoreload\n",
    "%autoreload 2"
   ]
  },
  {
   "cell_type": "code",
   "execution_count": null,
   "id": "b5cc1ac8",
   "metadata": {},
   "outputs": [],
   "source": [
    "import zarr\n",
    "import re\n",
    "import numpy as np\n",
    "import xml.etree.ElementTree as ET\n",
    "from skimage.registration import phase_cross_correlation\n",
    "from scipy.ndimage import shift\n",
    "from scipy.spatial import KDTree\n",
    "from collections import defaultdict, deque\n"
   ]
  },
  {
   "cell_type": "code",
   "execution_count": null,
   "id": "5dbd6525",
   "metadata": {},
   "outputs": [],
   "source": [
    "from pathlib import Path\n",
    "\n",
    "from skimage import exposure\n",
    "import matplotlib.pyplot as plt\n",
    "import tifffile as tiff\n",
    "import numpy as np\n",
    "from skimage.filters import threshold_otsu"
   ]
  },
  {
   "cell_type": "code",
   "execution_count": null,
   "id": "0eb31ed5",
   "metadata": {},
   "outputs": [],
   "source": [
    "# ----- File Paths -----\n",
    "# base_path per OS\n",
    "# macOS\n",
    "base_path = Path(\"/Volumes/tnegrell/group/siegegrp/ThNe/development_retina/\")\n",
    "# Ubuntu\n",
    "# base_path = Path(\"/mnt/gdrive/ThNe/development_retina/\")\n",
    "# Windows\n",
    "# base_path = Path(\"Z:/siegegrp/ThNe/development_retina/\")\n",
    "#debian\n",
    "# base_path = Path(\"/run/user/1009/gvfs/smb-share:server=fs.ista.ac.at,share=drives/tnegrell/group/siegegrp/ThNe/development_retina/\")\n",
    "\n",
    "xml_folder = Path(\"blood/\")\n",
    "file_name = Path(\"P15/F/L/blood_Age_P15_Sex_F_Side_L_Animal_1\")\n",
    "\n",
    "file_path = base_path / xml_folder / file_name\n",
    "\n",
    "tif_path = file_path.with_suffix(\".tif\")\n"
   ]
  },
  {
   "cell_type": "code",
   "execution_count": null,
   "id": "1a345ee7",
   "metadata": {},
   "outputs": [],
   "source": [
    "# img = tiff.imread(tif_path)\n"
   ]
  },
  {
   "cell_type": "code",
   "execution_count": null,
   "id": "e47bebfa",
   "metadata": {},
   "outputs": [],
   "source": [
    "img.shape"
   ]
  },
  {
   "cell_type": "code",
   "execution_count": null,
   "id": "730e03d5",
   "metadata": {},
   "outputs": [],
   "source": [
    "blood_img = img[4:40]"
   ]
  },
  {
   "cell_type": "code",
   "execution_count": null,
   "id": "7088eaa7",
   "metadata": {},
   "outputs": [],
   "source": [
    "blood_img.shape"
   ]
  },
  {
   "cell_type": "code",
   "execution_count": null,
   "id": "9f9cf813",
   "metadata": {},
   "outputs": [],
   "source": [
    "blood_sample = blood_img[:, 5000:6000,3000:4000]"
   ]
  },
  {
   "cell_type": "code",
   "execution_count": null,
   "id": "47bb62ae",
   "metadata": {},
   "outputs": [],
   "source": [
    "blood_sample.shape"
   ]
  },
  {
   "cell_type": "code",
   "execution_count": null,
   "id": "608126b6",
   "metadata": {},
   "outputs": [],
   "source": [
    "binary.shape"
   ]
  },
  {
   "cell_type": "code",
   "execution_count": null,
   "id": "8de129ba",
   "metadata": {},
   "outputs": [],
   "source": [
    "import numpy as np\n",
    "\n",
    "# Assuming:\n",
    "# - `tile_clahe` is your processed raw image after equalize_adapthist\n",
    "# - `binary` is the thresholded vessel mask\n",
    "\n",
    "np.save(\"../data/raw_image.npy\", blood_sample)\n",
    "np.save(\"../data/vessels_binary.npy\", binary)\n"
   ]
  },
  {
   "cell_type": "code",
   "execution_count": null,
   "id": "9450cb58",
   "metadata": {},
   "outputs": [],
   "source": [
    "np.save(\"../data/tile_clahe.npy\", tile_clahe[27]\n",
    ")\n"
   ]
  },
  {
   "cell_type": "code",
   "execution_count": null,
   "id": "566fa2d1",
   "metadata": {},
   "outputs": [],
   "source": [
    "import numpy as np\n",
    "import matplotlib.pyplot as plt\n",
    "\n",
    "# Assuming blood_sample is your raw 3D image loaded as a NumPy array\n",
    "\n",
    "# Select the middle slice along the first dimension\n",
    "slice_idx = blood_sample.shape[0] // 2\n",
    "slice_image = blood_sample[27]\n",
    "\n",
    "# Plot the histogram of the pixel intensities.\n",
    "plt.figure(figsize=(8, 6))\n",
    "plt.hist(slice_image.ravel(), bins=256, color='gray', edgecolor='black')\n",
    "plt.title(\"Histogram of Pixel Intensities (Middle Slice)\")\n",
    "plt.xlabel(\"Pixel Intensity\")\n",
    "plt.ylabel(\"Frequency\")\n",
    "plt.show()\n"
   ]
  },
  {
   "cell_type": "code",
   "execution_count": null,
   "id": "57e5c180",
   "metadata": {},
   "outputs": [],
   "source": [
    "import numpy as np\n",
    "import matplotlib.pyplot as plt\n",
    "from skimage import exposure, filters\n",
    "from numpy.fft import fftn, ifftn, fftshift, ifftshift\n",
    "\n",
    "# --- Ensure blood_sample is your raw 3D image ---\n",
    "# For example:\n",
    "# blood_sample = your_loading_function(\"path/to/your/3D_image_file\")\n",
    "\n",
    "# We'll use the middle slice from the first dimension for visualization.\n",
    "slice_idx = blood_sample.shape[0] // 2\n",
    "slice_idx = 27\n",
    "# -----------------------------\n",
    "# Step 0: Visualize the raw image middle slice\n",
    "plt.figure(figsize=(6, 6))\n",
    "plt.imshow(blood_sample[slice_idx], cmap='gray')\n",
    "plt.title(\"Raw Image - Middle Slice\")\n",
    "plt.axis('off')\n",
    "plt.show()\n",
    "\n",
    "# -----------------------------\n",
    "# Step 1: Apply CLAHE (Contrast-Limited Adaptive Histogram Equalization)\n",
    "tile_clahe = exposure.equalize_adapthist(blood_sample, clip_limit=0.01)\n",
    "\n",
    "plt.figure(figsize=(6, 6))\n",
    "plt.imshow(tile_clahe[slice_idx], cmap='gray')\n",
    "plt.title(\"CLAHE Applied Image - Middle Slice\")\n",
    "plt.axis('off')\n",
    "plt.show()\n",
    "\n",
    "# -----------------------------\n",
    "# Step 2: Fourier Transform of the CLAHE image\n",
    "f_img = fftn(tile_clahe)\n",
    "f_img_shifted = fftshift(f_img)\n",
    "\n",
    "# -----------------------------\n",
    "# Step 3: Create a low-pass filter mask (to keep vessel-scale features)\n",
    "shape = tile_clahe.shape\n",
    "center = np.array(shape) // 2\n",
    "radius = 70  # adjust this value based on the spatial frequency of the noise/features\n",
    "\n",
    "# Build a 3D grid and compute the Euclidean distance from the center for each voxel\n",
    "Z, Y, X = np.ogrid[:shape[0], :shape[1], :shape[2]]\n",
    "dist_from_center = np.sqrt((Z - center[0])**2 + (Y - center[1])**2 + (X - center[2])**2)\n",
    "mask = dist_from_center <= radius\n",
    "\n",
    "# -----------------------------\n",
    "# Step 4: Apply the mask and perform inverse FFT to get the filtered image\n",
    "f_img_filtered = f_img_shifted * mask\n",
    "f_ishift = ifftshift(f_img_filtered)\n",
    "img_filtered = np.abs(ifftn(f_ishift))\n",
    "\n",
    "plt.figure(figsize=(6, 6))\n",
    "plt.imshow(img_filtered[slice_idx], cmap='gray')\n",
    "plt.title(\"Filtered Image via iFFT - Middle Slice\")\n",
    "plt.axis('off')\n",
    "plt.show()\n",
    "\n",
    "# -----------------------------\n",
    "# Step 5: Threshold the filtered image using Otsu's method\n",
    "threshold = filters.threshold_otsu(img_filtered)\n",
    "binary = img_filtered > threshold\n",
    "\n",
    "plt.figure(figsize=(6, 6))\n",
    "plt.imshow(binary[slice_idx], cmap='gray')\n",
    "plt.title(\"Binary Image after Thresholding - Middle Slice\")\n",
    "plt.axis('off')\n",
    "plt.show()\n"
   ]
  },
  {
   "cell_type": "code",
   "execution_count": null,
   "id": "4a7080a0",
   "metadata": {},
   "outputs": [],
   "source": [
    "binary.shape"
   ]
  },
  {
   "cell_type": "code",
   "execution_count": null,
   "id": "bd6d75fe",
   "metadata": {},
   "outputs": [],
   "source": [
    "# Visualize a slice\n",
    "for i in [22, 24, 26, 28, 30, 32, 34]:\n",
    "\n",
    "    plt.imshow(binary[i], cmap='gray')\n",
    "    plt.title('Middle Z Slice - Vessel Segmentation')\n",
    "    plt.axis('off')\n",
    "    plt.show()"
   ]
  },
  {
   "cell_type": "code",
   "execution_count": null,
   "id": "65845914",
   "metadata": {},
   "outputs": [],
   "source": [
    "img_filtered.shape"
   ]
  },
  {
   "cell_type": "code",
   "execution_count": null,
   "id": "6657c7b9",
   "metadata": {},
   "outputs": [],
   "source": [
    "blood_sample_clahe = exposure.equalize_adapthist(blood_sample, clip_limit=0.3)\n",
    "blood_sample_rescaled = exposure.rescale_intensity(blood_sample, out_range=(0, 1))\n"
   ]
  },
  {
   "cell_type": "code",
   "execution_count": null,
   "id": "0dacbc72",
   "metadata": {},
   "outputs": [],
   "source": [
    "blood_sample_rescaled.shape"
   ]
  },
  {
   "cell_type": "code",
   "execution_count": null,
   "id": "0eebd8c0",
   "metadata": {},
   "outputs": [],
   "source": [
    "\n",
    "for tile in blood_sample_rescaled[20:26]:\n",
    "    plt.figure(figsize=(6, 6))\n",
    "    plt.imshow(tile, cmap='gray')\n",
    "    plt.title(\"Rescaled Contrast\")\n",
    "    plt.axis('off')\n",
    "    plt.show()"
   ]
  },
  {
   "cell_type": "code",
   "execution_count": null,
   "id": "b6bd0e92",
   "metadata": {},
   "outputs": [],
   "source": [
    "blood_sample_rescaled[20:26].shape"
   ]
  },
  {
   "cell_type": "code",
   "execution_count": null,
   "id": "8308c02c",
   "metadata": {},
   "outputs": [],
   "source": [
    "import numpy as np\n",
    "import matplotlib.pyplot as plt\n",
    "from skimage import exposure, filters\n",
    "\n",
    "# --- Assuming blood_sample is your raw 3D image ---\n",
    "# For example, if blood_sample is not already in [0, 1], you can rescale its intensities:\n",
    "# blood_sample_rescaled = exposure.rescale_intensity(blood_sample, out_range=(0, 1))\n",
    "\n",
    "# --- Frangi Vesselness Filter ---\n",
    "# The Frangi filter analyzes the Hessian matrix at multiple scales to enhance tubular structures.\n",
    "# scale_range sets the minimum and maximum scales to analyze, while scale_step is the increment.\n",
    "# Set black_ridges to True if vessels are darker than the background;\n",
    "# here, False is used if vessels are bright on a dark background.\n",
    "\n",
    "# alpha\n",
    "# Frangi correction constant that adjusts the filter’s sensitivity to deviation from a plate-like structure.\n",
    "# beta\n",
    "# Frangi correction constant that adjusts the filter’s sensitivity to deviation from a blob-like structure.\n",
    "# gamma\n",
    "# Frangi correction constant that adjusts the filter’s sensitivity to areas of high variance/texture/structure. \n",
    "\n",
    "# The default, None, uses half of the maximum Hessian norm.\n",
    "vesselness = filters.frangi(blood_sample_rescaled[20:26], sigmas=range(1, 10, 2), \n",
    "                       scale_range=None, \n",
    "                       scale_step=None, \n",
    "                       alpha=0.1,\n",
    "                         beta=0.1, \n",
    "                         gamma=0.1, \n",
    "                         black_ridges=False, \n",
    "                         mode='reflect', \n",
    "                         cval=0)\n",
    "# --- Visualization ---\n",
    "# We'll display a middle slice from the 3D volume for visualization.\n",
    "slice_idx = vesselness.shape[0] // 2\n",
    "\n",
    "plt.figure(figsize=(8, 8))\n",
    "plt.imshow(vesselness[slice_idx], cmap='gray')\n",
    "plt.title(\"Frangi Vessel Enhancement (Middle Slice)\")\n",
    "plt.axis('off')\n",
    "plt.show()\n"
   ]
  },
  {
   "cell_type": "code",
   "execution_count": null,
   "id": "75f17131",
   "metadata": {},
   "outputs": [],
   "source": [
    "vesselness.shape"
   ]
  },
  {
   "cell_type": "code",
   "execution_count": null,
   "id": "41af89ab",
   "metadata": {},
   "outputs": [],
   "source": [
    "# blood_sample_clahe = exposure.equalize_adapthist(blood_sample, clip_limit=0.3)\n",
    "\n",
    "for tile in vesselness:\n",
    "    # tile = vesselness[i]\n",
    "    plt.figure(figsize=(6, 6))\n",
    "    plt.imshow(tile, cmap='gray')\n",
    "    plt.title(\"Rescaled Contrast\")\n",
    "    plt.axis('off')\n",
    "    plt.show()"
   ]
  },
  {
   "cell_type": "code",
   "execution_count": null,
   "id": "d7cea002",
   "metadata": {},
   "outputs": [],
   "source": [
    "vesselness_sato = filters.sato(blood_sample_rescaled[20:26])\n",
    "plt.figure(figsize=(8, 8))\n",
    "plt.imshow(vesselness_sato[slice_idx], cmap='gray')\n",
    "plt.title(\"Sato Vessel Enhancement (Middle Slice)\")\n",
    "plt.axis('off')\n",
    "plt.show()\n"
   ]
  },
  {
   "cell_type": "code",
   "execution_count": null,
   "id": "b3c67f64",
   "metadata": {},
   "outputs": [],
   "source": [
    "# blood_sample_clahe = exposure.equalize_adapthist(blood_sample, clip_limit=0.3)\n",
    "\n",
    "import matplotlib.pyplot as plt\n",
    "\n",
    "# Assuming blood_sample_rescaled and vesselness_sato are 3D NumPy arrays.\n",
    "# We iterate over the same slices in both arrays.\n",
    "for raw_slice, filtered_slice in zip(blood_sample_rescaled[20:26], vesselness_sato):\n",
    "    # Create a figure with two subplots (side-by-side)\n",
    "    fig, axs = plt.subplots(1, 2, figsize=(12, 6))\n",
    "    \n",
    "    # Display the raw, rescaled image\n",
    "    axs[0].imshow(raw_slice, cmap='gray')\n",
    "    axs[0].set_title('Raw Image')\n",
    "    axs[0].axis('off')\n",
    "    \n",
    "    # Display the vesselness (Sato filtered) image\n",
    "    axs[1].imshow(filtered_slice, cmap='gray')\n",
    "    axs[1].set_title('Sato Filtered')\n",
    "    axs[1].axis('off')\n",
    "    \n",
    "    plt.show()\n"
   ]
  },
  {
   "cell_type": "code",
   "execution_count": null,
   "id": "800459a1",
   "metadata": {},
   "outputs": [],
   "source": [
    "from scipy.ndimage import gaussian_filter\n",
    "denoised = gaussian_filter(blood_sample_rescaled, sigma=1)"
   ]
  },
  {
   "cell_type": "code",
   "execution_count": null,
   "id": "dfca8b60",
   "metadata": {},
   "outputs": [],
   "source": [
    "# blood_sample_clahe = exposure.equalize_adapthist(blood_sample, clip_limit=0.3)\n",
    "\n",
    "for tile in vesselness:\n",
    "    # tile = vesselness[i]\n",
    "    plt.figure(figsize=(6, 6))\n",
    "    plt.imshow(tile, cmap='gray')\n",
    "    plt.title(\"Rescaled Contrast\")\n",
    "    plt.axis('off')\n",
    "    plt.show()"
   ]
  },
  {
   "cell_type": "code",
   "execution_count": null,
   "id": "fbd256b0",
   "metadata": {},
   "outputs": [],
   "source": [
    "with tiff.TiffFile(tif_path) as tif:\n",
    "    # Check how many slices (Z-dimension) the image has\n",
    "    num_slices = len(tif.pages)\n",
    "    print(\"Number of Z-slices:\", num_slices)\n",
    "    \n",
    "    # Load a single slice (e.g., middle slice)\n",
    "    z_index = num_slices // 2  # or choose another index\n",
    "    single_slice = tif.pages[z_index].asarray()\n",
    "\n",
    "# Now you can display it or process it\n",
    "plt.imshow(single_slice, cmap='gray')\n",
    "plt.title(f\"Z-slice {z_index}\")\n",
    "plt.show()"
   ]
  }
 ],
 "metadata": {
  "kernelspec": {
   "display_name": "preprocess-img",
   "language": "python",
   "name": "python3"
  },
  "language_info": {
   "codemirror_mode": {
    "name": "ipython",
    "version": 3
   },
   "file_extension": ".py",
   "mimetype": "text/x-python",
   "name": "python",
   "nbconvert_exporter": "python",
   "pygments_lexer": "ipython3",
   "version": "3.10.16"
  }
 },
 "nbformat": 4,
 "nbformat_minor": 5
}
